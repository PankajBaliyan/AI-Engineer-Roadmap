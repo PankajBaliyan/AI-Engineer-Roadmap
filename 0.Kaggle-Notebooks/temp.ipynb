{
 "cells": [
  {
   "cell_type": "code",
   "id": "initial_id",
   "metadata": {
    "collapsed": true,
    "ExecuteTime": {
     "end_time": "2024-12-11T18:43:57.377904Z",
     "start_time": "2024-12-11T18:43:57.356382Z"
    }
   },
   "source": [
    "# Bubble Sort\n",
    "arr = [1,3,2,4,1]\n",
    "\n",
    "def bubble_sort(rec_arr):\n",
    "    return rec_arr\n",
    "\n",
    "sorted_arr = bubble_sort(arr)\n",
    "sorted_arr\n"
   ],
   "outputs": [
    {
     "data": {
      "text/plain": [
       "[1, 3, 2, 4, 1]"
      ]
     },
     "execution_count": 2,
     "metadata": {},
     "output_type": "execute_result"
    }
   ],
   "execution_count": 2
  }
 ],
 "metadata": {
  "kernelspec": {
   "display_name": "Python 3",
   "language": "python",
   "name": "python3"
  },
  "language_info": {
   "codemirror_mode": {
    "name": "ipython",
    "version": 2
   },
   "file_extension": ".py",
   "mimetype": "text/x-python",
   "name": "python",
   "nbconvert_exporter": "python",
   "pygments_lexer": "ipython2",
   "version": "2.7.6"
  }
 },
 "nbformat": 4,
 "nbformat_minor": 5
}
