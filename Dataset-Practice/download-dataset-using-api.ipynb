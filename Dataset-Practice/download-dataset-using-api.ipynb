{
 "cells": [
  {
   "cell_type": "code",
   "execution_count": 8,
   "metadata": {},
   "outputs": [
    {
     "name": "stdout",
     "output_type": "stream",
     "text": [
      "Dataset URL: https://www.kaggle.com/datasets/vipullrathod/fish-market\n"
     ]
    }
   ],
   "source": [
    "import kaggle\n",
    "\n",
    "# Authenticate api\n",
    "kaggle.api.authenticate()\n",
    "\n",
    "# list datasets\n",
    "kaggle.api.dataset_list()\n",
    "\n",
    "# check for fish-market dataset\n",
    "kaggle.api.dataset_list(search='fish-market')\n",
    "\n",
    "# https://www.kaggle.com/datasets/vipullrathod/fish-market\n",
    "\n",
    "# download dataset (fish-market)\n",
    "kaggle.api.dataset_download_files('vipullrathod/fish-market', path='.', unzip=True)"
   ]
  }
 ],
 "metadata": {
  "kernelspec": {
   "display_name": "AI-Engineer-Roadmap-9EaXoWEH",
   "language": "python",
   "name": "python3"
  },
  "language_info": {
   "codemirror_mode": {
    "name": "ipython",
    "version": 3
   },
   "file_extension": ".py",
   "mimetype": "text/x-python",
   "name": "python",
   "nbconvert_exporter": "python",
   "pygments_lexer": "ipython3",
   "version": "3.12.6"
  }
 },
 "nbformat": 4,
 "nbformat_minor": 2
}
