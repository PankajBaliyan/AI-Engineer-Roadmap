{
 "cells": [
  {
   "cell_type": "code",
   "execution_count": 2,
   "metadata": {},
   "outputs": [
    {
     "name": "stdout",
     "output_type": "stream",
     "text": [
      "Twinkle, twinkle, little star,\n",
      "      How I wonder what you are! \n",
      "      Up above the world so high,   \t\t\n",
      "      Like a diamond in the sky. \n",
      "      Twinkle, twinkle, little star, \n",
      "      How I wonder what you are\n",
      "      When the blazing sun is gone, \n",
      "      When he nothing shines upon, \n",
      "      Then you show your little light, \n",
      "      Twinkle, twinkle, all the night. \n",
      "      Then the traveller in the dark, \n",
      "      Thanks you for your tiny spark, \n",
      "      He has brought goodness in your home, \n",
      "      Twinkle, twinkle, little star, \n",
      "      How I wonder what you are! \n",
      "      Up above the world so high, \n",
      "      Like a diamond in the sky. \n",
      "      Twinkle, twinkle, little star, \n",
      "      How I wonder what you are\n"
     ]
    }
   ],
   "source": [
    "# Write a program to print Twinkle twinkle little star poem in python\n",
    "print(\n",
    "    \"\"\"Twinkle, twinkle, little star,\n",
    "      How I wonder what you are! \n",
    "      Up above the world so high,   \t\t\n",
    "      Like a diamond in the sky. \n",
    "      Twinkle, twinkle, little star, \n",
    "      How I wonder what you are\n",
    "      When the blazing sun is gone, \n",
    "      When he nothing shines upon, \n",
    "      Then you show your little light, \n",
    "      Twinkle, twinkle, all the night. \n",
    "      Then the traveller in the dark, \n",
    "      Thanks you for your tiny spark, \n",
    "      He has brought goodness in your home, \n",
    "      Twinkle, twinkle, little star, \n",
    "      How I wonder what you are! \n",
    "      Up above the world so high, \n",
    "      Like a diamond in the sky. \n",
    "      Twinkle, twinkle, little star, \n",
    "      How I wonder what you are\"\"\"\n",
    ")"
   ]
  },
  {
   "cell_type": "code",
   "execution_count": 12,
   "metadata": {},
   "outputs": [
    {
     "name": "stdout",
     "output_type": "stream",
     "text": [
      "Ivy\n",
      "Captain1\n",
      "Captain3\n",
      "Alex\n"
     ]
    }
   ],
   "source": [
    "def losing_team_captain(teams):\n",
    "    \"\"\"Given a list of teams, where each team is a list of names, return the 2nd player (captain)\n",
    "    from the last listed team\n",
    "    \"\"\"\n",
    "    last_team = teams[-1:]\n",
    "    retrieve_team = last_team[0]\n",
    "    return retrieve_team[1] if len(retrieve_team) >= 2 else None\n",
    "\n",
    "\n",
    "# Test Case 1: Standard case with multiple teams\n",
    "teams1 = [\n",
    "    [\"Alice\", \"Bob\", \"Charlie\", \"David\"],  # Best team\n",
    "    [\"Eve\", \"Frank\", \"Grace\"],  # Second-best team\n",
    "    [\"Hank\", \"Ivy\", \"Jack\"],  # Worst team\n",
    "]\n",
    "print(losing_team_captain(teams1))  # Expected: \"Ivy\"\n",
    "\n",
    "# Test Case 2: Only one team\n",
    "teams2 = [[\"Coach1\", \"Captain1\", \"Player1\", \"Player2\"]]\n",
    "print(losing_team_captain(teams2))  # Expected: \"Captain1\"\n",
    "\n",
    "# Test Case 3: Teams with varying numbers of members\n",
    "teams3 = [\n",
    "    [\"Coach2\", \"Captain2\"],  # Best team\n",
    "    [\"Coach3\", \"Captain3\", \"Player3\"],  # Worst team\n",
    "]\n",
    "print(losing_team_captain(teams3))  # Expected: \"Captain3\"\n",
    "\n",
    "# Test Case 4: Edge case with empty lists (should handle gracefully)\n",
    "teams4 = [[\"Coach4\", \"Captain4\"], []]  # Best team  # Worst team (Empty)\n",
    "# This case might raise an error. You can add validation in your function to handle this.\n",
    "# Expected: Error or a specific handling (depending on your implementation).\n",
    "\n",
    "# Test Case 5: All teams with same captain name\n",
    "teams5 = [\n",
    "    [\"CoachA\", \"Alex\", \"PlayerA\"],\n",
    "    [\"CoachB\", \"Alex\", \"PlayerB\"],\n",
    "    [\"CoachC\", \"Alex\", \"PlayerC\"],  # Worst team\n",
    "]\n",
    "print(losing_team_captain(teams5))  # Expected: \"Alex\""
   ]
  },
  {
   "cell_type": "code",
   "execution_count": 13,
   "metadata": {},
   "outputs": [
    {
     "name": "stdout",
     "output_type": "stream",
     "text": [
      "['Luigi', 'Bowser', 'Mario']\n"
     ]
    }
   ],
   "source": [
    "def purple_shell(racers):\n",
    "    racers[0], racers[-1] = racers[-1], racers[0]\n",
    "    return racers\n",
    "\n",
    "racers = [\"Mario\", \"Bowser\", \"Luigi\"]\n",
    "print(purple_shell(racers))  # Should be [\"Luigi\", \"Bowser\", \"Mario\"]"
   ]
  },
  {
   "cell_type": "code",
   "execution_count": 16,
   "metadata": {},
   "outputs": [
    {
     "name": "stdout",
     "output_type": "stream",
     "text": [
      "3\n",
      "2\n",
      "0\n",
      "2\n"
     ]
    }
   ],
   "source": [
    "a = [1, 2, 3]\n",
    "b = [1, [2, 3]]\n",
    "c = []\n",
    "d = [1, 2, 3][1:]\n",
    "\n",
    "print(len(a))\n",
    "print(len(b))\n",
    "print(len(c))\n",
    "print(len(d))\n",
    "\n",
    "# [1,2,3][1:] = [2,3], it is a list with 2 elements, so the length is 2\n",
    "# the 1: means that it will start from the second element and go to the end of the list"
   ]
  },
  {
   "cell_type": "code",
   "execution_count": 32,
   "metadata": {},
   "outputs": [
    {
     "name": "stdout",
     "output_type": "stream",
     "text": [
      "['Mona', 'Gilbert', 'Ford']\n",
      "False\n",
      "['Mona', 'Gilbert', 'Ford']\n",
      "True\n"
     ]
    }
   ],
   "source": [
    "def fashionably_late(arrivals, name):\n",
    "    \"\"\"Given an ordered list of arrivals to the party and a name, return whether the guest with that\n",
    "    name was fashionably late.\n",
    "    \"\"\"\n",
    "    total_arrivals = len(arrivals)\n",
    "    fashionably_last_list = arrivals[(round((total_arrivals) / 2)) :]\n",
    "    print(fashionably_last_list)\n",
    "    return True if name in fashionably_last_list else False\n",
    "\n",
    "# Test case 1\n",
    "arrivals1 = ['Adela', 'Fleda', 'Owen', 'May', 'Mona', 'Gilbert', 'Ford']\n",
    "name1 = 'May'\n",
    "# Expected: True\n",
    "print(fashionably_late(arrivals1, name1))\n",
    "\n",
    "# Test case 2\n",
    "arrivals2 = ['Adela', 'Fleda', 'Owen', 'May', 'Mona', 'Gilbert', 'Ford']\n",
    "name2 = 'Gilbert'\n",
    "# Expected: False\n",
    "print(fashionably_late(arrivals2, name2))\n",
    "\n",
    "# [[\"Adela\", \"Fleda\", \"Owen\", \"May\", \"Mona\", \"Gilbert\", \"Ford\"], \"Adela\"]"
   ]
  },
  {
   "cell_type": "code",
   "execution_count": 30,
   "metadata": {},
   "outputs": [
    {
     "name": "stdout",
     "output_type": "stream",
     "text": [
      "7\n"
     ]
    }
   ],
   "source": [
    "print(round(7.3))"
   ]
  },
  {
   "cell_type": "code",
   "execution_count": 37,
   "metadata": {},
   "outputs": [
    {
     "name": "stdout",
     "output_type": "stream",
     "text": [
      "True\n",
      "False\n"
     ]
    }
   ],
   "source": [
    "def has_lucky_number(nums):\n",
    "    \"\"\"Return whether the given list of numbers is lucky. A lucky list contains\n",
    "    at least one number divisible by 7.\n",
    "    \"\"\"\n",
    "    if len(nums) == 0:\n",
    "        return False\n",
    "\n",
    "    for num in nums:\n",
    "        if num % 7 == 0:\n",
    "            return True\n",
    "    return False\n",
    "\n",
    "# Test cases\n",
    "print(has_lucky_number([1, 2, 3, 4, 5, 6, 7]))  # Expected: True\n",
    "print(has_lucky_number([1, 2, 3, 4, 5, 6, 8]))  # Expected: False"
   ]
  },
  {
   "cell_type": "code",
   "execution_count": null,
   "metadata": {},
   "outputs": [],
   "source": [
    "def estimate_average_slot_payout(n_runs):\n",
    "    # Play slot machine n_runs times, calculate payout of each\n",
    "    payouts = [play_slot_machine() - 1 for i in range(n_runs)]\n",
    "    # Calculate the average value\n",
    "    avg_payout = sum(payouts) / n_runs\n",
    "    return avg_payout\n",
    "\n",
    "#     for n in range(len(n_runs)):\n",
    "#         result = play_slot_machine()\n",
    "\n",
    "def play_slot_machine():\n",
    "    return 0"
   ]
  },
  {
   "cell_type": "code",
   "execution_count": 39,
   "metadata": {},
   "outputs": [
    {
     "name": "stdout",
     "output_type": "stream",
     "text": [
      "1\n"
     ]
    }
   ],
   "source": [
    "e = \"\\n\"\n",
    "length = len(e)\n",
    "print(length)"
   ]
  },
  {
   "cell_type": "code",
   "execution_count": 46,
   "metadata": {},
   "outputs": [
    {
     "name": "stdout",
     "output_type": "stream",
     "text": [
      "True\n",
      "False\n",
      "False\n",
      "False\n"
     ]
    }
   ],
   "source": [
    "def is_valid_zip(zip_code):\n",
    "    \"\"\"Returns whether the input string is a valid (5 digit) zip code\"\"\"\n",
    "    #     return True if len(zip_code) == 5 else False\n",
    "    for digit in zip_code:\n",
    "        if not digit.isdigit():\n",
    "            return False\n",
    "\n",
    "    return True if len(zip_code) == 5 else False\n",
    "\n",
    "# Test cases\n",
    "print(is_valid_zip(\"12345\"))  # Expected: True\n",
    "print(is_valid_zip(\"1234\"))  # Expected: False\n",
    "print(is_valid_zip(\"123456\"))  # Expected: False\n",
    "print(is_valid_zip(\"abcde\"))  # Expected: False"
   ]
  },
  {
   "cell_type": "code",
   "execution_count": 6,
   "metadata": {},
   "outputs": [
    {
     "name": "stdout",
     "output_type": "stream",
     "text": [
      "[0]\n"
     ]
    }
   ],
   "source": [
    "def word_search(doc_list, keyword):\n",
    "    indices = []\n",
    "    for i, doc in enumerate(doc_list):\n",
    "        tokens = doc.split() # Split the document into words\n",
    "        normalized = [token.rstrip('.,').lower() for token in tokens]\n",
    "        # rsstrip() removes trailing characters from the string\n",
    "        if keyword.lower() in normalized:\n",
    "            indices.append(i)\n",
    "    return indices\n",
    "\n",
    "# Test case\n",
    "doc_list = [\"The Learn Python Challenge Casino.\", \"They bought a car\", \"Casinoville\"]\n",
    "print(word_search(doc_list, 'casino'))  # Expected: [0]"
   ]
  },
  {
   "cell_type": "code",
   "execution_count": 12,
   "metadata": {},
   "outputs": [
    {
     "name": "stdout",
     "output_type": "stream",
     "text": [
      "['The Learn Python Challenge Casino.', 'They bought a car and a casino', 'Casinoville']\n",
      "['casino', 'they']\n",
      "{'casino': [0, 1], 'they': [1]}\n",
      "None\n"
     ]
    }
   ],
   "source": [
    "def word_search(doc_list, keyword):\n",
    "    print(doc_list)\n",
    "    print(keyword)\n",
    "    my_dict = {}\n",
    "    for single_keyword in keyword:\n",
    "        result = single_word_search(doc_list, single_keyword)\n",
    "        my_dict[single_keyword] = result\n",
    "    print(my_dict)\n",
    "\n",
    "\n",
    "def single_word_search(doc_list, keyword):\n",
    "    indices = []\n",
    "    for i, doc in enumerate(doc_list):\n",
    "        tokens = doc.split()  # Split the document into words\n",
    "        normalized = [token.rstrip(\".,\").lower() for token in tokens]\n",
    "        # rsstrip() removes trailing characters from the string\n",
    "        if keyword.lower() in normalized:\n",
    "            indices.append(i)\n",
    "    return indices\n",
    "\n",
    "\n",
    "# Test case\n",
    "doc_list = [\n",
    "    \"The Learn Python Challenge Casino.\",\n",
    "    \"They bought a car and a casino\",\n",
    "    \"Casinoville\",\n",
    "]\n",
    "print(word_search(doc_list, [\"casino\", \"they\"]))"
   ]
  },
  {
   "cell_type": "code",
   "execution_count": 13,
   "metadata": {},
   "outputs": [
    {
     "name": "stdout",
     "output_type": "stream",
     "text": [
      "It's math! It has type <class 'module'>\n"
     ]
    }
   ],
   "source": [
    "import math\n",
    "\n",
    "print(\"It's math! It has type {}\".format(type(math)))"
   ]
  },
  {
   "cell_type": "code",
   "execution_count": 15,
   "metadata": {},
   "outputs": [
    {
     "name": "stdout",
     "output_type": "stream",
     "text": [
      "['__doc__', '__file__', '__loader__', '__name__', '__package__', '__spec__', 'acos', 'acosh', 'asin', 'asinh', 'atan', 'atan2', 'atanh', 'cbrt', 'ceil', 'comb', 'copysign', 'cos', 'cosh', 'degrees', 'dist', 'e', 'erf', 'erfc', 'exp', 'exp2', 'expm1', 'fabs', 'factorial', 'floor', 'fmod', 'frexp', 'fsum', 'gamma', 'gcd', 'hypot', 'inf', 'isclose', 'isfinite', 'isinf', 'isnan', 'isqrt', 'lcm', 'ldexp', 'lgamma', 'log', 'log10', 'log1p', 'log2', 'modf', 'nan', 'nextafter', 'perm', 'pi', 'pow', 'prod', 'radians', 'remainder', 'sin', 'sinh', 'sqrt', 'sumprod', 'tan', 'tanh', 'tau', 'trunc', 'ulp']\n",
      "pi to 4 significant digits = 3.142\n"
     ]
    }
   ],
   "source": [
    "print(dir(math))\n",
    "print(\"pi to 4 significant digits = {:.4}\".format(math.pi))"
   ]
  },
  {
   "cell_type": "code",
   "execution_count": 16,
   "metadata": {},
   "outputs": [
    {
     "name": "stdout",
     "output_type": "stream",
     "text": [
      "Help on built-in function log in module math:\n",
      "\n",
      "log(...)\n",
      "    log(x, [base=math.e])\n",
      "    Return the logarithm of x to the given base.\n",
      "\n",
      "    If the base is not specified, returns the natural logarithm (base e) of x.\n",
      "\n"
     ]
    }
   ],
   "source": [
    "help(math.log)"
   ]
  },
  {
   "cell_type": "code",
   "execution_count": 17,
   "metadata": {},
   "outputs": [
    {
     "data": {
      "text/plain": [
       "3.141592653589793"
      ]
     },
     "execution_count": 17,
     "metadata": {},
     "output_type": "execute_result"
    }
   ],
   "source": [
    "import math as mt\n",
    "\n",
    "mt.pi"
   ]
  },
  {
   "cell_type": "code",
   "execution_count": 22,
   "metadata": {},
   "outputs": [
    {
     "name": "stdout",
     "output_type": "stream",
     "text": [
      "['AbstractContextManager', 'Annotation', 'Arrow', 'Artist', 'AutoLocator', 'AxLine', 'Axes', 'BackendFilter', 'Button', 'Circle', 'Colormap', 'Enum', 'ExitStack', 'Figure', 'FigureBase', 'FigureCanvasBase', 'FigureManagerBase', 'FixedFormatter', 'FixedLocator', 'FormatStrFormatter', 'Formatter', 'FuncFormatter', 'GridSpec', 'IndexLocator', 'Line2D', 'LinearLocator', 'Locator', 'LogFormatter', 'LogFormatterExponent', 'LogFormatterMathtext', 'LogLocator', 'MaxNLocator', 'MouseButton', 'MultipleLocator', 'Normalize', 'NullFormatter', 'NullLocator', 'PolarAxes', 'Polygon', 'Rectangle', 'ScalarFormatter', 'Slider', 'Subplot', 'SubplotSpec', 'TYPE_CHECKING', 'Text', 'TickHelper', 'Widget', '_NO_PYPLOT_NOTE', '_REPL_DISPLAYHOOK', '_ReplDisplayHook', '__annotations__', '__builtins__', '__cached__', '__doc__', '__file__', '__loader__', '__name__', '__package__', '__spec__', '_add_pyplot_note', '_api', '_auto_draw_if_interactive', '_backend_mod', '_color_sequences', '_colormaps', '_copy_docstring_and_deprecators', '_docstring', '_draw_all_if_interactive', '_get_backend_mod', '_get_pyplot_commands', '_log', '_pylab_helpers', '_warn_if_gui_out_of_main_thread', 'acorr', 'angle_spectrum', 'annotate', 'annotations', 'arrow', 'autoscale', 'autumn', 'axes', 'axhline', 'axhspan', 'axis', 'axline', 'axvline', 'axvspan', 'backend_registry', 'bar', 'bar_label', 'barbs', 'barh', 'bone', 'box', 'boxplot', 'broken_barh', 'cast', 'cbook', 'cla', 'clabel', 'clf', 'clim', 'close', 'cm', 'cohere', 'color_sequences', 'colorbar', 'colormaps', 'connect', 'contour', 'contourf', 'cool', 'copper', 'csd', 'cycler', 'delaxes', 'disconnect', 'draw', 'draw_all', 'draw_if_interactive', 'ecdf', 'errorbar', 'eventplot', 'figaspect', 'figimage', 'figlegend', 'fignum_exists', 'figtext', 'figure', 'fill', 'fill_between', 'fill_betweenx', 'findobj', 'flag', 'functools', 'gca', 'gcf', 'gci', 'get', 'get_backend', 'get_cmap', 'get_current_fig_manager', 'get_figlabels', 'get_fignums', 'get_plot_commands', 'get_scale_names', 'getp', 'ginput', 'gray', 'grid', 'hexbin', 'hist', 'hist2d', 'hlines', 'hot', 'hsv', 'importlib', 'imread', 'imsave', 'imshow', 'inferno', 'inspect', 'install_repl_displayhook', 'interactive', 'ioff', 'ion', 'isinteractive', 'jet', 'legend', 'locator_params', 'logging', 'loglog', 'magma', 'magnitude_spectrum', 'margins', 'matplotlib', 'matshow', 'minorticks_off', 'minorticks_on', 'mlab', 'new_figure_manager', 'nipy_spectral', 'np', 'overload', 'pause', 'pcolor', 'pcolormesh', 'phase_spectrum', 'pie', 'pink', 'plasma', 'plot', 'plot_date', 'polar', 'prism', 'psd', 'quiver', 'quiverkey', 'rc', 'rcParams', 'rcParamsDefault', 'rcParamsOrig', 'rc_context', 'rcdefaults', 'rcsetup', 'rgrids', 'savefig', 'sca', 'scatter', 'sci', 'semilogx', 'semilogy', 'set_cmap', 'set_loglevel', 'setp', 'show', 'specgram', 'spring', 'spy', 'stackplot', 'stairs', 'stem', 'step', 'streamplot', 'style', 'subplot', 'subplot2grid', 'subplot_mosaic', 'subplot_tool', 'subplots', 'subplots_adjust', 'summer', 'suptitle', 'switch_backend', 'sys', 'table', 'text', 'thetagrids', 'threading', 'tick_params', 'ticklabel_format', 'tight_layout', 'time', 'title', 'tricontour', 'tricontourf', 'tripcolor', 'triplot', 'twinx', 'twiny', 'uninstall_repl_displayhook', 'violinplot', 'viridis', 'vlines', 'waitforbuttonpress', 'winter', 'xcorr', 'xkcd', 'xlabel', 'xlim', 'xscale', 'xticks', 'ylabel', 'ylim', 'yscale', 'yticks']\n"
     ]
    },
    {
     "data": {
      "text/plain": [
       "[<matplotlib.lines.Line2D at 0x1143273b0>]"
      ]
     },
     "execution_count": 22,
     "metadata": {},
     "output_type": "execute_result"
    },
    {
     "data": {
      "image/png": "[encoded data removed]",
      "text/plain": [
       "<Figure size 640x480 with 1 Axes>"
      ]
     },
     "metadata": {},
     "output_type": "display_data"
    }
   ],
   "source": [
    "# import mathplotlib to plot graphs\n",
    "import matplotlib.pyplot as plt\n",
    "\n",
    "# list all the available functions in mathplotlib\n",
    "print(dir(plt))\n",
    "\n",
    "# make y-axis start from 0\n",
    "plt.plot([0, 1, 2, 3])"
   ]
  },
  {
   "cell_type": "code",
   "execution_count": 26,
   "metadata": {},
   "outputs": [
    {
     "name": "stdout",
     "output_type": "stream",
     "text": [
      "WARNING: Encountered racer with unknown name on iteration 4/8\n",
      "WARNING: Encountered racer with unknown name on iteration 6/8\n",
      "{'green shell': 4, 'banana': 1, 'red shell': 1, 'blue shell': 1, 'star': 1}\n"
     ]
    }
   ],
   "source": [
    "full_dataset = [\n",
    "    {\"name\": \"Peach\", \"items\": [\"green shell\", \"banana\", \"green shell\"], \"finish\": 3},\n",
    "    {\"name\": \"Peach\", \"items\": [\"green shell\", \"banana\", \"green shell\"], \"finish\": 1},\n",
    "    {\"name\": \"Bowser\", \"items\": [\"green shell\"], \"finish\": 1},\n",
    "    {\"name\": None, \"items\": [\"green shell\"], \"finish\": 2},\n",
    "    {\"name\": \"Bowser\", \"items\": [\"green shell\"], \"finish\": 1},\n",
    "    {\"name\": None, \"items\": [\"red shell\"], \"finish\": 1},\n",
    "    {\"name\": \"Yoshi\", \"items\": [\"banana\", \"blue shell\", \"banana\"], \"finish\": 7},\n",
    "    {\"name\": \"DK\", \"items\": [\"blue shell\", \"star\"], \"finish\": 1},\n",
    "]\n",
    "\n",
    "\n",
    "def best_items(racers):\n",
    "    winner_item_counts = {}\n",
    "    for idx in range(len(racers)):  # Use 'idx' to avoid conflicts\n",
    "        racer = racers[idx]\n",
    "\n",
    "        if racer[\"finish\"] == 1:\n",
    "            for item in racer[\"items\"]:  # Use 'item' instead of 'i'\n",
    "                if item not in winner_item_counts:\n",
    "                    winner_item_counts[item] = 0\n",
    "                winner_item_counts[item] += 1\n",
    "\n",
    "        if racer[\"name\"] is None:\n",
    "            print(\n",
    "                f\"WARNING: Encountered racer with unknown name on iteration {idx + 1}/{len(racers)}\"\n",
    "            )\n",
    "\n",
    "    return winner_item_counts\n",
    "\n",
    "\n",
    "# Test the function\n",
    "print(best_items(full_dataset))"
   ]
  },
  {
   "cell_type": "code",
   "execution_count": 27,
   "metadata": {},
   "outputs": [
    {
     "name": "stdout",
     "output_type": "stream",
     "text": [
      "True\n",
      "False\n",
      "False\n",
      "True\n"
     ]
    }
   ],
   "source": [
    "def hand_total(hand):\n",
    "    \"\"\"Helper function to calculate the optimal total of a blackjack hand.\"\"\"\n",
    "    total = 0\n",
    "    aces = 0  # Track the number of aces\n",
    "\n",
    "    for card in hand:\n",
    "        if card in [\"J\", \"Q\", \"K\"]:\n",
    "            total += 10\n",
    "        elif card == \"A\":\n",
    "            aces += 1  # Count aces separately\n",
    "        else:\n",
    "            total += int(card)  # Numeric cards add their value\n",
    "\n",
    "    # Now, handle the aces to maximize the total without busting (going over 21)\n",
    "    for _ in range(aces):\n",
    "        # Add 11 for an ace, unless that would cause us to bust, in which case add 1\n",
    "        if total + 11 <= 21:\n",
    "            total += 11\n",
    "        else:\n",
    "            total += 1\n",
    "\n",
    "    return total\n",
    "\n",
    "\n",
    "def blackjack_hand_greater_than(hand_1, hand_2):\n",
    "    \"\"\"Return True if hand_1 beats hand_2, and False otherwise.\"\"\"\n",
    "    total_1 = hand_total(hand_1)\n",
    "    total_2 = hand_total(hand_2)\n",
    "\n",
    "    # A hand is only valid if it doesn't exceed 21\n",
    "    if total_1 > 21:\n",
    "        return False  # hand_1 busts, so it can't win\n",
    "    elif total_2 > 21:\n",
    "        return True  # hand_2 busts, so hand_1 wins\n",
    "    else:\n",
    "        return total_1 > total_2  # hand_1 wins if its total is greater\n",
    "\n",
    "\n",
    "# Test cases\n",
    "print(blackjack_hand_greater_than([\"K\"], [\"3\", \"4\"]))  # True\n",
    "print(blackjack_hand_greater_than([\"K\"], [\"10\"]))  # False\n",
    "print(blackjack_hand_greater_than([\"K\", \"K\", \"2\"], [\"3\"]))  # False\n",
    "print(blackjack_hand_greater_than([\"A\", \"A\", \"9\"], [\"9\", \"8\"]))  # True"
   ]
  }
 ],
 "metadata": {
  "kernelspec": {
   "display_name": "AI-Engineer-Roadmap-9EaXoWEH",
   "language": "python",
   "name": "python3"
  },
  "language_info": {
   "codemirror_mode": {
    "name": "ipython",
    "version": 3
   },
   "file_extension": ".py",
   "mimetype": "text/x-python",
   "name": "python",
   "nbconvert_exporter": "python",
   "pygments_lexer": "ipython3",
   "version": "3.12.6"
  }
 },
 "nbformat": 4,
 "nbformat_minor": 2
}
