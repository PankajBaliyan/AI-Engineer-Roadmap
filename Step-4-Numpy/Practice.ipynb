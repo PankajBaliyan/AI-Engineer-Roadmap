{
 "cells": [
  {
   "cell_type": "markdown",
   "metadata": {},
   "source": [
    "<h1>Learning Numpy</h1>"
   ]
  },
  {
   "cell_type": "code",
   "execution_count": 2,
   "metadata": {},
   "outputs": [],
   "source": [
    "# Importing\n",
    "import numpy as np"
   ]
  },
  {
   "cell_type": "code",
   "execution_count": 3,
   "metadata": {},
   "outputs": [
    {
     "name": "stdout",
     "output_type": "stream",
     "text": [
      "1D Array:\n",
      "[1 2 3 4 5]\n",
      "\n",
      "2D Array:\n",
      "[[1 2 3]\n",
      " [4 5 6]]\n"
     ]
    }
   ],
   "source": [
    "# Creating a 1D array\n",
    "arr = np.array([1, 2, 3, 4, 5])\n",
    "\n",
    "# Printing the array\n",
    "print(\"1D Array:\")\n",
    "print(arr)\n",
    "\n",
    "# Creating a 2D array\n",
    "arr_2d = np.array([[1, 2, 3], [4, 5, 6]])\n",
    "\n",
    "# Printing the 2D array\n",
    "print(\"\\n2D Array:\")\n",
    "print(arr_2d)"
   ]
  },
  {
   "cell_type": "code",
   "execution_count": null,
   "metadata": {},
   "outputs": [
    {
     "name": "stdout",
     "output_type": "stream",
     "text": [
      "\n",
      "Dimensions of the array:\n",
      "Dimensions of 1D array 1\n",
      "Dimensions of 2D array 2\n"
     ]
    }
   ],
   "source": [
    "# Get dimensions of the array\n",
    "\n",
    "# .ndim => returns the number of dimensions of the array\n",
    "\n",
    "print(\"\\nDimensions of the array:\")\n",
    "print(\"Dimensions of 1D array\", + arr.ndim)\n",
    "print(\"Dimensions of 2D array\", + arr_2d.ndim)"
   ]
  },
  {
   "cell_type": "code",
   "execution_count": 15,
   "metadata": {},
   "outputs": [
    {
     "name": "stdout",
     "output_type": "stream",
     "text": [
      "\n",
      "Shape of the array:\n",
      "(5,)\n",
      "(2, 3)\n",
      "\n",
      "Type of the array:\n",
      "<class 'numpy.ndarray'>\n",
      "<class 'numpy.ndarray'>\n",
      "\n",
      "Type of the array using dtype:\n",
      "int64\n",
      "int64\n"
     ]
    }
   ],
   "source": [
    "# Shape of the array\n",
    "print(\"\\nShape of the array:\")\n",
    "print(arr.shape)\n",
    "print(arr_2d.shape)\n",
    "\n",
    "# Type of the array\n",
    "print(\"\\nType of the array:\")\n",
    "print(type(arr))\n",
    "print(type(arr_2d))\n",
    "\n",
    "# Get type using dtype\n",
    "print(\"\\nType of the array using dtype:\")\n",
    "print(arr.dtype)\n",
    "print(arr_2d.dtype)"
   ]
  },
  {
   "cell_type": "code",
   "execution_count": null,
   "metadata": {},
   "outputs": [
    {
     "name": "stdout",
     "output_type": "stream",
     "text": [
      "\n",
      "Array with specific datatype:\n",
      "[1 2 3 4 5]\n",
      "Data type of the array: int32\n",
      "\n",
      "Array converted to int16:\n",
      "[1 2 3 4 5]\n",
      "Data type of the array: int16\n"
     ]
    }
   ],
   "source": [
    "# Creating an array with a specific datatype\n",
    "arr_int = np.array([1, 2, 3, 4, 5], dtype='int32')\n",
    "print(\"\\nArray with specific datatype:\")\n",
    "print(arr_int)\n",
    "print(\"Data type of the array:\", arr_int.dtype)\n",
    "\n",
    "# astype() method to convert the datatype of an existing array\n",
    "# arr_float = arr_int.astype('float64')\n",
    "arr_int_16 = arr_int.astype('int16')\n",
    "print(\"\\nArray converted to int16:\")\n",
    "print(arr_int_16)\n",
    "print(\"Data type of the array:\", arr_int_16.dtype)"
   ]
  },
  {
   "cell_type": "code",
   "execution_count": null,
   "metadata": {},
   "outputs": [
    {
     "name": "stdout",
     "output_type": "stream",
     "text": [
      "\n",
      "Itemsize of the array:\n",
      "4\n",
      "[1 2 3 4 5]\n"
     ]
    }
   ],
   "source": [
    "# Itemsize of the array\n",
    "# itemsize => returns the length of each element of the array in bytes\n",
    "print(\"\\nItemsize of the array:\")\n",
    "print(arr.itemsize)\n",
    "print(arr)"
   ]
  },
  {
   "cell_type": "code",
   "execution_count": 24,
   "metadata": {},
   "outputs": [
    {
     "name": "stdout",
     "output_type": "stream",
     "text": [
      "\n",
      "Size of the array:\n",
      "5\n"
     ]
    }
   ],
   "source": [
    "# Get size\n",
    "# size => returns the number of elements in the array\n",
    "print(\"\\nSize of the array:\")\n",
    "print(arr.size)"
   ]
  }
 ],
 "metadata": {
  "kernelspec": {
   "display_name": "AI-Engineer-Roadmap-9EaXoWEH",
   "language": "python",
   "name": "python3"
  },
  "language_info": {
   "codemirror_mode": {
    "name": "ipython",
    "version": 3
   },
   "file_extension": ".py",
   "mimetype": "text/x-python",
   "name": "python",
   "nbconvert_exporter": "python",
   "pygments_lexer": "ipython3",
   "version": "3.12.6"
  }
 },
 "nbformat": 4,
 "nbformat_minor": 2
}
