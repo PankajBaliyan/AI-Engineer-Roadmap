{
 "cells": [
  {
   "cell_type": "code",
   "execution_count": 1,
   "metadata": {
    "ExecuteTime": {
     "end_time": "2024-10-11T02:07:17.345269Z",
     "start_time": "2024-10-11T02:07:17.271392Z"
    }
   },
   "outputs": [],
   "source": [
    "import numpy as np"
   ]
  },
  {
   "cell_type": "code",
   "execution_count": 2,
   "metadata": {
    "ExecuteTime": {
     "end_time": "2024-10-11T02:07:20.408094Z",
     "start_time": "2024-10-11T02:07:20.405038Z"
    }
   },
   "outputs": [
    {
     "name": "stdout",
     "output_type": "stream",
     "text": [
      "2.1.2\n"
     ]
    }
   ],
   "source": [
    "# Check numpy version\n",
    "print(np.__version__)"
   ]
  },
  {
   "cell_type": "code",
   "execution_count": 49,
   "metadata": {
    "ExecuteTime": {
     "end_time": "2024-10-11T02:07:22.027289Z",
     "start_time": "2024-10-11T02:07:22.024853Z"
    }
   },
   "outputs": [
    {
     "name": "stdout",
     "output_type": "stream",
     "text": [
      "[2 6 2 9 3]\n"
     ]
    }
   ],
   "source": [
    "# Definition : NumPy is a general-purpose array-processing package. It provides a high-performance multidimensional array object, and tools for working with these arrays. It is the fundamental package for scientific computing with Python.\n",
    "\n",
    "# Creating a array using numpy\n",
    "\n",
    "# dtype : int, float, complex, bool, object, etc, it is used to set the data type of elements in the array.\n",
    "myArr = np.array([1, 2, 3, 4, 5], dtype=int)\n",
    "# print(a)\n",
    "# print(type(a))\n",
    "\n",
    "# Two dimensional array\n",
    "# b = np.array([[1, 2, 3], [4, 5, 6]])\n",
    "# print(b)\n",
    "# print(type(b))\n",
    "\n",
    "# ndmin : This parameter is used to define the minimum number of dimensions of the created array.\n",
    "# c = np.array([1, 2, 3, 4, 5], ndmin=2)\n",
    "# print(c)\n",
    "# print(type(c))\n",
    "\n",
    "# dtype : complex, it is used to set the data type of elements in the array.\n",
    "# d = np.array([1, 2, 3, 4, 5], dtype=complex)\n",
    "# print(d)\n",
    "\n",
    "# Create an array filled with zeros.\n",
    "# a = np.zeros(5)\n",
    "\n",
    "# Create an array filled with ones.\n",
    "# a = np.ones(6)\n",
    "\n",
    "# np.empty()\n",
    "# a = np.empty(5)\n",
    "\n",
    "# np.eye() : It is used to create a 2-D array with ones on the diagonal and zeros elsewhere.\n",
    "a = np.eye(3)\n",
    "\n",
    "# np.linspace() : It is used to create an array with evenly spaced values between the specified range.\n",
    "a = np.linspace(1, 5, 10)\n",
    "\n",
    "# np.arange() : It is used to create an array with evenly spaced values between the specified range.\n",
    "a = np.arange(1, 6, 2)\n",
    "\n",
    "# np.random.rand() : It is used to create an array with random values between 0 and 1.\n",
    "a = np.random.rand(5)\n",
    "\n",
    "# np.random.randn() : It is used to create an array with random values between 0 and 1.\n",
    "a = np.random.randn(5)\n",
    "\n",
    "# np.random.randint() : It is used to create an array with random integers between the specified range.\n",
    "a = np.random.randint(1, 10, 5)\n",
    "\n",
    "\n",
    "print(a)"
   ]
  },
  {
   "cell_type": "code",
   "execution_count": 40,
   "metadata": {},
   "outputs": [
    {
     "name": "stdout",
     "output_type": "stream",
     "text": [
      "[1 2 3 4 5]\n",
      "8\n"
     ]
    }
   ],
   "source": [
    "# Array Attributes\n",
    "\n",
    "a = myArr\n",
    "print(a)\n",
    "\n",
    "# shape : It is used to get the shape of an array.\n",
    "# print(a.shape)\n",
    "\n",
    "# ndim : It is used to get the number of dimensions of an array.\n",
    "# print(a.ndim)\n",
    "\n",
    "# nszie : It is used to get the number of elements in an array.\n",
    "# print(a.size)\n",
    "\n",
    "# dtype : It is used to get the data type of an array.\n",
    "# print(a.dtype)\n",
    "\n",
    "# itemsize : It is used to get the size of an element in an array.\n",
    "# print(a.itemsize)\n"
   ]
  },
  {
   "cell_type": "code",
   "execution_count": 63,
   "metadata": {},
   "outputs": [
    {
     "name": "stdout",
     "output_type": "stream",
     "text": [
      "Original Array : [7 1 9 7 9]\n",
      "[[7 4 4 3 6 7]\n",
      " [9 5 6 1 2 5]\n",
      " [4 8 7 2 8 8]]\n"
     ]
    }
   ],
   "source": [
    "# Array Manipulation\n",
    "a = np.random.randint(1, 10, 5)\n",
    "print(f\"Original Array : {a}\")\n",
    "\n",
    "# reshape() : It is used to change the shape of an array.\n",
    "b = a.reshape(1, 5)\n",
    "# print(b)\n",
    "\n",
    "# transpose() : It is used to transpose an array.\n",
    "b = a.transpose()\n",
    "# print(b)\n",
    "\n",
    "# ravel() : It is used to flatten an array.\n",
    "b = a.ravel()\n",
    "# print(b)\n",
    "\n",
    "# concatenate() : It is used to concatenate two arrays.\n",
    "b = np.random.randint(1, 10, (3, 3))\n",
    "c = np.random.randint(1, 10, (3, 3))\n",
    "d = np.concatenate((b, c))\n",
    "# print(d)\n",
    "\n",
    "# vstack() : It is used to stack arrays vertically.\n",
    "d = np.vstack((b, c))\n",
    "# print(d)\n",
    "\n",
    "# hstack() : It is used to stack arrays horizontally.\n",
    "d = np.hstack((b, c))\n",
    "print(d)\n",
    "\n"
   ]
  },
  {
   "cell_type": "code",
   "execution_count": 67,
   "metadata": {},
   "outputs": [
    {
     "name": "stdout",
     "output_type": "stream",
     "text": [
      "Original Array : [5 2 3 9 2]\n",
      "[2 3 9]\n"
     ]
    }
   ],
   "source": [
    "# Array indexing and slicing\n",
    "a = np.random.randint(1, 10, 5)\n",
    "print(f\"Original Array : {a}\")\n",
    "\n",
    "# Indexing\n",
    "# print(a[0])\n",
    "\n",
    "# Slicing\n",
    "# syntax : array[start:stop:step]\n",
    "print(a[1:4])"
   ]
  },
  {
   "cell_type": "code",
   "execution_count": 71,
   "metadata": {},
   "outputs": [
    {
     "name": "stdout",
     "output_type": "stream",
     "text": [
      "Original Array a : [7 9 6 7 1]\n",
      "Original Array b : [5 9 5 8 2]\n",
      "Addition : [12 18 11 15  3]\n"
     ]
    }
   ],
   "source": [
    "# Mathematical Operations\n",
    "a = np.random.randint(1, 10, 5)\n",
    "b = np.random.randint(1, 10, 5)\n",
    "print(f\"Original Array a : {a}\")\n",
    "print(f\"Original Array b : {b}\")\n",
    "\n",
    "\n",
    "# Addition\n",
    "# b = a + 5\n",
    "# print(f\"Addition : {b}\")\n",
    "\n",
    "# # add two arrays\n",
    "# b = a + b\n",
    "# print(f\"Addition : {b}\")\n",
    "\n",
    "# Subtraction\n",
    "# b = a - 5\n",
    "\n",
    "# Multiplication\n",
    "# b = a * 5\n",
    "\n",
    "# Division\n",
    "# b = a / 5\n",
    "\n",
    "# Exponentiation\n",
    "# b = a ** 2\n",
    "\n",
    "# Modulus\n",
    "# b = a % 2"
   ]
  },
  {
   "cell_type": "code",
   "execution_count": 82,
   "metadata": {},
   "outputs": [
    {
     "name": "stdout",
     "output_type": "stream",
     "text": [
      "Original Array a : [3 6 9 6 2]\n",
      "Original Array b : [1 7 1 1 3]\n",
      "26\n",
      "1944\n",
      "5.2\n",
      "6.0\n",
      "2.4819347291981715\n",
      "6.160000000000001\n",
      "2\n",
      "9\n"
     ]
    }
   ],
   "source": [
    "# Aggregation Functions\n",
    "a = np.random.randint(1, 10, 5)\n",
    "b = np.random.randint(1, 10, 5)\n",
    "print(f\"Original Array a : {a}\")\n",
    "print(f\"Original Array b : {b}\")\n",
    "\n",
    "# sum() : It is used to get the sum of all elements in an array.\n",
    "print(a.sum())\n",
    "\n",
    "# prod() : It is used to get the product of all elements in an array.\n",
    "print(a.prod())\n",
    "\n",
    "# mean() : It is used to get the mean of all elements in an array.\n",
    "print(a.mean())\n",
    "\n",
    "# median() : It is used to get the median of all elements in an array.\n",
    "print(np.median(a))\n",
    "\n",
    "# std() : It is used to get the standard deviation of all elements in an array.\n",
    "print(a.std())\n",
    "\n",
    "# var() : It is used to get the variance of all elements in an array.\n",
    "print(a.var())\n",
    "\n",
    "# min() : It is used to get the minimum value of all elements in an array.\n",
    "print(a.min())\n",
    "\n",
    "# max() : It is used to get the maximum value of all elements in an array.\n",
    "print(a.max())\n"
   ]
  }
 ],
 "metadata": {
  "kernelspec": {
   "display_name": "AI-Engineer-Roadmap-9EaXoWEH",
   "language": "python",
   "name": "python3"
  },
  "language_info": {
   "codemirror_mode": {
    "name": "ipython",
    "version": 3
   },
   "file_extension": ".py",
   "mimetype": "text/x-python",
   "name": "python",
   "nbconvert_exporter": "python",
   "pygments_lexer": "ipython3",
   "version": "3.12.6"
  }
 },
 "nbformat": 4,
 "nbformat_minor": 2
}
