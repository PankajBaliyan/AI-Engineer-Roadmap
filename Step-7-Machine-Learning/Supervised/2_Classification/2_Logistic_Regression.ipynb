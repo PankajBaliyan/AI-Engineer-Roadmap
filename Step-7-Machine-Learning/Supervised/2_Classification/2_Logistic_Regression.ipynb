{
 "metadata": {
  "kernelspec": {
   "language": "python",
   "display_name": "Python 3",
   "name": "python3"
  },
  "language_info": {
   "name": "python",
   "version": "3.10.12",
   "mimetype": "text/x-python",
   "codemirror_mode": {
    "name": "ipython",
    "version": 3
   },
   "pygments_lexer": "ipython3",
   "nbconvert_exporter": "python",
   "file_extension": ".py"
  },
  "kaggle": {
   "accelerator": "none",
   "dataSources": [
    {
     "sourceId": 3136,
     "databundleVersionId": 26502,
     "sourceType": "competition"
    }
   ],
   "dockerImageVersionId": 30822,
   "isInternetEnabled": false,
   "language": "python",
   "sourceType": "notebook",
   "isGpuEnabled": false
  }
 },
 "nbformat_minor": 4,
 "nbformat": 4,
 "cells": [
  {
   "cell_type": "code",
   "source": [
    "import pandas as pd\n",
    "from sklearn.linear_model import LogisticRegression\n",
    "from sklearn.metrics import accuracy_score, confusion_matrix, classification_report\n",
    "from sklearn.model_selection import train_test_split\n",
    "\n",
    "print(\"Libraries imported successfully\")"
   ],
   "metadata": {
    "_uuid": "8f2839f25d086af736a60e9eeb907d3b93b6e0e5",
    "_cell_guid": "b1076dfc-b9ad-4769-8c92-a6c4dae69d19",
    "trusted": true,
    "execution": {
     "iopub.status.busy": "2025-01-13T02:16:19.284645Z",
     "iopub.execute_input": "2025-01-13T02:16:19.284974Z",
     "iopub.status.idle": "2025-01-13T02:16:21.190798Z",
     "shell.execute_reply.started": "2025-01-13T02:16:19.284945Z",
     "shell.execute_reply": "2025-01-13T02:16:21.189630Z"
    }
   },
   "outputs": [
    {
     "name": "stdout",
     "text": "Libraries imported successfully\n",
     "output_type": "stream"
    }
   ],
   "execution_count": 1
  },
  {
   "cell_type": "code",
   "source": "# Load Titanic dataset from seaborn\ndf = pd.read_csv('/kaggle/input/titanic/train.csv')\n\n# Display the first few rows\ndf.head()",
   "metadata": {
    "trusted": true,
    "execution": {
     "iopub.status.busy": "2025-01-13T02:23:48.535128Z",
     "iopub.execute_input": "2025-01-13T02:23:48.535571Z",
     "iopub.status.idle": "2025-01-13T02:23:48.586953Z",
     "shell.execute_reply.started": "2025-01-13T02:23:48.535540Z",
     "shell.execute_reply": "2025-01-13T02:23:48.585919Z"
    }
   },
   "outputs": [
    {
     "execution_count": 2,
     "output_type": "execute_result",
     "data": {
      "text/plain": "   PassengerId  Survived  Pclass  \\\n0            1         0       3   \n1            2         1       1   \n2            3         1       3   \n3            4         1       1   \n4            5         0       3   \n\n                                                Name     Sex   Age  SibSp  \\\n0                            Braund, Mr. Owen Harris    male  22.0      1   \n1  Cumings, Mrs. John Bradley (Florence Briggs Th...  female  38.0      1   \n2                             Heikkinen, Miss. Laina  female  26.0      0   \n3       Futrelle, Mrs. Jacques Heath (Lily May Peel)  female  35.0      1   \n4                           Allen, Mr. William Henry    male  35.0      0   \n\n   Parch            Ticket     Fare Cabin Embarked  \n0      0         A/5 21171   7.2500   NaN        S  \n1      0          PC 17599  71.2833   C85        C  \n2      0  STON/O2. 3101282   7.9250   NaN        S  \n3      0            113803  53.1000  C123        S  \n4      0            373450   8.0500   NaN        S  ",
      "text/html": "<div>\n<style scoped>\n    .dataframe tbody tr th:only-of-type {\n        vertical-align: middle;\n    }\n\n    .dataframe tbody tr th {\n        vertical-align: top;\n    }\n\n    .dataframe thead th {\n        text-align: right;\n    }\n</style>\n<table border=\"1\" class=\"dataframe\">\n  <thead>\n    <tr style=\"text-align: right;\">\n      <th></th>\n      <th>PassengerId</th>\n      <th>Survived</th>\n      <th>Pclass</th>\n      <th>Name</th>\n      <th>Sex</th>\n      <th>Age</th>\n      <th>SibSp</th>\n      <th>Parch</th>\n      <th>Ticket</th>\n      <th>Fare</th>\n      <th>Cabin</th>\n      <th>Embarked</th>\n    </tr>\n  </thead>\n  <tbody>\n    <tr>\n      <th>0</th>\n      <td>1</td>\n      <td>0</td>\n      <td>3</td>\n      <td>Braund, Mr. Owen Harris</td>\n      <td>male</td>\n      <td>22.0</td>\n      <td>1</td>\n      <td>0</td>\n      <td>A/5 21171</td>\n      <td>7.2500</td>\n      <td>NaN</td>\n      <td>S</td>\n    </tr>\n    <tr>\n      <th>1</th>\n      <td>2</td>\n      <td>1</td>\n      <td>1</td>\n      <td>Cumings, Mrs. John Bradley (Florence Briggs Th...</td>\n      <td>female</td>\n      <td>38.0</td>\n      <td>1</td>\n      <td>0</td>\n      <td>PC 17599</td>\n      <td>71.2833</td>\n      <td>C85</td>\n      <td>C</td>\n    </tr>\n    <tr>\n      <th>2</th>\n      <td>3</td>\n      <td>1</td>\n      <td>3</td>\n      <td>Heikkinen, Miss. Laina</td>\n      <td>female</td>\n      <td>26.0</td>\n      <td>0</td>\n      <td>0</td>\n      <td>STON/O2. 3101282</td>\n      <td>7.9250</td>\n      <td>NaN</td>\n      <td>S</td>\n    </tr>\n    <tr>\n      <th>3</th>\n      <td>4</td>\n      <td>1</td>\n      <td>1</td>\n      <td>Futrelle, Mrs. Jacques Heath (Lily May Peel)</td>\n      <td>female</td>\n      <td>35.0</td>\n      <td>1</td>\n      <td>0</td>\n      <td>113803</td>\n      <td>53.1000</td>\n      <td>C123</td>\n      <td>S</td>\n    </tr>\n    <tr>\n      <th>4</th>\n      <td>5</td>\n      <td>0</td>\n      <td>3</td>\n      <td>Allen, Mr. William Henry</td>\n      <td>male</td>\n      <td>35.0</td>\n      <td>0</td>\n      <td>0</td>\n      <td>373450</td>\n      <td>8.0500</td>\n      <td>NaN</td>\n      <td>S</td>\n    </tr>\n  </tbody>\n</table>\n</div>"
     },
     "metadata": {}
    }
   ],
   "execution_count": 2
  },
  {
   "cell_type": "code",
   "source": "df.info()\ndf.isnull().sum()",
   "metadata": {
    "trusted": true,
    "execution": {
     "iopub.status.busy": "2025-01-13T02:36:25.918526Z",
     "iopub.execute_input": "2025-01-13T02:36:25.918903Z",
     "iopub.status.idle": "2025-01-13T02:36:25.934360Z",
     "shell.execute_reply.started": "2025-01-13T02:36:25.918875Z",
     "shell.execute_reply": "2025-01-13T02:36:25.933305Z"
    }
   },
   "outputs": [
    {
     "name": "stdout",
     "text": "<class 'pandas.core.frame.DataFrame'>\nRangeIndex: 891 entries, 0 to 890\nData columns (total 12 columns):\n #   Column       Non-Null Count  Dtype  \n---  ------       --------------  -----  \n 0   PassengerId  891 non-null    int64  \n 1   Survived     891 non-null    int64  \n 2   Pclass       891 non-null    int64  \n 3   Name         891 non-null    object \n 4   Sex          891 non-null    object \n 5   Age          891 non-null    float64\n 6   SibSp        891 non-null    int64  \n 7   Parch        891 non-null    int64  \n 8   Ticket       891 non-null    object \n 9   Fare         891 non-null    float64\n 10  Cabin        891 non-null    object \n 11  Embarked     891 non-null    object \ndtypes: float64(2), int64(5), object(5)\nmemory usage: 83.7+ KB\n",
     "output_type": "stream"
    },
    {
     "execution_count": 29,
     "output_type": "execute_result",
     "data": {
      "text/plain": "PassengerId    0\nSurvived       0\nPclass         0\nName           0\nSex            0\nAge            0\nSibSp          0\nParch          0\nTicket         0\nFare           0\nCabin          0\nEmbarked       0\ndtype: int64"
     },
     "metadata": {}
    }
   ],
   "execution_count": 29
  },
  {
   "cell_type": "code",
   "source": "# Preprocessing the Data\n\n# Drop unnecessary columns\n# df = df.drop(['PassengerId', 'Name', 'Ticket', 'Cabin'], axis=1)\n\n# Handle missing values\ndf['Age'].fillna(df['Age'].mean(), inplace=True)\ndf['Cabin'].fillna(df['Cabin'].mode()[0], inplace=True)\ndf['Embarked'].fillna(df['Embarked'].mode()[0], inplace=True)\n\n# Convert categorical columns to numerical using one-hot encoding\n# df = pd.get_dummies(df, columns=['sex', 'embarked'], drop_first=True)",
   "metadata": {
    "trusted": true,
    "execution": {
     "iopub.status.busy": "2025-01-13T02:30:50.511171Z",
     "iopub.execute_input": "2025-01-13T02:30:50.511555Z",
     "iopub.status.idle": "2025-01-13T02:30:50.519465Z",
     "shell.execute_reply.started": "2025-01-13T02:30:50.511528Z",
     "shell.execute_reply": "2025-01-13T02:30:50.518321Z"
    }
   },
   "outputs": [],
   "execution_count": null
  },
  {
   "cell_type": "code",
   "source": "# Display the cleaned dataset\ndf.head()",
   "metadata": {
    "trusted": true,
    "execution": {
     "iopub.status.busy": "2025-01-13T02:36:12.092518Z",
     "iopub.execute_input": "2025-01-13T02:36:12.092863Z",
     "iopub.status.idle": "2025-01-13T02:36:12.106865Z",
     "shell.execute_reply.started": "2025-01-13T02:36:12.092835Z",
     "shell.execute_reply": "2025-01-13T02:36:12.105849Z"
    }
   },
   "outputs": [
    {
     "execution_count": 28,
     "output_type": "execute_result",
     "data": {
      "text/plain": "   PassengerId  Survived  Pclass  \\\n0            1         0       3   \n1            2         1       1   \n2            3         1       3   \n3            4         1       1   \n4            5         0       3   \n\n                                                Name     Sex   Age  SibSp  \\\n0                            Braund, Mr. Owen Harris    male  22.0      1   \n1  Cumings, Mrs. John Bradley (Florence Briggs Th...  female  38.0      1   \n2                             Heikkinen, Miss. Laina  female  26.0      0   \n3       Futrelle, Mrs. Jacques Heath (Lily May Peel)  female  35.0      1   \n4                           Allen, Mr. William Henry    male  35.0      0   \n\n   Parch            Ticket     Fare    Cabin Embarked  \n0      0         A/5 21171   7.2500  B96 B98        S  \n1      0          PC 17599  71.2833      C85        C  \n2      0  STON/O2. 3101282   7.9250  B96 B98        S  \n3      0            113803  53.1000     C123        S  \n4      0            373450   8.0500  B96 B98        S  ",
      "text/html": "<div>\n<style scoped>\n    .dataframe tbody tr th:only-of-type {\n        vertical-align: middle;\n    }\n\n    .dataframe tbody tr th {\n        vertical-align: top;\n    }\n\n    .dataframe thead th {\n        text-align: right;\n    }\n</style>\n<table border=\"1\" class=\"dataframe\">\n  <thead>\n    <tr style=\"text-align: right;\">\n      <th></th>\n      <th>PassengerId</th>\n      <th>Survived</th>\n      <th>Pclass</th>\n      <th>Name</th>\n      <th>Sex</th>\n      <th>Age</th>\n      <th>SibSp</th>\n      <th>Parch</th>\n      <th>Ticket</th>\n      <th>Fare</th>\n      <th>Cabin</th>\n      <th>Embarked</th>\n    </tr>\n  </thead>\n  <tbody>\n    <tr>\n      <th>0</th>\n      <td>1</td>\n      <td>0</td>\n      <td>3</td>\n      <td>Braund, Mr. Owen Harris</td>\n      <td>male</td>\n      <td>22.0</td>\n      <td>1</td>\n      <td>0</td>\n      <td>A/5 21171</td>\n      <td>7.2500</td>\n      <td>B96 B98</td>\n      <td>S</td>\n    </tr>\n    <tr>\n      <th>1</th>\n      <td>2</td>\n      <td>1</td>\n      <td>1</td>\n      <td>Cumings, Mrs. John Bradley (Florence Briggs Th...</td>\n      <td>female</td>\n      <td>38.0</td>\n      <td>1</td>\n      <td>0</td>\n      <td>PC 17599</td>\n      <td>71.2833</td>\n      <td>C85</td>\n      <td>C</td>\n    </tr>\n    <tr>\n      <th>2</th>\n      <td>3</td>\n      <td>1</td>\n      <td>3</td>\n      <td>Heikkinen, Miss. Laina</td>\n      <td>female</td>\n      <td>26.0</td>\n      <td>0</td>\n      <td>0</td>\n      <td>STON/O2. 3101282</td>\n      <td>7.9250</td>\n      <td>B96 B98</td>\n      <td>S</td>\n    </tr>\n    <tr>\n      <th>3</th>\n      <td>4</td>\n      <td>1</td>\n      <td>1</td>\n      <td>Futrelle, Mrs. Jacques Heath (Lily May Peel)</td>\n      <td>female</td>\n      <td>35.0</td>\n      <td>1</td>\n      <td>0</td>\n      <td>113803</td>\n      <td>53.1000</td>\n      <td>C123</td>\n      <td>S</td>\n    </tr>\n    <tr>\n      <th>4</th>\n      <td>5</td>\n      <td>0</td>\n      <td>3</td>\n      <td>Allen, Mr. William Henry</td>\n      <td>male</td>\n      <td>35.0</td>\n      <td>0</td>\n      <td>0</td>\n      <td>373450</td>\n      <td>8.0500</td>\n      <td>B96 B98</td>\n      <td>S</td>\n    </tr>\n  </tbody>\n</table>\n</div>"
     },
     "metadata": {}
    }
   ],
   "execution_count": 28
  },
  {
   "cell_type": "code",
   "source": "# Select features and target\nfeatures = ['Pclass', 'Sex', 'Age', 'SibSp', 'Parch', 'Fare', 'Embarked']\ndata = df[features + ['Survived']]",
   "metadata": {
    "trusted": true,
    "execution": {
     "iopub.status.busy": "2025-01-13T02:36:32.399430Z",
     "iopub.execute_input": "2025-01-13T02:36:32.399767Z",
     "iopub.status.idle": "2025-01-13T02:36:32.405560Z",
     "shell.execute_reply.started": "2025-01-13T02:36:32.399741Z",
     "shell.execute_reply": "2025-01-13T02:36:32.404474Z"
    }
   },
   "outputs": [],
   "execution_count": 30
  },
  {
   "cell_type": "code",
   "source": "# Preprocessing\n# data['Sex'] = data['Sex'].map({'male': 0, 'female': 1})  # Convert 'Sex' to numerical\ndata['Embarked'] = data['Embarked'].map({'C': 0, 'Q': 1, 'S': 2})  # Convert 'Embarked'\n# data['Age'].fillna(data['Age'].median(), inplace=True)  # Fill missing 'Age'\n# data['Embarked'].fillna(data['Embarked'].mode()[0], inplace=True)  # Fill missing 'Embarked'",
   "metadata": {
    "trusted": true,
    "execution": {
     "iopub.status.busy": "2025-01-13T02:37:41.611327Z",
     "iopub.execute_input": "2025-01-13T02:37:41.611660Z",
     "iopub.status.idle": "2025-01-13T02:37:41.618409Z",
     "shell.execute_reply.started": "2025-01-13T02:37:41.611633Z",
     "shell.execute_reply": "2025-01-13T02:37:41.617078Z"
    }
   },
   "outputs": [
    {
     "name": "stderr",
     "text": "<ipython-input-35-cf29241f25c3>:3: SettingWithCopyWarning: \nA value is trying to be set on a copy of a slice from a DataFrame.\nTry using .loc[row_indexer,col_indexer] = value instead\n\nSee the caveats in the documentation: https://pandas.pydata.org/pandas-docs/stable/user_guide/indexing.html#returning-a-view-versus-a-copy\n  data['Embarked'] = data['Embarked'].map({'C': 0, 'Q': 1, 'S': 2})  # Convert 'Embarked'\n",
     "output_type": "stream"
    }
   ],
   "execution_count": 35
  },
  {
   "cell_type": "code",
   "source": "data.head()",
   "metadata": {
    "trusted": true,
    "execution": {
     "iopub.status.busy": "2025-01-13T02:38:31.903702Z",
     "iopub.execute_input": "2025-01-13T02:38:31.904171Z",
     "iopub.status.idle": "2025-01-13T02:38:31.915767Z",
     "shell.execute_reply.started": "2025-01-13T02:38:31.904132Z",
     "shell.execute_reply": "2025-01-13T02:38:31.914431Z"
    }
   },
   "outputs": [
    {
     "execution_count": 40,
     "output_type": "execute_result",
     "data": {
      "text/plain": "   Pclass  Sex   Age  SibSp  Parch     Fare  Embarked  Survived\n0       3    0  22.0      1      0   7.2500         2         0\n1       1    1  38.0      1      0  71.2833         0         1\n2       3    1  26.0      0      0   7.9250         2         1\n3       1    1  35.0      1      0  53.1000         2         1\n4       3    0  35.0      0      0   8.0500         2         0",
      "text/html": "<div>\n<style scoped>\n    .dataframe tbody tr th:only-of-type {\n        vertical-align: middle;\n    }\n\n    .dataframe tbody tr th {\n        vertical-align: top;\n    }\n\n    .dataframe thead th {\n        text-align: right;\n    }\n</style>\n<table border=\"1\" class=\"dataframe\">\n  <thead>\n    <tr style=\"text-align: right;\">\n      <th></th>\n      <th>Pclass</th>\n      <th>Sex</th>\n      <th>Age</th>\n      <th>SibSp</th>\n      <th>Parch</th>\n      <th>Fare</th>\n      <th>Embarked</th>\n      <th>Survived</th>\n    </tr>\n  </thead>\n  <tbody>\n    <tr>\n      <th>0</th>\n      <td>3</td>\n      <td>0</td>\n      <td>22.0</td>\n      <td>1</td>\n      <td>0</td>\n      <td>7.2500</td>\n      <td>2</td>\n      <td>0</td>\n    </tr>\n    <tr>\n      <th>1</th>\n      <td>1</td>\n      <td>1</td>\n      <td>38.0</td>\n      <td>1</td>\n      <td>0</td>\n      <td>71.2833</td>\n      <td>0</td>\n      <td>1</td>\n    </tr>\n    <tr>\n      <th>2</th>\n      <td>3</td>\n      <td>1</td>\n      <td>26.0</td>\n      <td>0</td>\n      <td>0</td>\n      <td>7.9250</td>\n      <td>2</td>\n      <td>1</td>\n    </tr>\n    <tr>\n      <th>3</th>\n      <td>1</td>\n      <td>1</td>\n      <td>35.0</td>\n      <td>1</td>\n      <td>0</td>\n      <td>53.1000</td>\n      <td>2</td>\n      <td>1</td>\n    </tr>\n    <tr>\n      <th>4</th>\n      <td>3</td>\n      <td>0</td>\n      <td>35.0</td>\n      <td>0</td>\n      <td>0</td>\n      <td>8.0500</td>\n      <td>2</td>\n      <td>0</td>\n    </tr>\n  </tbody>\n</table>\n</div>"
     },
     "metadata": {}
    }
   ],
   "execution_count": 40
  },
  {
   "cell_type": "code",
   "source": "# Features and target\nX = data.drop('Survived', axis=1)\ny = data['Survived']",
   "metadata": {
    "trusted": true,
    "execution": {
     "iopub.status.busy": "2025-01-13T02:38:40.073582Z",
     "iopub.execute_input": "2025-01-13T02:38:40.073980Z",
     "iopub.status.idle": "2025-01-13T02:38:40.080397Z",
     "shell.execute_reply.started": "2025-01-13T02:38:40.073948Z",
     "shell.execute_reply": "2025-01-13T02:38:40.079132Z"
    }
   },
   "outputs": [],
   "execution_count": 41
  },
  {
   "cell_type": "code",
   "source": "# Train-test split\nX_train, X_test, y_train, y_test = train_test_split(X, y, test_size=0.2, random_state=42)",
   "metadata": {
    "trusted": true,
    "execution": {
     "iopub.status.busy": "2025-01-13T02:39:02.400300Z",
     "iopub.execute_input": "2025-01-13T02:39:02.400683Z",
     "iopub.status.idle": "2025-01-13T02:39:02.410649Z",
     "shell.execute_reply.started": "2025-01-13T02:39:02.400647Z",
     "shell.execute_reply": "2025-01-13T02:39:02.409556Z"
    }
   },
   "outputs": [],
   "execution_count": 42
  },
  {
   "cell_type": "code",
   "source": "# Train Logistic Regression\nmodel = LogisticRegression()\nmodel.fit(X_train, y_train)",
   "metadata": {
    "trusted": true,
    "execution": {
     "iopub.status.busy": "2025-01-13T02:39:22.375216Z",
     "iopub.execute_input": "2025-01-13T02:39:22.375581Z",
     "iopub.status.idle": "2025-01-13T02:39:22.422368Z",
     "shell.execute_reply.started": "2025-01-13T02:39:22.375554Z",
     "shell.execute_reply": "2025-01-13T02:39:22.421144Z"
    }
   },
   "outputs": [
    {
     "name": "stderr",
     "text": "/usr/local/lib/python3.10/dist-packages/sklearn/linear_model/_logistic.py:458: ConvergenceWarning: lbfgs failed to converge (status=1):\nSTOP: TOTAL NO. of ITERATIONS REACHED LIMIT.\n\nIncrease the number of iterations (max_iter) or scale the data as shown in:\n    https://scikit-learn.org/stable/modules/preprocessing.html\nPlease also refer to the documentation for alternative solver options:\n    https://scikit-learn.org/stable/modules/linear_model.html#logistic-regression\n  n_iter_i = _check_optimize_result(\n",
     "output_type": "stream"
    },
    {
     "execution_count": 43,
     "output_type": "execute_result",
     "data": {
      "text/plain": "LogisticRegression()",
      "text/html": "<style>#sk-container-id-1 {color: black;background-color: white;}#sk-container-id-1 pre{padding: 0;}#sk-container-id-1 div.sk-toggleable {background-color: white;}#sk-container-id-1 label.sk-toggleable__label {cursor: pointer;display: block;width: 100%;margin-bottom: 0;padding: 0.3em;box-sizing: border-box;text-align: center;}#sk-container-id-1 label.sk-toggleable__label-arrow:before {content: \"▸\";float: left;margin-right: 0.25em;color: #696969;}#sk-container-id-1 label.sk-toggleable__label-arrow:hover:before {color: black;}#sk-container-id-1 div.sk-estimator:hover label.sk-toggleable__label-arrow:before {color: black;}#sk-container-id-1 div.sk-toggleable__content {max-height: 0;max-width: 0;overflow: hidden;text-align: left;background-color: #f0f8ff;}#sk-container-id-1 div.sk-toggleable__content pre {margin: 0.2em;color: black;border-radius: 0.25em;background-color: #f0f8ff;}#sk-container-id-1 input.sk-toggleable__control:checked~div.sk-toggleable__content {max-height: 200px;max-width: 100%;overflow: auto;}#sk-container-id-1 input.sk-toggleable__control:checked~label.sk-toggleable__label-arrow:before {content: \"▾\";}#sk-container-id-1 div.sk-estimator input.sk-toggleable__control:checked~label.sk-toggleable__label {background-color: #d4ebff;}#sk-container-id-1 div.sk-label input.sk-toggleable__control:checked~label.sk-toggleable__label {background-color: #d4ebff;}#sk-container-id-1 input.sk-hidden--visually {border: 0;clip: rect(1px 1px 1px 1px);clip: rect(1px, 1px, 1px, 1px);height: 1px;margin: -1px;overflow: hidden;padding: 0;position: absolute;width: 1px;}#sk-container-id-1 div.sk-estimator {font-family: monospace;background-color: #f0f8ff;border: 1px dotted black;border-radius: 0.25em;box-sizing: border-box;margin-bottom: 0.5em;}#sk-container-id-1 div.sk-estimator:hover {background-color: #d4ebff;}#sk-container-id-1 div.sk-parallel-item::after {content: \"\";width: 100%;border-bottom: 1px solid gray;flex-grow: 1;}#sk-container-id-1 div.sk-label:hover label.sk-toggleable__label {background-color: #d4ebff;}#sk-container-id-1 div.sk-serial::before {content: \"\";position: absolute;border-left: 1px solid gray;box-sizing: border-box;top: 0;bottom: 0;left: 50%;z-index: 0;}#sk-container-id-1 div.sk-serial {display: flex;flex-direction: column;align-items: center;background-color: white;padding-right: 0.2em;padding-left: 0.2em;position: relative;}#sk-container-id-1 div.sk-item {position: relative;z-index: 1;}#sk-container-id-1 div.sk-parallel {display: flex;align-items: stretch;justify-content: center;background-color: white;position: relative;}#sk-container-id-1 div.sk-item::before, #sk-container-id-1 div.sk-parallel-item::before {content: \"\";position: absolute;border-left: 1px solid gray;box-sizing: border-box;top: 0;bottom: 0;left: 50%;z-index: -1;}#sk-container-id-1 div.sk-parallel-item {display: flex;flex-direction: column;z-index: 1;position: relative;background-color: white;}#sk-container-id-1 div.sk-parallel-item:first-child::after {align-self: flex-end;width: 50%;}#sk-container-id-1 div.sk-parallel-item:last-child::after {align-self: flex-start;width: 50%;}#sk-container-id-1 div.sk-parallel-item:only-child::after {width: 0;}#sk-container-id-1 div.sk-dashed-wrapped {border: 1px dashed gray;margin: 0 0.4em 0.5em 0.4em;box-sizing: border-box;padding-bottom: 0.4em;background-color: white;}#sk-container-id-1 div.sk-label label {font-family: monospace;font-weight: bold;display: inline-block;line-height: 1.2em;}#sk-container-id-1 div.sk-label-container {text-align: center;}#sk-container-id-1 div.sk-container {/* jupyter's `normalize.less` sets `[hidden] { display: none; }` but bootstrap.min.css set `[hidden] { display: none !important; }` so we also need the `!important` here to be able to override the default hidden behavior on the sphinx rendered scikit-learn.org. See: https://github.com/scikit-learn/scikit-learn/issues/21755 */display: inline-block !important;position: relative;}#sk-container-id-1 div.sk-text-repr-fallback {display: none;}</style><div id=\"sk-container-id-1\" class=\"sk-top-container\"><div class=\"sk-text-repr-fallback\"><pre>LogisticRegression()</pre><b>In a Jupyter environment, please rerun this cell to show the HTML representation or trust the notebook. <br />On GitHub, the HTML representation is unable to render, please try loading this page with nbviewer.org.</b></div><div class=\"sk-container\" hidden><div class=\"sk-item\"><div class=\"sk-estimator sk-toggleable\"><input class=\"sk-toggleable__control sk-hidden--visually\" id=\"sk-estimator-id-1\" type=\"checkbox\" checked><label for=\"sk-estimator-id-1\" class=\"sk-toggleable__label sk-toggleable__label-arrow\">LogisticRegression</label><div class=\"sk-toggleable__content\"><pre>LogisticRegression()</pre></div></div></div></div></div>"
     },
     "metadata": {}
    }
   ],
   "execution_count": 43
  },
  {
   "cell_type": "code",
   "source": "# Predictions\ny_pred = model.predict(X_test)",
   "metadata": {
    "trusted": true,
    "execution": {
     "iopub.status.busy": "2025-01-13T02:39:32.997143Z",
     "iopub.execute_input": "2025-01-13T02:39:32.997518Z",
     "iopub.status.idle": "2025-01-13T02:39:33.004917Z",
     "shell.execute_reply.started": "2025-01-13T02:39:32.997486Z",
     "shell.execute_reply": "2025-01-13T02:39:33.003734Z"
    }
   },
   "outputs": [],
   "execution_count": 44
  },
  {
   "cell_type": "code",
   "source": "# Evaluation\naccuracy = accuracy_score(y_test, y_pred)\nprint(\"Accuracy:\", accuracy)\nprint(\"Confusion Matrix:\\n\", confusion_matrix(y_test, y_pred))\nprint(\"Classification Report:\\n\", classification_report(y_test, y_pred))",
   "metadata": {
    "trusted": true,
    "execution": {
     "iopub.status.busy": "2025-01-13T02:39:46.996937Z",
     "iopub.execute_input": "2025-01-13T02:39:46.997363Z",
     "iopub.status.idle": "2025-01-13T02:39:47.016808Z",
     "shell.execute_reply.started": "2025-01-13T02:39:46.997327Z",
     "shell.execute_reply": "2025-01-13T02:39:47.015803Z"
    }
   },
   "outputs": [
    {
     "name": "stdout",
     "text": "Accuracy: 0.8100558659217877\nConfusion Matrix:\n [[90 15]\n [19 55]]\nClassification Report:\n               precision    recall  f1-score   support\n\n           0       0.83      0.86      0.84       105\n           1       0.79      0.74      0.76        74\n\n    accuracy                           0.81       179\n   macro avg       0.81      0.80      0.80       179\nweighted avg       0.81      0.81      0.81       179\n\n",
     "output_type": "stream"
    }
   ],
   "execution_count": 45
  }
 ]
}
