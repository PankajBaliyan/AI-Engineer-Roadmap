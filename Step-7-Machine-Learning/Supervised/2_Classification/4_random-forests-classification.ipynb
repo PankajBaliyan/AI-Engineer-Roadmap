{
 "metadata": {
  "kernelspec": {
   "language": "python",
   "display_name": "Python 3",
   "name": "python3"
  },
  "language_info": {
   "name": "python",
   "version": "3.10.12",
   "mimetype": "text/x-python",
   "codemirror_mode": {
    "name": "ipython",
    "version": 3
   },
   "pygments_lexer": "ipython3",
   "nbconvert_exporter": "python",
   "file_extension": ".py"
  },
  "kaggle": {
   "accelerator": "none",
   "dataSources": [
    {
     "sourceId": 3136,
     "databundleVersionId": 26502,
     "sourceType": "competition"
    }
   ],
   "dockerImageVersionId": 30839,
   "isInternetEnabled": false,
   "language": "python",
   "sourceType": "notebook",
   "isGpuEnabled": false
  }
 },
 "nbformat_minor": 4,
 "nbformat": 4,
 "cells": [
  {
   "cell_type": "code",
   "source": [
    "import pandas as pd\n",
    "from sklearn.ensemble import RandomForestClassifier\n",
    "from sklearn.metrics import accuracy_score, confusion_matrix, classification_report\n",
    "from sklearn.model_selection import train_test_split"
   ],
   "metadata": {
    "_uuid": "8f2839f25d086af736a60e9eeb907d3b93b6e0e5",
    "_cell_guid": "b1076dfc-b9ad-4769-8c92-a6c4dae69d19",
    "trusted": true,
    "execution": {
     "iopub.status.busy": "2025-01-16T02:21:48.577842Z",
     "iopub.execute_input": "2025-01-16T02:21:48.578087Z",
     "iopub.status.idle": "2025-01-16T02:21:52.216159Z",
     "shell.execute_reply.started": "2025-01-16T02:21:48.578063Z",
     "shell.execute_reply": "2025-01-16T02:21:52.215109Z"
    }
   },
   "outputs": [],
   "execution_count": 1
  },
  {
   "cell_type": "code",
   "source": [
    "# Load dataset\n",
    "df = pd.read_csv('/kaggle/input/titanic/train.csv')\n",
    "\n",
    "# Check the first few rows\n",
    "df.head()\n"
   ],
   "metadata": {
    "trusted": true,
    "execution": {
     "iopub.status.busy": "2025-01-16T02:29:28.926335Z",
     "iopub.execute_input": "2025-01-16T02:29:28.926676Z",
     "iopub.status.idle": "2025-01-16T02:29:28.946160Z",
     "shell.execute_reply.started": "2025-01-16T02:29:28.926650Z",
     "shell.execute_reply": "2025-01-16T02:29:28.945243Z"
    }
   },
   "outputs": [
    {
     "execution_count": 18,
     "output_type": "execute_result",
     "data": {
      "text/plain": "   PassengerId  Survived  Pclass  \\\n0            1         0       3   \n1            2         1       1   \n2            3         1       3   \n3            4         1       1   \n4            5         0       3   \n\n                                                Name     Sex   Age  SibSp  \\\n0                            Braund, Mr. Owen Harris    male  22.0      1   \n1  Cumings, Mrs. John Bradley (Florence Briggs Th...  female  38.0      1   \n2                             Heikkinen, Miss. Laina  female  26.0      0   \n3       Futrelle, Mrs. Jacques Heath (Lily May Peel)  female  35.0      1   \n4                           Allen, Mr. William Henry    male  35.0      0   \n\n   Parch            Ticket     Fare Cabin Embarked  \n0      0         A/5 21171   7.2500   NaN        S  \n1      0          PC 17599  71.2833   C85        C  \n2      0  STON/O2. 3101282   7.9250   NaN        S  \n3      0            113803  53.1000  C123        S  \n4      0            373450   8.0500   NaN        S  ",
      "text/html": "<div>\n<style scoped>\n    .dataframe tbody tr th:only-of-type {\n        vertical-align: middle;\n    }\n\n    .dataframe tbody tr th {\n        vertical-align: top;\n    }\n\n    .dataframe thead th {\n        text-align: right;\n    }\n</style>\n<table border=\"1\" class=\"dataframe\">\n  <thead>\n    <tr style=\"text-align: right;\">\n      <th></th>\n      <th>PassengerId</th>\n      <th>Survived</th>\n      <th>Pclass</th>\n      <th>Name</th>\n      <th>Sex</th>\n      <th>Age</th>\n      <th>SibSp</th>\n      <th>Parch</th>\n      <th>Ticket</th>\n      <th>Fare</th>\n      <th>Cabin</th>\n      <th>Embarked</th>\n    </tr>\n  </thead>\n  <tbody>\n    <tr>\n      <th>0</th>\n      <td>1</td>\n      <td>0</td>\n      <td>3</td>\n      <td>Braund, Mr. Owen Harris</td>\n      <td>male</td>\n      <td>22.0</td>\n      <td>1</td>\n      <td>0</td>\n      <td>A/5 21171</td>\n      <td>7.2500</td>\n      <td>NaN</td>\n      <td>S</td>\n    </tr>\n    <tr>\n      <th>1</th>\n      <td>2</td>\n      <td>1</td>\n      <td>1</td>\n      <td>Cumings, Mrs. John Bradley (Florence Briggs Th...</td>\n      <td>female</td>\n      <td>38.0</td>\n      <td>1</td>\n      <td>0</td>\n      <td>PC 17599</td>\n      <td>71.2833</td>\n      <td>C85</td>\n      <td>C</td>\n    </tr>\n    <tr>\n      <th>2</th>\n      <td>3</td>\n      <td>1</td>\n      <td>3</td>\n      <td>Heikkinen, Miss. Laina</td>\n      <td>female</td>\n      <td>26.0</td>\n      <td>0</td>\n      <td>0</td>\n      <td>STON/O2. 3101282</td>\n      <td>7.9250</td>\n      <td>NaN</td>\n      <td>S</td>\n    </tr>\n    <tr>\n      <th>3</th>\n      <td>4</td>\n      <td>1</td>\n      <td>1</td>\n      <td>Futrelle, Mrs. Jacques Heath (Lily May Peel)</td>\n      <td>female</td>\n      <td>35.0</td>\n      <td>1</td>\n      <td>0</td>\n      <td>113803</td>\n      <td>53.1000</td>\n      <td>C123</td>\n      <td>S</td>\n    </tr>\n    <tr>\n      <th>4</th>\n      <td>5</td>\n      <td>0</td>\n      <td>3</td>\n      <td>Allen, Mr. William Henry</td>\n      <td>male</td>\n      <td>35.0</td>\n      <td>0</td>\n      <td>0</td>\n      <td>373450</td>\n      <td>8.0500</td>\n      <td>NaN</td>\n      <td>S</td>\n    </tr>\n  </tbody>\n</table>\n</div>"
     },
     "metadata": {}
    }
   ],
   "execution_count": 18
  },
  {
   "cell_type": "code",
   "source": "df.isnull().sum()",
   "metadata": {
    "trusted": true,
    "execution": {
     "iopub.status.busy": "2025-01-16T02:31:49.848715Z",
     "iopub.execute_input": "2025-01-16T02:31:49.849030Z",
     "iopub.status.idle": "2025-01-16T02:31:49.856457Z",
     "shell.execute_reply.started": "2025-01-16T02:31:49.849006Z",
     "shell.execute_reply": "2025-01-16T02:31:49.855401Z"
    }
   },
   "outputs": [
    {
     "execution_count": 30,
     "output_type": "execute_result",
     "data": {
      "text/plain": "PassengerId    0\nSurvived       0\nPclass         0\nName           0\nSex            0\nAge            0\nSibSp          0\nParch          0\nTicket         0\nFare           0\nCabin          0\nEmbarked       0\ndtype: int64"
     },
     "metadata": {}
    }
   ],
   "execution_count": 30
  },
  {
   "cell_type": "code",
   "source": "# Drop irrelevant columns\n# df = df.drop(['PassengerId', 'Name', 'Ticket', 'Cabin'], axis=1)",
   "metadata": {
    "trusted": true
   },
   "outputs": [],
   "execution_count": null
  },
  {
   "cell_type": "code",
   "source": "# Fill missing/Null values\n# df['Age'] = df['Age'].fillna(df['Age'].median())\n# df['Age'].fillna(df['Age'].mean(), inplace=True)\n\n# df['Cabin'].fillna(df['Cabin'].mode()[0], inplace=True)\n\ndf['Embarked'].fillna(df['Embarked'].mode()[0], inplace=True)",
   "metadata": {
    "trusted": true,
    "execution": {
     "iopub.status.busy": "2025-01-16T02:31:18.678697Z",
     "iopub.execute_input": "2025-01-16T02:31:18.679001Z",
     "iopub.status.idle": "2025-01-16T02:31:18.685042Z",
     "shell.execute_reply.started": "2025-01-16T02:31:18.678978Z",
     "shell.execute_reply": "2025-01-16T02:31:18.684000Z"
    }
   },
   "outputs": [
    {
     "name": "stderr",
     "text": "<ipython-input-25-5079fe983c70>:7: FutureWarning: A value is trying to be set on a copy of a DataFrame or Series through chained assignment using an inplace method.\nThe behavior will change in pandas 3.0. This inplace method will never work because the intermediate object on which we are setting values always behaves as a copy.\n\nFor example, when doing 'df[col].method(value, inplace=True)', try using 'df.method({col: value}, inplace=True)' or df[col] = df[col].method(value) instead, to perform the operation inplace on the original object.\n\n\n  df['Embarked'].fillna(df['Embarked'].mode()[0], inplace=True)\n",
     "output_type": "stream"
    }
   ],
   "execution_count": 25
  },
  {
   "cell_type": "code",
   "source": "# Preprocessing\ndf['Sex'] = df['Sex'].map({'male': 0, 'female': 1})  # Convert 'Sex' to numerical\n# df['Embarked'] = df['Embarked'].map({'C': 0, 'Q': 1, 'S': 2})  # Convert 'Embarked'",
   "metadata": {
    "trusted": true,
    "execution": {
     "iopub.status.busy": "2025-01-16T02:35:29.391663Z",
     "iopub.execute_input": "2025-01-16T02:35:29.391980Z",
     "iopub.status.idle": "2025-01-16T02:35:29.397582Z",
     "shell.execute_reply.started": "2025-01-16T02:35:29.391957Z",
     "shell.execute_reply": "2025-01-16T02:35:29.396543Z"
    }
   },
   "outputs": [],
   "execution_count": 38
  },
  {
   "cell_type": "code",
   "source": "df.head()",
   "metadata": {
    "trusted": true,
    "execution": {
     "iopub.status.busy": "2025-01-16T02:35:31.386441Z",
     "iopub.execute_input": "2025-01-16T02:35:31.386756Z",
     "iopub.status.idle": "2025-01-16T02:35:31.399412Z",
     "shell.execute_reply.started": "2025-01-16T02:35:31.386732Z",
     "shell.execute_reply": "2025-01-16T02:35:31.398387Z"
    }
   },
   "outputs": [
    {
     "execution_count": 39,
     "output_type": "execute_result",
     "data": {
      "text/plain": "   PassengerId  Survived  Pclass  \\\n0            1         0       3   \n1            2         1       1   \n2            3         1       3   \n3            4         1       1   \n4            5         0       3   \n\n                                                Name  Sex   Age  SibSp  Parch  \\\n0                            Braund, Mr. Owen Harris    0  22.0      1      0   \n1  Cumings, Mrs. John Bradley (Florence Briggs Th...    1  38.0      1      0   \n2                             Heikkinen, Miss. Laina    1  26.0      0      0   \n3       Futrelle, Mrs. Jacques Heath (Lily May Peel)    1  35.0      1      0   \n4                           Allen, Mr. William Henry    0  35.0      0      0   \n\n             Ticket     Fare    Cabin  Embarked  \n0         A/5 21171   7.2500  B96 B98         2  \n1          PC 17599  71.2833      C85         0  \n2  STON/O2. 3101282   7.9250  B96 B98         2  \n3            113803  53.1000     C123         2  \n4            373450   8.0500  B96 B98         2  ",
      "text/html": "<div>\n<style scoped>\n    .dataframe tbody tr th:only-of-type {\n        vertical-align: middle;\n    }\n\n    .dataframe tbody tr th {\n        vertical-align: top;\n    }\n\n    .dataframe thead th {\n        text-align: right;\n    }\n</style>\n<table border=\"1\" class=\"dataframe\">\n  <thead>\n    <tr style=\"text-align: right;\">\n      <th></th>\n      <th>PassengerId</th>\n      <th>Survived</th>\n      <th>Pclass</th>\n      <th>Name</th>\n      <th>Sex</th>\n      <th>Age</th>\n      <th>SibSp</th>\n      <th>Parch</th>\n      <th>Ticket</th>\n      <th>Fare</th>\n      <th>Cabin</th>\n      <th>Embarked</th>\n    </tr>\n  </thead>\n  <tbody>\n    <tr>\n      <th>0</th>\n      <td>1</td>\n      <td>0</td>\n      <td>3</td>\n      <td>Braund, Mr. Owen Harris</td>\n      <td>0</td>\n      <td>22.0</td>\n      <td>1</td>\n      <td>0</td>\n      <td>A/5 21171</td>\n      <td>7.2500</td>\n      <td>B96 B98</td>\n      <td>2</td>\n    </tr>\n    <tr>\n      <th>1</th>\n      <td>2</td>\n      <td>1</td>\n      <td>1</td>\n      <td>Cumings, Mrs. John Bradley (Florence Briggs Th...</td>\n      <td>1</td>\n      <td>38.0</td>\n      <td>1</td>\n      <td>0</td>\n      <td>PC 17599</td>\n      <td>71.2833</td>\n      <td>C85</td>\n      <td>0</td>\n    </tr>\n    <tr>\n      <th>2</th>\n      <td>3</td>\n      <td>1</td>\n      <td>3</td>\n      <td>Heikkinen, Miss. Laina</td>\n      <td>1</td>\n      <td>26.0</td>\n      <td>0</td>\n      <td>0</td>\n      <td>STON/O2. 3101282</td>\n      <td>7.9250</td>\n      <td>B96 B98</td>\n      <td>2</td>\n    </tr>\n    <tr>\n      <th>3</th>\n      <td>4</td>\n      <td>1</td>\n      <td>1</td>\n      <td>Futrelle, Mrs. Jacques Heath (Lily May Peel)</td>\n      <td>1</td>\n      <td>35.0</td>\n      <td>1</td>\n      <td>0</td>\n      <td>113803</td>\n      <td>53.1000</td>\n      <td>C123</td>\n      <td>2</td>\n    </tr>\n    <tr>\n      <th>4</th>\n      <td>5</td>\n      <td>0</td>\n      <td>3</td>\n      <td>Allen, Mr. William Henry</td>\n      <td>0</td>\n      <td>35.0</td>\n      <td>0</td>\n      <td>0</td>\n      <td>373450</td>\n      <td>8.0500</td>\n      <td>B96 B98</td>\n      <td>2</td>\n    </tr>\n  </tbody>\n</table>\n</div>"
     },
     "metadata": {}
    }
   ],
   "execution_count": 39
  },
  {
   "cell_type": "code",
   "source": "df.info()",
   "metadata": {
    "trusted": true,
    "execution": {
     "iopub.status.busy": "2025-01-16T02:36:30.894940Z",
     "iopub.execute_input": "2025-01-16T02:36:30.895291Z",
     "iopub.status.idle": "2025-01-16T02:36:30.905616Z",
     "shell.execute_reply.started": "2025-01-16T02:36:30.895264Z",
     "shell.execute_reply": "2025-01-16T02:36:30.904704Z"
    }
   },
   "outputs": [
    {
     "name": "stdout",
     "text": "<class 'pandas.core.frame.DataFrame'>\nRangeIndex: 891 entries, 0 to 890\nData columns (total 8 columns):\n #   Column    Non-Null Count  Dtype  \n---  ------    --------------  -----  \n 0   Survived  891 non-null    int64  \n 1   Pclass    891 non-null    int64  \n 2   Sex       891 non-null    int64  \n 3   Age       891 non-null    float64\n 4   SibSp     891 non-null    int64  \n 5   Parch     891 non-null    int64  \n 6   Fare      891 non-null    float64\n 7   Embarked  891 non-null    int64  \ndtypes: float64(2), int64(6)\nmemory usage: 55.8 KB\n",
     "output_type": "stream"
    }
   ],
   "execution_count": 42
  },
  {
   "cell_type": "code",
   "source": "# Drop irrelevant columns\ndf = df.drop(['PassengerId', 'Name', 'Ticket', 'Cabin'], axis=1)",
   "metadata": {
    "trusted": true,
    "execution": {
     "iopub.status.busy": "2025-01-16T02:36:27.620625Z",
     "iopub.execute_input": "2025-01-16T02:36:27.620967Z",
     "iopub.status.idle": "2025-01-16T02:36:27.626042Z",
     "shell.execute_reply.started": "2025-01-16T02:36:27.620937Z",
     "shell.execute_reply": "2025-01-16T02:36:27.624925Z"
    }
   },
   "outputs": [],
   "execution_count": 41
  },
  {
   "cell_type": "code",
   "source": "# Define the target and features\nX = df.drop('Survived', axis=1)\ny = df['Survived']",
   "metadata": {
    "trusted": true,
    "execution": {
     "iopub.status.busy": "2025-01-16T02:36:35.439326Z",
     "iopub.execute_input": "2025-01-16T02:36:35.439644Z",
     "iopub.status.idle": "2025-01-16T02:36:35.444688Z",
     "shell.execute_reply.started": "2025-01-16T02:36:35.439619Z",
     "shell.execute_reply": "2025-01-16T02:36:35.443425Z"
    }
   },
   "outputs": [],
   "execution_count": 43
  },
  {
   "cell_type": "code",
   "source": "X_train, X_test, y_train, y_test = train_test_split(X, y, test_size=0.2, random_state=42)",
   "metadata": {
    "trusted": true,
    "execution": {
     "iopub.status.busy": "2025-01-16T02:36:38.066667Z",
     "iopub.execute_input": "2025-01-16T02:36:38.066972Z",
     "iopub.status.idle": "2025-01-16T02:36:38.073646Z",
     "shell.execute_reply.started": "2025-01-16T02:36:38.066948Z",
     "shell.execute_reply": "2025-01-16T02:36:38.072707Z"
    }
   },
   "outputs": [],
   "execution_count": 44
  },
  {
   "cell_type": "code",
   "source": "# Initialize Random Forest Classifier\nrf_model = RandomForestClassifier(n_estimators=100, random_state=42)\n\n# Train the model\nrf_model.fit(X_train, y_train)\n",
   "metadata": {
    "trusted": true,
    "execution": {
     "iopub.status.busy": "2025-01-16T02:36:40.175454Z",
     "iopub.execute_input": "2025-01-16T02:36:40.175761Z",
     "iopub.status.idle": "2025-01-16T02:36:40.377930Z",
     "shell.execute_reply.started": "2025-01-16T02:36:40.175737Z",
     "shell.execute_reply": "2025-01-16T02:36:40.376984Z"
    }
   },
   "outputs": [
    {
     "execution_count": 45,
     "output_type": "execute_result",
     "data": {
      "text/plain": "RandomForestClassifier(random_state=42)",
      "text/html": "<style>#sk-container-id-1 {color: black;background-color: white;}#sk-container-id-1 pre{padding: 0;}#sk-container-id-1 div.sk-toggleable {background-color: white;}#sk-container-id-1 label.sk-toggleable__label {cursor: pointer;display: block;width: 100%;margin-bottom: 0;padding: 0.3em;box-sizing: border-box;text-align: center;}#sk-container-id-1 label.sk-toggleable__label-arrow:before {content: \"▸\";float: left;margin-right: 0.25em;color: #696969;}#sk-container-id-1 label.sk-toggleable__label-arrow:hover:before {color: black;}#sk-container-id-1 div.sk-estimator:hover label.sk-toggleable__label-arrow:before {color: black;}#sk-container-id-1 div.sk-toggleable__content {max-height: 0;max-width: 0;overflow: hidden;text-align: left;background-color: #f0f8ff;}#sk-container-id-1 div.sk-toggleable__content pre {margin: 0.2em;color: black;border-radius: 0.25em;background-color: #f0f8ff;}#sk-container-id-1 input.sk-toggleable__control:checked~div.sk-toggleable__content {max-height: 200px;max-width: 100%;overflow: auto;}#sk-container-id-1 input.sk-toggleable__control:checked~label.sk-toggleable__label-arrow:before {content: \"▾\";}#sk-container-id-1 div.sk-estimator input.sk-toggleable__control:checked~label.sk-toggleable__label {background-color: #d4ebff;}#sk-container-id-1 div.sk-label input.sk-toggleable__control:checked~label.sk-toggleable__label {background-color: #d4ebff;}#sk-container-id-1 input.sk-hidden--visually {border: 0;clip: rect(1px 1px 1px 1px);clip: rect(1px, 1px, 1px, 1px);height: 1px;margin: -1px;overflow: hidden;padding: 0;position: absolute;width: 1px;}#sk-container-id-1 div.sk-estimator {font-family: monospace;background-color: #f0f8ff;border: 1px dotted black;border-radius: 0.25em;box-sizing: border-box;margin-bottom: 0.5em;}#sk-container-id-1 div.sk-estimator:hover {background-color: #d4ebff;}#sk-container-id-1 div.sk-parallel-item::after {content: \"\";width: 100%;border-bottom: 1px solid gray;flex-grow: 1;}#sk-container-id-1 div.sk-label:hover label.sk-toggleable__label {background-color: #d4ebff;}#sk-container-id-1 div.sk-serial::before {content: \"\";position: absolute;border-left: 1px solid gray;box-sizing: border-box;top: 0;bottom: 0;left: 50%;z-index: 0;}#sk-container-id-1 div.sk-serial {display: flex;flex-direction: column;align-items: center;background-color: white;padding-right: 0.2em;padding-left: 0.2em;position: relative;}#sk-container-id-1 div.sk-item {position: relative;z-index: 1;}#sk-container-id-1 div.sk-parallel {display: flex;align-items: stretch;justify-content: center;background-color: white;position: relative;}#sk-container-id-1 div.sk-item::before, #sk-container-id-1 div.sk-parallel-item::before {content: \"\";position: absolute;border-left: 1px solid gray;box-sizing: border-box;top: 0;bottom: 0;left: 50%;z-index: -1;}#sk-container-id-1 div.sk-parallel-item {display: flex;flex-direction: column;z-index: 1;position: relative;background-color: white;}#sk-container-id-1 div.sk-parallel-item:first-child::after {align-self: flex-end;width: 50%;}#sk-container-id-1 div.sk-parallel-item:last-child::after {align-self: flex-start;width: 50%;}#sk-container-id-1 div.sk-parallel-item:only-child::after {width: 0;}#sk-container-id-1 div.sk-dashed-wrapped {border: 1px dashed gray;margin: 0 0.4em 0.5em 0.4em;box-sizing: border-box;padding-bottom: 0.4em;background-color: white;}#sk-container-id-1 div.sk-label label {font-family: monospace;font-weight: bold;display: inline-block;line-height: 1.2em;}#sk-container-id-1 div.sk-label-container {text-align: center;}#sk-container-id-1 div.sk-container {/* jupyter's `normalize.less` sets `[hidden] { display: none; }` but bootstrap.min.css set `[hidden] { display: none !important; }` so we also need the `!important` here to be able to override the default hidden behavior on the sphinx rendered scikit-learn.org. See: https://github.com/scikit-learn/scikit-learn/issues/21755 */display: inline-block !important;position: relative;}#sk-container-id-1 div.sk-text-repr-fallback {display: none;}</style><div id=\"sk-container-id-1\" class=\"sk-top-container\"><div class=\"sk-text-repr-fallback\"><pre>RandomForestClassifier(random_state=42)</pre><b>In a Jupyter environment, please rerun this cell to show the HTML representation or trust the notebook. <br />On GitHub, the HTML representation is unable to render, please try loading this page with nbviewer.org.</b></div><div class=\"sk-container\" hidden><div class=\"sk-item\"><div class=\"sk-estimator sk-toggleable\"><input class=\"sk-toggleable__control sk-hidden--visually\" id=\"sk-estimator-id-1\" type=\"checkbox\" checked><label for=\"sk-estimator-id-1\" class=\"sk-toggleable__label sk-toggleable__label-arrow\">RandomForestClassifier</label><div class=\"sk-toggleable__content\"><pre>RandomForestClassifier(random_state=42)</pre></div></div></div></div></div>"
     },
     "metadata": {}
    }
   ],
   "execution_count": 45
  },
  {
   "cell_type": "code",
   "source": "# Predict on the test set\ny_pred = rf_model.predict(X_test)\n",
   "metadata": {
    "trusted": true,
    "execution": {
     "iopub.status.busy": "2025-01-16T02:36:42.920558Z",
     "iopub.execute_input": "2025-01-16T02:36:42.920862Z",
     "iopub.status.idle": "2025-01-16T02:36:42.934557Z",
     "shell.execute_reply.started": "2025-01-16T02:36:42.920838Z",
     "shell.execute_reply": "2025-01-16T02:36:42.933682Z"
    }
   },
   "outputs": [],
   "execution_count": 46
  },
  {
   "cell_type": "code",
   "source": "# Accuracy\naccuracy = accuracy_score(y_test, y_pred)\nprint(f\"Accuracy: {accuracy}\")\n\n# Confusion Matrix\nconf_matrix = confusion_matrix(y_test, y_pred)\nprint(\"Confusion Matrix:\")\nprint(conf_matrix)\n\n# Classification Report\nclass_report = classification_report(y_test, y_pred)\nprint(\"Classification Report:\")\nprint(class_report)\n",
   "metadata": {
    "trusted": true,
    "execution": {
     "iopub.status.busy": "2025-01-16T02:36:45.475372Z",
     "iopub.execute_input": "2025-01-16T02:36:45.475703Z",
     "iopub.status.idle": "2025-01-16T02:36:45.492325Z",
     "shell.execute_reply.started": "2025-01-16T02:36:45.475678Z",
     "shell.execute_reply": "2025-01-16T02:36:45.491363Z"
    }
   },
   "outputs": [
    {
     "name": "stdout",
     "text": "Accuracy: 0.8100558659217877\nConfusion Matrix:\n[[90 15]\n [19 55]]\nClassification Report:\n              precision    recall  f1-score   support\n\n           0       0.83      0.86      0.84       105\n           1       0.79      0.74      0.76        74\n\n    accuracy                           0.81       179\n   macro avg       0.81      0.80      0.80       179\nweighted avg       0.81      0.81      0.81       179\n\n",
     "output_type": "stream"
    }
   ],
   "execution_count": 47
  },
  {
   "cell_type": "code",
   "source": "# feature importance\nimport matplotlib.pyplot as plt\n\n# Feature importance\nfeature_importances = rf_model.feature_importances_\nfeatures = X.columns\n\n# Plot feature importance\nplt.figure(figsize=(10, 6))\nplt.barh(features, feature_importances, color='skyblue')\nplt.xlabel('Feature Importance')\nplt.ylabel('Features')\nplt.title('Feature Importance in Random Forest')\nplt.show()\n",
   "metadata": {
    "trusted": true,
    "execution": {
     "iopub.status.busy": "2025-01-16T02:36:56.119751Z",
     "iopub.execute_input": "2025-01-16T02:36:56.120187Z",
     "iopub.status.idle": "2025-01-16T02:36:56.462892Z",
     "shell.execute_reply.started": "2025-01-16T02:36:56.120149Z",
     "shell.execute_reply": "2025-01-16T02:36:56.461888Z"
    }
   },
   "outputs": [
    {
     "output_type": "display_data",
     "data": {
      "text/plain": "<Figure size 1000x600 with 1 Axes>",
      "image/png": "[encoded data removed]"
     },
     "metadata": {}
    }
   ],
   "execution_count": 48
  },
  {
   "cell_type": "code",
   "source": "# Hyper parameter tuning\nfrom sklearn.model_selection import GridSearchCV\n\n# Define parameter grid\nparam_grid = {\n    'n_estimators': [100, 200, 300],\n    'max_depth': [None, 10, 20, 30],\n    'min_samples_split': [2, 5, 10],\n    'min_samples_leaf': [1, 2, 4]\n}\n\n# Grid Search\ngrid_search = GridSearchCV(estimator=rf_model, param_grid=param_grid, cv=3, n_jobs=-1, verbose=2)\ngrid_search.fit(X_train, y_train)\n\n# Best parameters\nprint(f\"Best Parameters: {grid_search.best_params_}\")\n",
   "metadata": {
    "trusted": true,
    "execution": {
     "iopub.status.busy": "2025-01-16T02:37:13.223570Z",
     "iopub.execute_input": "2025-01-16T02:37:13.223881Z",
     "iopub.status.idle": "2025-01-16T02:38:02.573237Z",
     "shell.execute_reply.started": "2025-01-16T02:37:13.223857Z",
     "shell.execute_reply": "2025-01-16T02:38:02.571947Z"
    }
   },
   "outputs": [
    {
     "name": "stdout",
     "text": "Fitting 3 folds for each of 108 candidates, totalling 324 fits\nBest Parameters: {'max_depth': 10, 'min_samples_leaf': 2, 'min_samples_split': 10, 'n_estimators': 100}\n",
     "output_type": "stream"
    }
   ],
   "execution_count": 49
  },
  {
   "cell_type": "code",
   "source": "\n# Import libraries.\n# Load the Kaggle dataset (e.g., Titanic).\n# Preprocess the data (handle missing values, encode categorical variables).\n# Split the data into training and testing sets.\n# Train a Random Forest model.\n# Evaluate the model with accuracy, confusion matrix, and classification report.\n# Visualize feature importance.\n# Optionally, perform hyperparameter tuning.",
   "metadata": {
    "trusted": true
   },
   "outputs": [],
   "execution_count": null
  }
 ]
}
