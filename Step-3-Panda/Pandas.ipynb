{
  "cells": [
    {
      "cell_type": "code",
      "execution_count": 1,
      "metadata": {
        "trusted": true
      },
      "outputs": [],
      "source": [
        "import pandas as pd"
      ]
    },
    {
      "cell_type": "code",
      "execution_count": 5,
      "metadata": {
        "trusted": true
      },
      "outputs": [
        {
          "name": "stdout",
          "output_type": "stream",
          "text": [
            "2.2.3\n"
          ]
        }
      ],
      "source": [
        "print(pd.__version__)"
      ]
    },
    {
      "cell_type": "code",
      "execution_count": 6,
      "metadata": {
        "trusted": true
      },
      "outputs": [
        {
          "name": "stdout",
          "output_type": "stream",
          "text": [
            "0    1\n",
            "1    2\n",
            "2    3\n",
            "3    4\n",
            "4    6\n",
            "dtype: int64\n"
          ]
        }
      ],
      "source": [
        "mySeries = [1,2,3,4,6]\n",
        "result = pd.Series(mySeries)\n",
        "print(result)"
      ]
    },
    {
      "cell_type": "code",
      "execution_count": 15,
      "metadata": {
        "trusted": true
      },
      "outputs": [
        {
          "name": "stdout",
          "output_type": "stream",
          "text": [
            "    cars  numbers    name\n",
            "0    one       12  Pankaj\n",
            "1    two       13  deepak\n",
            "2  three       14    helo\n"
          ]
        }
      ],
      "source": [
        "myDataFrame = {\n",
        "    \"cars\": [\"one\",\"two\",\"three\"],\n",
        "    \"numbers\":[12,13,14],\n",
        "    \"name\":[\"Pankaj\",\"deepak\",\"helo\"]\n",
        "}\n",
        "result = pd.DataFrame(myDataFrame)\n",
        "print(result)"
      ]
    },
    {
      "cell_type": "code",
      "execution_count": 20,
      "metadata": {
        "trusted": true
      },
      "outputs": [
        {
          "name": "stdout",
          "output_type": "stream",
          "text": [
            "     Duration  Pulse  Maxpulse  Calories\n",
            "0          60    110       130     409.1\n",
            "1          60    117       145     479.0\n",
            "2          60    103       135     340.0\n",
            "3          45    109       175     282.4\n",
            "4          45    117       148     406.0\n",
            "..        ...    ...       ...       ...\n",
            "164        60    105       140     290.8\n",
            "165        60    110       145     300.0\n",
            "166        60    115       145     310.2\n",
            "167        75    120       150     320.4\n",
            "168        75    125       150     330.4\n",
            "\n",
            "[169 rows x 4 columns]\n"
          ]
        }
      ],
      "source": [
        "# read csv file\n",
        "result = pd.read_csv('data.csv')\n",
        "\n",
        "# create dataFrame\n",
        "df = pd.DataFrame(result)\n",
        "\n",
        "# export dataFrame to CSV file\n",
        "df.to_csv(\"myData.csv\")\n",
        "print(df)"
      ]
    },
    {
      "cell_type": "code",
      "execution_count": 26,
      "metadata": {
        "trusted": true
      },
      "outputs": [
        {
          "data": {
            "text/plain": [
              "(169, 4)"
            ]
          },
          "execution_count": 26,
          "metadata": {},
          "output_type": "execute_result"
        }
      ],
      "source": [
        "# read excel file\n",
        "# result = pd.read_excel('data.xlsx')\n",
        "# print(result)\n",
        "\n",
        "# return rows & columns\n",
        "df.shape "
      ]
    },
    {
      "cell_type": "code",
      "execution_count": 28,
      "metadata": {
        "trusted": true
      },
      "outputs": [
        {
          "name": "stdout",
          "output_type": "stream",
          "text": [
            "     Duration  Pulse\n",
            "0          60    110\n",
            "1          60    117\n",
            "2          60    103\n",
            "3          45    109\n",
            "4          45    117\n",
            "..        ...    ...\n",
            "164        60    105\n",
            "165        60    110\n",
            "166        60    115\n",
            "167        75    120\n",
            "168        75    125\n",
            "\n",
            "[169 rows x 2 columns]\n"
          ]
        }
      ],
      "source": [
        "# Return single column\n",
        "# result =  df['Duration']\n",
        "# print(result)\n",
        "\n",
        "# Return multiple columns\n",
        "result =  df[['Duration', 'Pulse']]\n",
        "print(result)\n",
        "\n"
      ]
    },
    {
      "cell_type": "code",
      "execution_count": 33,
      "metadata": {
        "trusted": true
      },
      "outputs": [
        {
          "name": "stdout",
          "output_type": "stream",
          "text": [
            "60\n",
            "60\n"
          ]
        }
      ],
      "source": [
        "# return particular record / return cell\n",
        "# df.loc[row_index, col_index] & index name \n",
        "rt = df.loc[0, \"Duration\"]\n",
        "print(rt)\n",
        "\n",
        "# based on integer indexes\n",
        "rt = df.iloc[0, 0]\n",
        "print(rt)\n",
        "\n",
        "# both are same, first search with index name, second search sith index number"
      ]
    },
    {
      "cell_type": "code",
      "execution_count": 8,
      "metadata": {
        "trusted": true
      },
      "outputs": [
        {
          "name": "stdout",
          "output_type": "stream",
          "text": [
            "   A  B  C\n",
            "0  1  4  7\n",
            "1  2  5  8\n",
            "2  3  6  9\n",
            "   A  C\n",
            "0  1  7\n",
            "2  3  9\n",
            "   A  C\n",
            "0  1  7\n",
            "2  3  9\n"
          ]
        }
      ],
      "source": [
        "# create a dictionary with five fields each\n",
        "# Sample DataFrame\n",
        "data = {'A': [1, 2, 3], 'B': [4, 5, 6], 'C': [7, 8, 9]}\n",
        "df = pd.DataFrame(data)\n",
        "\n",
        "print(df)\n",
        "\n",
        "# Access = 1 for column\n",
        "# df = df.drop('B', axis=1)\n",
        "\n",
        "# Access = 0 for rows\n",
        "df = df.drop(1, axis=0)\n",
        "\n",
        "# Drop columns 'B' and 'C'\n",
        "# df = df.drop(['B', 'C'], axis=1)\n",
        "# print(df)\n",
        "\n",
        "# If you want to modify the original DataFrame without creating a new one, use the inplace=True parameter:\n",
        "# Drop column 'B' in place\n",
        "df.drop('B', axis=1, inplace=True)\n",
        "print(df)\n",
        "\n",
        "\n",
        "\n",
        "print(df)\n"
      ]
    },
    {
      "cell_type": "code",
      "execution_count": 56,
      "metadata": {},
      "outputs": [
        {
          "name": "stdout",
          "output_type": "stream",
          "text": [
            "      Name  Last Name  Gender        Country  Age        Date    Id\n",
            "3     None     Hanner  Female  United States   25  15/10/2017  3549\n",
            "1     MARA  Hashimoto  Female  Great Britain   25  16/08/2016  1582\n",
            "4  NEREIDA    Magwood    None  United States   58  16/08/2016  2468\n",
            "2   PHILIP       Gent    Male         France   36  21/05/2015  2587\n",
            "        Name        Last Name        Gender                     Country  \\\n",
            "Age                                                                       \n",
            "25      MARA  HannerHashimoto  FemaleFemale  United StatesGreat Britain   \n",
            "36    PHILIP             Gent          Male                      France   \n",
            "58   NEREIDA          Magwood             0               United States   \n",
            "\n",
            "                     Date    Id  \n",
            "Age                              \n",
            "25   15/10/201716/08/2016  5131  \n",
            "36             21/05/2015  2587  \n",
            "58             16/08/2016  2468  \n"
          ]
        }
      ],
      "source": [
        "df = pd.read_csv('../0.Sample-Data/sample_csv.csv')\n",
        "five_rows = df.head()\n",
        "# print(five_rows)\n",
        "\n",
        "# delete column\n",
        "result = five_rows.drop('Unnamed: 0', axis=1)\n",
        "\n",
        "# delete single row\n",
        "result = result.drop(0, axis=0)\n",
        "# delete multiple rows\n",
        "# result = result.drop([1,2], axis=0)\n",
        "\n",
        "# Rename columns\n",
        "result.rename(columns={'First Name':'Name'}, inplace=True)\n",
        "\n",
        "# sort_values => sort by column\n",
        "# print(result)\n",
        "# result = result.sort_values(by='Name', ascending=False) # sort by descending order\n",
        "result = result.sort_values(by='Name', ascending=True) # sort by ascending order\n",
        "\n",
        "# apply => apply function to each element\n",
        "result['Name'] = result['Name'].apply(lambda x: x.upper())\n",
        "# lambda x: x.upper() => convert all name to upper case\n",
        "# In Python, lambda x: x.upper() creates an anonymous function that takes an input x and returns x.upper(),\n",
        "\n",
        "# Make Name column as null, where Age is greater than 30\n",
        "# result['Name'] = result.apply(lambda x: 'null' if x['Age'] > 40 else x['Name'], axis=1)\n",
        "\n",
        "# make first row & first column as null\n",
        "result.iloc[0, 0] = None\n",
        "result.iloc[2, 2] = None\n",
        "\n",
        "# isnull => check null values\n",
        "# result = result.isnull()\n",
        "\n",
        "# dropna = > drop null values, it will drop all rows where any column is null\n",
        "# result = result.dropna()\n",
        "\n",
        "# fillna =  > fill null values, it will fill all null values with 'null'\n",
        "# result = result.fillna('Hello')\n",
        "\n",
        "# groupby => group by column\n",
        "# result = result.groupby('Age').sum()\n",
        "\n",
        "print(result)"
      ]
    },
    {
      "cell_type": "code",
      "execution_count": 82,
      "metadata": {},
      "outputs": [
        {
          "name": "stdout",
          "output_type": "stream",
          "text": [
            "   column_first     Name  Age\n",
            "0             3  Charlie   23\n",
            "1             4    David   34\n"
          ]
        }
      ],
      "source": [
        "# MERGE DATAFRAMES\n",
        "# Create two sample DataFrames\n",
        "df1 = pd.DataFrame(\n",
        "    {\"column_first\": [1, 2, 3, 4], \"Name\": [\"Alice\", \"Bob\", \"Charlie\", \"David\"]}\n",
        ")\n",
        "\n",
        "df2 = pd.DataFrame({\"column_first\": [3, 4, 5, 6], \"Age\": [23, 34, 29, 45]})\n",
        "\n",
        "# .merge() method, which is used to merge two dataframes, it keeps the common values and removes the rest\n",
        "df1 = pd.DataFrame(df1)\n",
        "df2 = pd.DataFrame(df2)\n",
        "# left_index=True, right_index=True => merge based on index values\n",
        "# merged_df = pd.merge(df1, df2, left_index=True, right_index=True)\n",
        "\n",
        "# how='inner' => merge based on common column\n",
        "# merged_df = pd.merge(df1, df2, how='inner', left_index=True, right_index=True)\n",
        "\n",
        "# on='A' => merge based on column A\n",
        "merged_df = pd.merge(df1, df2, on=\"column_first\", how=\"inner\")\n",
        "# on, includes the column name on which the merge is to be performed\n",
        "# how, includes the type of merge to be performed\n",
        "# type of merge: inner, outer, left, right\n",
        "\n",
        "print(merged_df)"
      ]
    },
    {
      "cell_type": "code",
      "execution_count": 83,
      "metadata": {},
      "outputs": [
        {
          "name": "stdout",
          "output_type": "stream",
          "text": [
            "   column_first_left     Name  column_first_right  Age\n",
            "0                  1    Alice                   3   23\n",
            "1                  2      Bob                   4   34\n",
            "2                  3  Charlie                   5   29\n",
            "3                  4    David                   6   45\n"
          ]
        }
      ],
      "source": [
        "# JOIN DATAFRAMES\n",
        "# Create two sample DataFrames\n",
        "df1 = pd.DataFrame(\n",
        "    {\"column_first\": [1, 2, 3, 4], \"Name\": [\"Alice\", \"Bob\", \"Charlie\", \"David\"]}\n",
        ")\n",
        "\n",
        "df2 = pd.DataFrame({\"column_first\": [3, 4, 5, 6], \"Age\": [23, 34, 29, 45]})\n",
        "\n",
        "# .join() method, which is used to join two dataframes, it keeps all the values and fills the rest with NaN\n",
        "df1 = pd.DataFrame(df1)\n",
        "df2 = pd.DataFrame(df2)\n",
        "\n",
        "# left_index=True, right_index=True => join based on index values\n",
        "merged_df = df1.join(df2, lsuffix='_left', rsuffix='_right')\n",
        "\n",
        "print(merged_df)"
      ]
    },
    {
      "cell_type": "code",
      "execution_count": 84,
      "metadata": {},
      "outputs": [
        {
          "name": "stdout",
          "output_type": "stream",
          "text": [
            "   column_first     Name  column_first  Age\n",
            "0             1    Alice             3   23\n",
            "1             2      Bob             4   34\n",
            "2             3  Charlie             5   29\n",
            "3             4    David             6   45\n"
          ]
        }
      ],
      "source": [
        "# CONCATENATE DATAFRAMES\n",
        "# Create two sample DataFrames\n",
        "df1 = pd.DataFrame(\n",
        "    {\"column_first\": [1, 2, 3, 4], \"Name\": [\"Alice\", \"Bob\", \"Charlie\", \"David\"]}\n",
        ")\n",
        "\n",
        "df2 = pd.DataFrame({\"column_first\": [3, 4, 5, 6], \"Age\": [23, 34, 29, 45]})\n",
        "\n",
        "# .concat() method, which is used to concatenate two dataframes, it keeps all the values and fills the rest with NaN\n",
        "df3 = pd.concat([df1, df2], axis=1)\n",
        "print(df3)"
      ]
    },
    {
      "cell_type": "code",
      "execution_count": 98,
      "metadata": {},
      "outputs": [
        {
          "data": {
            "text/html": [
              "<div>\n",
              "<style scoped>\n",
              "    .dataframe tbody tr th:only-of-type {\n",
              "        vertical-align: middle;\n",
              "    }\n",
              "\n",
              "    .dataframe tbody tr th {\n",
              "        vertical-align: top;\n",
              "    }\n",
              "\n",
              "    .dataframe thead th {\n",
              "        text-align: right;\n",
              "    }\n",
              "</style>\n",
              "<table border=\"1\" class=\"dataframe\">\n",
              "  <thead>\n",
              "    <tr style=\"text-align: right;\">\n",
              "      <th></th>\n",
              "      <th>First Name</th>\n",
              "      <th>Gender</th>\n",
              "      <th>Age</th>\n",
              "      <th>Date</th>\n",
              "      <th>Id</th>\n",
              "    </tr>\n",
              "  </thead>\n",
              "  <tbody>\n",
              "    <tr>\n",
              "      <th>0</th>\n",
              "      <td>Dulce</td>\n",
              "      <td>Female</td>\n",
              "      <td>32</td>\n",
              "      <td>15/10/2017</td>\n",
              "      <td>1562</td>\n",
              "    </tr>\n",
              "    <tr>\n",
              "      <th>1</th>\n",
              "      <td>Mara</td>\n",
              "      <td>Female</td>\n",
              "      <td>25</td>\n",
              "      <td>16/08/2016</td>\n",
              "      <td>1582</td>\n",
              "    </tr>\n",
              "    <tr>\n",
              "      <th>2</th>\n",
              "      <td>Philip</td>\n",
              "      <td>Male</td>\n",
              "      <td>36</td>\n",
              "      <td>21/05/2015</td>\n",
              "      <td>2587</td>\n",
              "    </tr>\n",
              "    <tr>\n",
              "      <th>3</th>\n",
              "      <td>Kathleen</td>\n",
              "      <td>Female</td>\n",
              "      <td>25</td>\n",
              "      <td>15/10/2017</td>\n",
              "      <td>3549</td>\n",
              "    </tr>\n",
              "    <tr>\n",
              "      <th>4</th>\n",
              "      <td>Nereida</td>\n",
              "      <td>Female</td>\n",
              "      <td>58</td>\n",
              "      <td>16/08/2016</td>\n",
              "      <td>2468</td>\n",
              "    </tr>\n",
              "  </tbody>\n",
              "</table>\n",
              "</div>"
            ],
            "text/plain": [
              "  First Name  Gender  Age        Date    Id\n",
              "0      Dulce  Female   32  15/10/2017  1562\n",
              "1       Mara  Female   25  16/08/2016  1582\n",
              "2     Philip    Male   36  21/05/2015  2587\n",
              "3   Kathleen  Female   25  15/10/2017  3549\n",
              "4    Nereida  Female   58  16/08/2016  2468"
            ]
          },
          "execution_count": 98,
          "metadata": {},
          "output_type": "execute_result"
        }
      ],
      "source": [
        "data = df.head()\n",
        "# drop column\n",
        "data = data.drop(['Unnamed: 0', 'Last Name', 'Country'], axis=1)\n",
        "\n",
        "# Pivoting\n",
        "# .pivot() method, which is used to pivot the data, it reshapes the data based on the given columns\n",
        "# index : column to use as index\n",
        "# columns : column to use as columns\n",
        "# values : column to use as values\n",
        "# data = data.pivot(index=\"Age\", columns=\"First Name\", values=\"Id\")\n",
        "\n",
        "# index='Date': The unique values from the Date column become row labels.\n",
        "# columns='Product': Unique values from the Product column become new columns.\n",
        "# values='Sales': The Sales column provides the values for the new table.\n",
        "data"
      ]
    }
  ],
  "metadata": {
    "kernelspec": {
      "display_name": "AI-Engineer-Roadmap-9EaXoWEH",
      "language": "python",
      "name": "python3"
    },
    "language_info": {
      "codemirror_mode": {
        "name": "ipython",
        "version": 3
      },
      "file_extension": ".py",
      "mimetype": "text/x-python",
      "name": "python",
      "nbconvert_exporter": "python",
      "pygments_lexer": "ipython3",
      "version": "3.12.6"
    }
  },
  "nbformat": 4,
  "nbformat_minor": 4
}
