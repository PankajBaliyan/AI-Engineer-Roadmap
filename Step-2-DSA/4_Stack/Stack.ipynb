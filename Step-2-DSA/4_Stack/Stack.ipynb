{
 "cells": [
  {
   "cell_type": "code",
   "execution_count": 6,
   "metadata": {},
   "outputs": [
    {
     "name": "stdout",
     "output_type": "stream",
     "text": [
      "deque([10, 20, 30])\n",
      "deque([10, 20])\n",
      "15\n",
      "10\n",
      "False\n",
      "2\n"
     ]
    }
   ],
   "source": [
    "# Stack\n",
    "# Def : A stack is a linear data structure that follows the principle of Last In First Out (LIFO).\n",
    "# This means the last element inserted inside the stack is removed first.\n",
    "# Time complexity of insertion and deletion is O(1)\n",
    "# Space complexity is O(n)\n",
    "# Stack can be implemented using list in python\n",
    "\n",
    "from collections import deque\n",
    "stack = deque()\n",
    "dir(stack) # It will show all the methods that can be used with stack\n",
    "\n",
    "# Insertion\n",
    "stack.append(10) # Push\n",
    "stack.append(20)\n",
    "stack.append(30)\n",
    "print(stack) # Output: deque([10, 20, 30])\n",
    "\n",
    "# Deletion\n",
    "stack.pop() # Pop\n",
    "print(stack)\n",
    "\n",
    "class Stack:\n",
    "    def __init__(self):\n",
    "        self.container = deque()\n",
    "\n",
    "    # Push will insert the element at the top of the stack\n",
    "    def push(self, val):\n",
    "        self.container.append(val)\n",
    "\n",
    "    # Pop will remove the top element of the stack\n",
    "    def pop(self):\n",
    "        return self.container.pop()\n",
    "\n",
    "    # Peek will return the top element of the stack\n",
    "    def peek(self):\n",
    "        return self.container[-1]\n",
    "\n",
    "    # Check if stack is empty\n",
    "    def is_empty(self):\n",
    "        return len(self.container) == 0\n",
    "\n",
    "    # size of the stack\n",
    "    def size(self):\n",
    "        return len(self.container)\n",
    "\n",
    "s = Stack()\n",
    "s.push(5)\n",
    "s.push(10)\n",
    "s.push(15)\n",
    "print(s.pop())\n",
    "print(s.peek())\n",
    "print(s.is_empty())\n",
    "print(s.size())"
   ]
  }
 ],
 "metadata": {
  "kernelspec": {
   "display_name": "base",
   "language": "python",
   "name": "python3"
  },
  "language_info": {
   "codemirror_mode": {
    "name": "ipython",
    "version": 3
   },
   "file_extension": ".py",
   "mimetype": "text/x-python",
   "name": "python",
   "nbconvert_exporter": "python",
   "pygments_lexer": "ipython3",
   "version": "3.11.7"
  }
 },
 "nbformat": 4,
 "nbformat_minor": 2
}
