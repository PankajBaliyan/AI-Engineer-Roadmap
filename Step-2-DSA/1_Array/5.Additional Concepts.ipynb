{
 "cells": [
  {
   "cell_type": "code",
   "execution_count": 3,
   "metadata": {},
   "outputs": [],
   "source": [
    "# Two Sum Problem\n",
    "def two_sum(arr, target):\n",
    "    seen = {}\n",
    "    for i, num in enumerate(arr):\n",
    "        if target - num in seen:\n",
    "            return [seen[target - num], i]\n",
    "        seen[num] = i\n",
    "        print(seen)\n",
    "    return []\n",
    "\n",
    "def main():\n",
    "    arr = [2, 7, 11, 15]\n",
    "    target = 9\n",
    "    print(two_sum(arr, target))\n",
    "\n",
    "\n",
    "# Prefix Sum:\n",
    "def prefix_sum(arr):\n",
    "    prefix = [0] * (len(arr) + 1)\n",
    "    for i in range(len(arr)):\n",
    "        prefix[i+1] = prefix[i] + arr[i]\n",
    "    return prefix\n",
    "\n",
    "def subarray_sum(arr, target):\n",
    "\n",
    "# Sliding Window Technique:\n",
    "def max_sum_subarray(arr, k):\n",
    "    window_sum = sum(arr[:k])\n",
    "    max_sum = window_sum\n",
    "    for i in range(len(arr) - k):\n",
    "        window_sum = window_sum - arr[i] + arr[i + k]\n",
    "        max_sum = max(max_sum, window_sum)\n",
    "    return max_sum\n",
    "\n",
    "# NumPy\n",
    "import numpy as np\n",
    "np_array = np.array([1, 2, 3, 4, 5])\n"
   ]
  }
 ],
 "metadata": {
  "kernelspec": {
   "display_name": "base",
   "language": "python",
   "name": "python3"
  },
  "language_info": {
   "codemirror_mode": {
    "name": "ipython",
    "version": 3
   },
   "file_extension": ".py",
   "mimetype": "text/x-python",
   "name": "python",
   "nbconvert_exporter": "python",
   "pygments_lexer": "ipython3",
   "version": "3.11.7"
  }
 },
 "nbformat": 4,
 "nbformat_minor": 2
}
