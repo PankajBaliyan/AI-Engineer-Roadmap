{
 "cells": [
  {
   "cell_type": "code",
   "execution_count": 1,
   "metadata": {},
   "outputs": [
    {
     "name": "stdout",
     "output_type": "stream",
     "text": [
      "1\n",
      "[10, 2, 5, 4, 3]\n",
      "10\n",
      "2\n",
      "5\n",
      "4\n",
      "3\n",
      "[10, 2, 99, 5, 4, 3, 6]\n",
      "[10, 2, 4, 3, 6]\n"
     ]
    }
   ],
   "source": [
    "# Arrays in python\n",
    "# 1. Array is a collection of similar data types, it can store multiple values in a single variable, it is a fixed size data structure which means once we define the size of the array we can't change it.\n",
    "# 2. In python we don't have built-in support for arrays, we have to import array module to use arrays.\n",
    "# 3. In python we have list data type which is similar to arrays in other languages, but list can store different data types in a single variable.\n",
    "\n",
    "\n",
    "# 1. BASIC ARRAY OPERATIONS:\n",
    "# Creation: Initializing arrays.\n",
    "arr = [1, 2, 5, 4, 3]\n",
    "\n",
    "# Accessing elements of an array.\n",
    "print(arr[0])\n",
    "\n",
    "# Updating elements of an array.\n",
    "arr[0] = 10\n",
    "print(arr)\n",
    "\n",
    "# 2. ARRAY TRAVERSE:\n",
    "# Looping through elements:\n",
    "for i in arr:\n",
    "    print(i)\n",
    "\n",
    "# 3. ARRAY MANIPULATION:\n",
    "# Insertion: Inserting elements in an array.\n",
    "arr.append(6)  # Add to the end\n",
    "arr.insert(2, 99)  # Insert at specific position\n",
    "print(arr)\n",
    "\n",
    "# Deletion: Deleting elements from an array.\n",
    "arr.remove(99)  # Remove by value\n",
    "arr.pop(2)  # Remove by index\n",
    "print(arr)"
   ]
  }
 ],
 "metadata": {
  "kernelspec": {
   "display_name": "base",
   "language": "python",
   "name": "python3"
  },
  "language_info": {
   "codemirror_mode": {
    "name": "ipython",
    "version": 3
   },
   "file_extension": ".py",
   "mimetype": "text/x-python",
   "name": "python",
   "nbconvert_exporter": "python",
   "pygments_lexer": "ipython3",
   "version": "3.11.7"
  }
 },
 "nbformat": 4,
 "nbformat_minor": 2
}
