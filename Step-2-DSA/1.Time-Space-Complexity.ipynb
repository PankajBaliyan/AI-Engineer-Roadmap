{
 "cells": [
  {
   "cell_type": "code",
   "execution_count": 2,
   "metadata": {},
   "outputs": [
    {
     "name": "stdout",
     "output_type": "stream",
     "text": [
      "20\n",
      "45\n",
      "900\n",
      "1024\n"
     ]
    }
   ],
   "source": [
    "# Time Complexity\n",
    "# Def : Time complexity is a function describing the amount of time an algorithm takes in terms of the amount of input to the algorithm.\n",
    "\n",
    "# O(1) - Constant Time\n",
    "# O(log n) - Logarithmic Time\n",
    "# O(n) - Linear Time\n",
    "# O(n log n) - Linearithmic Time\n",
    "# O(n^2) - Quadratic Time\n",
    "# O(n^3) - Cubic Time\n",
    "# O(2^n) - Exponential Time\n",
    "\n",
    "def constant_time_operation(n):\n",
    "    # This operation takes constant time O(1)\n",
    "    result = n * 2\n",
    "    return result\n",
    "\n",
    "def linear_time_operation(n):\n",
    "    # This operation takes linear time O(n)\n",
    "    result = 0\n",
    "    for i in range(n):\n",
    "        result += i\n",
    "    return result\n",
    "\n",
    "def quadratic_time_operation(n):\n",
    "    # This operation takes quadratic time O(n^2)\n",
    "    result = 0\n",
    "    for i in range(n):\n",
    "        for j in range(n):\n",
    "            result += i + j\n",
    "    return result\n",
    "\n",
    "def exponential_time_operation(n):\n",
    "    # This operation takes exponential time O(2^n)\n",
    "    if n == 0:\n",
    "        return 1\n",
    "    return exponential_time_operation(n - 1) + exponential_time_operation(n - 1)\n",
    "\n",
    "def main():\n",
    "    n = 10\n",
    "    print(constant_time_operation(n))\n",
    "    print(linear_time_operation(n))\n",
    "    print(quadratic_time_operation(n))\n",
    "    print(exponential_time_operation(n))\n",
    "    return\n",
    "\n",
    "if __name__ == \"__main__\":\n",
    "    main()\n",
    "\n",
    "\n"
   ]
  }
 ],
 "metadata": {
  "kernelspec": {
   "display_name": "base",
   "language": "python",
   "name": "python3"
  },
  "language_info": {
   "codemirror_mode": {
    "name": "ipython",
    "version": 3
   },
   "file_extension": ".py",
   "mimetype": "text/x-python",
   "name": "python",
   "nbconvert_exporter": "python",
   "pygments_lexer": "ipython3",
   "version": "3.11.7"
  }
 },
 "nbformat": 4,
 "nbformat_minor": 2
}
