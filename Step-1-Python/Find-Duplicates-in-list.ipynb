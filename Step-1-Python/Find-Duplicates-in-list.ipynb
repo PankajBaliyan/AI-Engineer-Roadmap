{
 "cells": [
  {
   "cell_type": "code",
   "execution_count": 1,
   "metadata": {},
   "outputs": [
    {
     "name": "stdout",
     "output_type": "stream",
     "text": [
      "90\n"
     ]
    }
   ],
   "source": [
    "\n",
    "# Word dictionary\n",
    "stored_words = [\"Amelia Rose\", \"Kai Parker\", \"Elena Rivera\", \"Liam Davies\", \"Zahra Khan\", \"Ethan Mitchell\", \"Maya Patel\", \"Noah Jones\", \"Sophia Garcia\", \"Benjamin Miller\", \"Evelyn Taylor\", \"Lucas Hernandez\", \"Chloe Lee\", \"Logan Johnson\", \"Olivia Williams\", \"Alexander Brown\", \"Ava Thompson\", \"William Evans\", \"Isabella Wilson\", \"Matthew Moore\", \"Riley Clark\", \"Luna Hernandez\", \"Elijah Walker\", \"Scarlett Lewis\", \"Michael Robinson\", \"Harper Martin\", \"Aiden Young\", \"Charlotte Jones\", \"Daniel Garcia\", \"Mia Garcia\", \"Caleb Wright\", \"Evelyn Hall\", \"Christopher Allen\", \"Amelia Ramirez\", \"Jack Hernandez\", \"Evelyn King\", \"David Moore\", \"Aurora Gonzalez\", \"James Miller\", \"Penelope Lopez\", \"Andrew Lewis\", \"Riley Thomas\", \"Noah Young\", \"Luna Wilson\", \"Ethan Garcia\", \"Evelyn Moore\", \"Benjamin Robinson\", \"Aurora Brown\", \"Lucas Walker\", \"Penelope Ramirez\", \"Alexander Thompson\", \"Evelyn Hernandez\", \"Luna Lopez\", \"Ethan King\", \"Evelyn Robinson\", \"William Moore\", \"Aurora Young\", \"Matthew Hernandez\", \"Penelope Garcia\", \"Aiden Miller\", \"Luna Lewis\", \"Elijah Robinson\", \"Scarlett Wright\", \"Michael Young\", \"Harper Allen\", \"Caleb Walker\", \"Evelyn Jones\", \"Christopher Thompson\", \"Luna Moore\", \"William Robinson\", \"Aurora King\", \"Matthew Lewis\", \"Penelope Brown\", \"Riley Wilson\", \"Noah Wright\", \"Ethan Moore\", \"Evelyn Allen\", \"Aurora Hernandez\", \"Lucas King\", \"Alexander Walker\", \"Evelyn Thompson\", \"Christopher Lewis\", \"Luna Brown\", \"Ethan Young\", \"Aurora Miller\", \"Scarlett Hernandez\", \"Michael Allen\", \"Harper Wright\", \"Caleb King\", \"Evelyn Lopez\"]\n",
    "\n",
    "print(len(stored_words))\n",
    "\n",
    "def findDuplicateWord(rec_word):\n",
    "    count = 0\n",
    "    for word in stored_words:\n",
    "        if word == rec_word:\n",
    "            count += 1\n",
    "    if count > 1:\n",
    "        return True\n",
    "\n",
    "for word in stored_words:\n",
    "    if findDuplicateWord(word):\n",
    "        print(f\"Duplicate word found: {word}\")"
   ]
  }
 ],
 "metadata": {
  "kernelspec": {
   "display_name": "base",
   "language": "python",
   "name": "python3"
  },
  "language_info": {
   "codemirror_mode": {
    "name": "ipython",
    "version": 3
   },
   "file_extension": ".py",
   "mimetype": "text/x-python",
   "name": "python",
   "nbconvert_exporter": "python",
   "pygments_lexer": "ipython3",
   "version": "3.11.7"
  }
 },
 "nbformat": 4,
 "nbformat_minor": 2
}
