{
 "cells": [
  {
   "cell_type": "code",
   "execution_count": 10,
   "metadata": {},
   "outputs": [
    {
     "name": "stdout",
     "output_type": "stream",
     "text": [
      "Before function call\n",
      "Hello, World!\n",
      "After function call\n",
      "--------------\n",
      "Before function call\n",
      "Hello, World!\n",
      "After function call\n"
     ]
    }
   ],
   "source": [
    "# Decorators\n",
    "# Def : A decorator is a design pattern in Python that allows a user to add new functionality to an existing object without modifying its structure. Decorators are usually called before the definition of a function you want to decorate.\n",
    "# In simple words: Decorators allow you to add new functionality to an existing object without modifying its structure.\n",
    "# Decorator is a function that takes another function as argument and returns function.\n",
    "\n",
    "# Example 1:\n",
    "def decorator_function(func):\n",
    "    def wrapper():\n",
    "        print(\"Before function call\")\n",
    "        func()\n",
    "        print(\"After function call\")\n",
    "    return wrapper\n",
    "\n",
    "@decorator_function\n",
    "def hello():\n",
    "    print(\"Hello, World!\")\n",
    "\n",
    "hello()\n",
    "\n",
    "print(\"--------------\")\n",
    "\n",
    "# wrapper() function is called before and after the hello() function.\n",
    "\n",
    "# Example 2 (with different names):\n",
    "def my_decorator_function(func):\n",
    "    def my_wrapper_function():\n",
    "        print(\"Before function call\")\n",
    "        func()\n",
    "        print(\"After function call\")\n",
    "    return my_wrapper_function\n",
    "\n",
    "def display():\n",
    "    print(\"Hello, World!\")\n",
    "\n",
    "decorated_display = my_decorator_function(display)\n",
    "decorated_display()\n"
   ]
  }
 ],
 "metadata": {
  "kernelspec": {
   "display_name": "base",
   "language": "python",
   "name": "python3"
  },
  "language_info": {
   "codemirror_mode": {
    "name": "ipython",
    "version": 3
   },
   "file_extension": ".py",
   "mimetype": "text/x-python",
   "name": "python",
   "nbconvert_exporter": "python",
   "pygments_lexer": "ipython3",
   "version": "3.11.7"
  }
 },
 "nbformat": 4,
 "nbformat_minor": 2
}
