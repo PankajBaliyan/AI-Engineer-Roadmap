{
 "cells": [
  {
   "cell_type": "markdown",
   "source": [
    "**Python Dictionaries: A Comprehensive Guide**\n",
    "\n",
    "Python dictionaries are unordered collections of key-value pairs. Each key is unique, and it's used to access the corresponding value. Dictionaries are highly efficient for storing and retrieving data based on specific keys.\n",
    "\n",
    "**Key Concepts:**\n",
    "\n",
    "1. **Creating a Dictionary:**\n",
    "   - Use curly braces `{}` to enclose key-value pairs:"
   ],
   "metadata": {
    "id": "QWbJ_YF5GhHN"
   }
  },
  {
   "cell_type": "code",
   "source": [
    "my_dict = {'name': 'Alice', 'age': 30, 'city': 'New York'}"
   ],
   "outputs": [],
   "execution_count": null,
   "metadata": {
    "id": "3wsUyCM-GhHV"
   }
  },
  {
   "cell_type": "markdown",
   "source": [
    "2. **Accessing Values:**\n",
    "   - Use square brackets `[]` with the key:"
   ],
   "metadata": {
    "id": "5MN5YeplGhHX"
   }
  },
  {
   "cell_type": "code",
   "source": [
    "name = my_dict['name']  # 'Alice'"
   ],
   "outputs": [],
   "execution_count": null,
   "metadata": {
    "id": "mRvI2O4YGhHX"
   }
  },
  {
   "cell_type": "markdown",
   "source": [
    "3. **Modifying Values:**\n",
    "   - Assign new values to existing keys:"
   ],
   "metadata": {
    "id": "u0Kulr-CGhHY"
   }
  },
  {
   "cell_type": "code",
   "source": [
    "my_dict['age'] = 31"
   ],
   "outputs": [],
   "execution_count": null,
   "metadata": {
    "id": "PFVQucv0GhHY"
   }
  },
  {
   "cell_type": "markdown",
   "source": [
    "4. **Adding Key-Value Pairs:**\n",
    "   - Assign a value to a new key:"
   ],
   "metadata": {
    "id": "zwT1eMp6GhHY"
   }
  },
  {
   "cell_type": "code",
   "source": [
    "my_dict['country'] = 'USA'"
   ],
   "outputs": [],
   "execution_count": null,
   "metadata": {
    "id": "VRPThFo7GhHY"
   }
  },
  {
   "cell_type": "markdown",
   "source": [
    "5. **Removing Key-Value Pairs:**\n",
    "   - Use the `del` keyword:"
   ],
   "metadata": {
    "id": "numBqc7zGhHY"
   }
  },
  {
   "cell_type": "code",
   "source": [
    "del my_dict['city']"
   ],
   "outputs": [],
   "execution_count": null,
   "metadata": {
    "id": "brp5alf1GhHY"
   }
  },
  {
   "cell_type": "markdown",
   "source": [
    "- Use the `pop()` method:"
   ],
   "metadata": {
    "id": "e2IMSAw0GhHZ"
   }
  },
  {
   "cell_type": "code",
   "source": [
    "city = my_dict.pop('city')"
   ],
   "outputs": [],
   "execution_count": null,
   "metadata": {
    "id": "iDc41uZgGhHZ"
   }
  },
  {
   "cell_type": "markdown",
   "source": [
    "6. **Dictionary Methods:**\n",
    "   - **`keys()`:** Returns a view of all keys.\n",
    "   - **`values()`:** Returns a view of all values.\n",
    "   - **`items()`:** Returns a view of key-value pairs as tuples.\n",
    "   - **`get()`:** Returns the value for a key, or a default value if the key is not found.\n",
    "   - **`update()`:** Updates the dictionary with key-value pairs from another dictionary or iterable.\n",
    "\n",
    "**Example:**"
   ],
   "metadata": {
    "id": "MO8BWA3hGhHZ"
   }
  },
  {
   "cell_type": "code",
   "source": [
    "my_dict = {'name': 'Alice', 'age': 30, 'city': 'New York'}\n",
    "print(my_dict.keys())  # Output: dict_keys(['name', 'age', 'city'])\n",
    "print(my_dict.values())  # Output: dict_values(['Alice', 30, 'New York'])\n",
    "print(my_dict.items())  # Output: dict_items([('name', 'Alice'), ('age', 30), ('city', 'New York')])\n",
    "print(my_dict.get('name1', 'Unknown'))  # Output: Alice\n",
    "my_dict.update({'country': 'USA', 'age': 31})\n",
    "print(my_dict)"
   ],
   "metadata": {
    "colab": {
     "base_uri": "https://localhost:8080/"
    },
    "id": "g0zbNJWJGoag",
    "outputId": "849463bb-8d32-43ea-cade-3176f5f4c128"
   },
   "execution_count": 5,
   "outputs": [
    {
     "output_type": "stream",
     "name": "stdout",
     "text": [
      "dict_keys(['name', 'age', 'city'])\n",
      "dict_values(['Alice', 30, 'New York'])\n",
      "dict_items([('name', 'Alice'), ('age', 30), ('city', 'New York')])\n",
      "Unknown\n",
      "{'name': 'Alice', 'age': 31, 'city': 'New York', 'country': 'USA'}\n"
     ]
    }
   ]
  },
  {
   "cell_type": "code",
   "source": [
    "person = {'name': 'Bob', 'age': 25, 'occupation': 'Engineer'}\n",
    "\n",
    "# Accessing values\n",
    "print(person['name'])  # Output: Bob\n",
    "print(person.get('address', 'Not found'))  # Output: Not found\n",
    "\n",
    "# Adding a new key-value pair\n",
    "person['city'] = 'Los Angeles'\n",
    "\n",
    "# Removing a key-value pair\n",
    "del person['age']\n",
    "\n",
    "# Iterating over key-value pairs\n",
    "for key, value in person.items():\n",
    "    print(f\"{key}: {value}\")"
   ],
   "outputs": [],
   "execution_count": null,
   "metadata": {
    "id": "Dtb4YFSyGhHZ"
   }
  },
  {
   "cell_type": "markdown",
   "source": [
    "**Key Points to Remember:**\n",
    "\n",
    "- Dictionary keys must be unique and immutable (e.g., strings, numbers, tuples).\n",
    "- Dictionary values can be of any data type, including lists, other dictionaries, or functions.\n",
    "- Dictionaries are highly efficient for lookups and insertions.\n",
    "- Use `get()` to avoid potential `KeyError` exceptions when accessing keys that may not exist.\n",
    "\n",
    "By understanding these concepts and practicing with dictionary methods, you can effectively use dictionaries to store and manipulate data in your Python programs."
   ],
   "metadata": {
    "id": "xHbEDRuXGhHa"
   }
  },
  {
   "metadata": {},
   "cell_type": "markdown",
   "source": "# Dictionary Comprehensions"
  },
  {
   "metadata": {},
   "cell_type": "code",
   "outputs": [],
   "execution_count": null,
   "source": "# {key_expression: value_expression for item in iterable}"
  },
  {
   "metadata": {
    "ExecuteTime": {
     "end_time": "2024-12-05T18:52:46.147194Z",
     "start_time": "2024-12-05T18:52:46.142122Z"
    }
   },
   "cell_type": "code",
   "source": [
    "# Create a dictionary mapping numbers to their squares\n",
    "squares_dict = {x: x**2 for x in range(1, 6)}\n",
    "print(squares_dict)  # Output: {1: 1, 2: 4, 3: 9, 4: 16, 5: 25}"
   ],
   "outputs": [
    {
     "name": "stdout",
     "output_type": "stream",
     "text": [
      "{1: 1, 2: 4, 3: 9, 4: 16, 5: 25}\n"
     ]
    }
   ],
   "execution_count": 1
  },
  {
   "metadata": {
    "ExecuteTime": {
     "end_time": "2024-12-05T18:53:39.069446Z",
     "start_time": "2024-12-05T18:53:39.055986Z"
    }
   },
   "cell_type": "code",
   "source": [
    "# Create a nested list of squares of numbers from 1 to 3\n",
    "nested_list = [[x**2 for x in range(1, 4)] for y in range(2)]\n",
    "print(nested_list)  # Output: [[1, 4, 9], [1, 4, 9]]"
   ],
   "outputs": [
    {
     "name": "stdout",
     "output_type": "stream",
     "text": [
      "[[1, 4, 9], [1, 4, 9]]\n"
     ]
    }
   ],
   "execution_count": 2
  }
 ],
 "metadata": {
  "colab": {
   "provenance": []
  },
  "kernelspec": {
   "display_name": "Python 3 (ipykernel)",
   "name": "python3",
   "language": "python"
  }
 },
 "nbformat": 4,
 "nbformat_minor": 0
}
