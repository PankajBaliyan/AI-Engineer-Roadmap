{
 "cells": [
  {
   "cell_type": "code",
   "execution_count": 4,
   "metadata": {},
   "outputs": [
    {
     "name": "stdout",
     "output_type": "stream",
     "text": [
      "calculate square numbers\n",
      "calculate cube of numbers\n",
      "square: 144\n",
      " cube:  1728\n",
      " cube:  27\n",
      "square: 9\n",
      "square: 64\n",
      " cube:  512\n",
      "square: 8281\n",
      " cube:  753571\n",
      "End of the program\n"
     ]
    }
   ],
   "source": [
    "# Multi-Threading\n",
    "# Def: A thread is a sequence of such units of work that are allocated to a processor for execution.\n",
    "# Threads are independent of each other.\n",
    "# Threads are lightweight processes.\n",
    "# Threads share the same memory space.\n",
    "# Threads are used for parallel execution of tasks.\n",
    "# Threads are used for concurrent execution of tasks.\n",
    "\n",
    "import threading\n",
    "import time\n",
    "\n",
    "def calc_square (numbers) :\n",
    "    print (\"calculate square numbers\")\n",
    "    for n in numbers:\n",
    "        time.sleep (0.2)\n",
    "        print ('square:',n*n)\n",
    "\n",
    "# time.sleep (0.2) is used to simulate a delay in the execution of the function.\n",
    "\n",
    "def calc_cube (numbers) :\n",
    "    print (\"calculate cube of numbers\")\n",
    "    for n in numbers:\n",
    "        time.sleep (0.2)\n",
    "        print (' cube: ' ,n*n*n)\n",
    "\n",
    "arr = [12,3,8,91]\n",
    "t = time.time()\n",
    "\n",
    "# time.time() is used to get the current time in seconds since the epoch.\n",
    "\n",
    "t1 = threading.Thread(target=calc_square, args=(arr,))\n",
    "t2 = threading.Thread(target=calc_cube, args=(arr,))\n",
    "\n",
    "# threading.Thread() is used to create a new thread.\n",
    "\n",
    "t1.start()\n",
    "t2.start()\n",
    "\n",
    "# t1.start() is used to start the execution of the first thread.\n",
    "\n",
    "t1.join()\n",
    "t2.join()\n",
    "\n",
    "# t1.join() is used to wait for the first thread to complete.\n",
    "\n",
    "print(\"End of the program\")\n"
   ]
  }
 ],
 "metadata": {
  "kernelspec": {
   "display_name": "base",
   "language": "python",
   "name": "python3"
  },
  "language_info": {
   "codemirror_mode": {
    "name": "ipython",
    "version": 3
   },
   "file_extension": ".py",
   "mimetype": "text/x-python",
   "name": "python",
   "nbconvert_exporter": "python",
   "pygments_lexer": "ipython3",
   "version": "3.1.-1"
  }
 },
 "nbformat": 4,
 "nbformat_minor": 2
}
