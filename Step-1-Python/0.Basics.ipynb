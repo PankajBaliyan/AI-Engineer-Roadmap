{
 "cells": [
  {
   "cell_type": "code",
   "execution_count": 7,
   "metadata": {},
   "outputs": [
    {
     "name": "stdout",
     "output_type": "stream",
     "text": [
      "5\n",
      "4.56\n",
      "4.557\n"
     ]
    }
   ],
   "source": [
    "# Round function\n",
    "# definition: The round() function returns a floating point number that is a rounded version of the given number with the specified number of decimals.\n",
    "# syntax: round(number, digits)\n",
    "value = 4.5567\n",
    "print(round(value))\n",
    "print(round(value, 2))\n",
    "print(round(value, 3))"
   ]
  },
  {
   "cell_type": "code",
   "execution_count": 14,
   "metadata": {},
   "outputs": [
    {
     "name": "stdout",
     "output_type": "stream",
     "text": [
      "['Pankaj', 'Rahul', 'Sonu', 'Deepak', 'Rohit']\n",
      "True\n",
      "False\n"
     ]
    }
   ],
   "source": [
    "# he in keyword is used to check if a value exists in a sequence, such as a list. \n",
    "items = ['Pankaj', 'Rahul', 'Sonu', 'Deepak', 'Rohit']\n",
    "print(items)\n",
    "\n",
    "print('Pankaj' in items)\n",
    "\n",
    "print('Anuj' in items)"
   ]
  },
  {
   "cell_type": "code",
   "execution_count": 15,
   "metadata": {},
   "outputs": [
    {
     "name": "stdout",
     "output_type": "stream",
     "text": [
      "x is greater than 5\n"
     ]
    }
   ],
   "source": [
    "# if statement condition\n",
    "x = 10\n",
    "if x > 5:\n",
    "    print('x is greater than 5')\n",
    "elif x == 5:\n",
    "    print('x is equal to 5')\n",
    "else:\n",
    "    print('x is less than 5')"
   ]
  },
  {
   "cell_type": "code",
   "execution_count": 18,
   "metadata": {},
   "outputs": [],
   "source": [
    "# List down all the functions in math module\n",
    "import math\n",
    "dir(math)\n",
    "# create a new file & store all functions in that file\n",
    "with open('math_functions.js', 'w') as file:\n",
    "    file.write(str(dir(math)))"
   ]
  },
  {
   "cell_type": "code",
   "execution_count": 20,
   "metadata": {},
   "outputs": [
    {
     "name": "stdout",
     "output_type": "stream",
     "text": [
      "      May 2024\n",
      "Mo Tu We Th Fr Sa Su\n",
      "       1  2  3  4  5\n",
      " 6  7  8  9 10 11 12\n",
      "13 14 15 16 17 18 19\n",
      "20 21 22 23 24 25 26\n",
      "27 28 29 30 31\n",
      "\n"
     ]
    }
   ],
   "source": [
    "# Calender module\n",
    "import calendar\n",
    "print(calendar.month(2024, 5))"
   ]
  },
  {
   "cell_type": "code",
   "execution_count": 36,
   "metadata": {},
   "outputs": [
    {
     "name": "stdout",
     "output_type": "stream",
     "text": [
      "{'name': 'Pankaj', 'website': 'JournalDev', 'from': 'India'}\n",
      "Pankaj\n"
     ]
    }
   ],
   "source": [
    "# Working with json data\n",
    "import json\n",
    "\n",
    "# creating a dictionary\n",
    "data = {}\n",
    "# Insert record 1\n",
    "data['Pankaj'] = {\n",
    "    'name': 'Pankaj',\n",
    "    'website': 'JournalDev',\n",
    "    'from': 'India'\n",
    "}\n",
    "# Insert record 2\n",
    "data['Anuj'] = {\n",
    "    'name': 'Anuj',\n",
    "    'website': 'JournalDev',\n",
    "    'from': 'India'\n",
    "}\n",
    "\n",
    "# w = write mode\n",
    "# r = read mode\n",
    "# a = append mode\n",
    "\n",
    "# Write data in file\n",
    "with open('data_file.json', 'w') as file:\n",
    "    json.dump(data, file)\n",
    "\n",
    "# Read data from file (Method 1)\n",
    "with open('data_file.json') as file:\n",
    "    myData = json.load(file)\n",
    "\n",
    "# Read  data from file (Method 2)\n",
    "readData = open('data_file.json', 'r')\n",
    "\n",
    "# print(myData)\n",
    "# print(readData.read())\n",
    "\n",
    "# Checking type of data\n",
    "# print(type(myData))\n",
    "# print(type(readData))\n",
    "\n",
    "allData = json.loads(readData.read())\n",
    "print(allData['Pankaj'])\n",
    "print(allData['Pankaj']['name'])\n"
   ]
  },
  {
   "cell_type": "code",
   "execution_count": 43,
   "metadata": {},
   "outputs": [
    {
     "name": "stdout",
     "output_type": "stream",
     "text": [
      "Error:  division by zero\n",
      "<class 'ZeroDivisionError'>\n",
      "Error:  division by zero\n",
      "1\n",
      "0\n"
     ]
    }
   ],
   "source": [
    "# Exception Handling\n",
    "x  = int(input(\"Enter a number: \"))\n",
    "y = int(input(\"Enter a number: \"))\n",
    "\n",
    "# Directly handle all exceptions\n",
    "try:\n",
    "    print(x/y)\n",
    "except Exception as e:\n",
    "    print(\"Error: \", e)\n",
    "\n",
    "# determine the type of exception\n",
    "try:\n",
    "    print(x/y)\n",
    "except Exception as e:\n",
    "    print(type(e))\n",
    "\n",
    "# Handle specific exception\n",
    "try:\n",
    "    print(x/y)\n",
    "except ZeroDivisionError as e:\n",
    "    print(\"Error: \", e)\n",
    "\n",
    "\n",
    "print(x)\n",
    "print(y)\n"
   ]
  },
  {
   "cell_type": "code",
   "execution_count": 1,
   "metadata": {},
   "outputs": [
    {
     "name": "stdout",
     "output_type": "stream",
     "text": [
      "[1, 4, 9, 16, 25]\n",
      "[2, 4]\n"
     ]
    }
   ],
   "source": [
    "# List Comprehensions\n",
    "# [expression for item in list if conditional]\n",
    "\n",
    "# Example 1\n",
    "numbers = [1, 2, 3, 4, 5]\n",
    "squaredNumbers = [number**2 for number in numbers]\n",
    "print(squaredNumbers)\n",
    "\n",
    "# Example 2\n",
    "evenNumbers = [number for number in numbers if number % 2 == 0]\n",
    "print(evenNumbers)"
   ]
  },
  {
   "cell_type": "code",
   "execution_count": 3,
   "metadata": {},
   "outputs": [
    {
     "name": "stdout",
     "output_type": "stream",
     "text": [
      "{1, 2, 3, 4, 5, 6, 7, 8, 9}\n",
      "{8, 2, 4, 6}\n"
     ]
    }
   ],
   "source": [
    "# Set Comprehensions\n",
    "# {expression for item in iterable}\n",
    "# Set is an unordered collection of unique items\n",
    "\n",
    "# Example 1\n",
    "numbers = [1, 2, 3, 4, 5, 5, 5, 6, 7, 8, 9]\n",
    "filteredNumbers = set(number for number in numbers)\n",
    "print(filteredNumbers)\n",
    "\n",
    "# Example 2\n",
    "filteredNumbers = {number for number in numbers if number % 2 == 0}\n",
    "print(filteredNumbers)"
   ]
  },
  {
   "cell_type": "code",
   "execution_count": 4,
   "metadata": {},
   "outputs": [
    {
     "name": "stdout",
     "output_type": "stream",
     "text": [
      "{1: 1, 2: 4, 3: 9, 4: 16, 5: 25, 6: 36, 7: 49, 8: 64, 9: 81}\n"
     ]
    }
   ],
   "source": [
    "# Dictionary Comprehensions\n",
    "# Dictionary comprehension is a concise way to create a dictionary.\n",
    "# {key: value for item in iterable}\n",
    "\n",
    "# Example 1\n",
    "squareDict = {number: number**2 for number in numbers}\n",
    "print(squareDict)"
   ]
  }
 ],
 "metadata": {
  "kernelspec": {
   "display_name": "base",
   "language": "python",
   "name": "python3"
  },
  "language_info": {
   "codemirror_mode": {
    "name": "ipython",
    "version": 3
   },
   "file_extension": ".py",
   "mimetype": "text/x-python",
   "name": "python",
   "nbconvert_exporter": "python",
   "pygments_lexer": "ipython3",
   "version": "3.1.-1"
  }
 },
 "nbformat": 4,
 "nbformat_minor": 2
}
