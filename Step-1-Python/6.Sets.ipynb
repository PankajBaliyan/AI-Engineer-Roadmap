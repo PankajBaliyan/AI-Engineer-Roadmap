{
  "cells": [
    {
      "cell_type": "markdown",
      "source": [
        "**Python Sets: A Quick Overview**\n",
        "\n",
        "Python sets are unordered collections of unique elements. They are used to store and manipulate a collection of items without duplicates. Sets are often used for membership testing, removing duplicates from a list, and performing mathematical set operations like union, intersection, and difference.\n",
        "\n",
        "**Key Concepts:**\n",
        "\n",
        "1. **Creating a Set:**\n",
        "   - Use curly braces `{}` to enclose elements:"
      ],
      "metadata": {
        "id": "vfgqswblHtUz"
      }
    },
    {
      "cell_type": "code",
      "source": [
        "my_set = {1, 2, 3, 4}"
      ],
      "outputs": [],
      "execution_count": 1,
      "metadata": {
        "id": "dcXiWGUvHtU6"
      }
    },
    {
      "cell_type": "markdown",
      "source": [
        "- Use the `set()` constructor:"
      ],
      "metadata": {
        "id": "7f-0r9K6HtU6"
      }
    },
    {
      "cell_type": "code",
      "source": [
        "my_set = set([1, 2, 3, 2])  # {1, 2, 3}"
      ],
      "outputs": [],
      "execution_count": null,
      "metadata": {
        "id": "Tp1jpoprHtU7"
      }
    },
    {
      "cell_type": "markdown",
      "source": [
        "2. **Adding Elements:**\n",
        "   - Use the `add()` method:"
      ],
      "metadata": {
        "id": "JOYfXkkxHtU7"
      }
    },
    {
      "cell_type": "code",
      "source": [
        "my_set.add(5)"
      ],
      "outputs": [],
      "execution_count": null,
      "metadata": {
        "id": "CUb-gxLqHtU7"
      }
    },
    {
      "cell_type": "markdown",
      "source": [
        "3. **Removing Elements:**\n",
        "   - Use the `remove()` method (raises `KeyError` if not found):"
      ],
      "metadata": {
        "id": "lRoZCcfAHtU7"
      }
    },
    {
      "cell_type": "code",
      "source": [
        "my_set.remove(3)"
      ],
      "outputs": [],
      "execution_count": null,
      "metadata": {
        "id": "zoxH9HTXHtU7"
      }
    },
    {
      "cell_type": "markdown",
      "source": [
        "- Use the `discard()` method (does not raise an error if not found):"
      ],
      "metadata": {
        "id": "BStD3p4XHtU7"
      }
    },
    {
      "cell_type": "code",
      "source": [
        "my_set.discard(6)"
      ],
      "outputs": [],
      "execution_count": null,
      "metadata": {
        "id": "fKkzN2KxHtU8"
      }
    },
    {
      "cell_type": "markdown",
      "source": [
        "- Use the `pop()` method to remove and return an arbitrary element:"
      ],
      "metadata": {
        "id": "mhq9w76gHtU8"
      }
    },
    {
      "cell_type": "code",
      "source": [
        "element = my_set.pop()"
      ],
      "outputs": [],
      "execution_count": null,
      "metadata": {
        "id": "Ill8VmMxHtU8"
      }
    },
    {
      "cell_type": "markdown",
      "source": [
        "4. **Set Operations:**\n",
        "   - **Union:** `set1 | set2` or `set1.union(set2)`\n",
        "   - **Intersection:** `set1 & set2` or `set1.intersection(set2)`\n",
        "   - **Difference:** `set1 - set2` or `set1.difference(set2)`\n",
        "   - **Symmetric Difference:** `set1 ^ set2` or `set1.symmetric_difference(set2)`\n",
        "\n",
        "**Example:**"
      ],
      "metadata": {
        "id": "lzaMYytbHtU8"
      }
    },
    {
      "cell_type": "code",
      "source": [
        "set1 = {1, 2, 3, 4}\n",
        "set2 = {3, 4, 5, 6}\n",
        "\n",
        "# Union\n",
        "print(set1 | set2)  # {1, 2, 3, 4, 5, 6}\n",
        "\n",
        "# Intersection\n",
        "print(set1 & set2)  # {3, 4}\n",
        "\n",
        "# Difference\n",
        "print(set1 - set2)  # {1, 2}\n",
        "\n",
        "# Symmetric Difference\n",
        "print(set1 ^ set2)  # {1, 2, 5, 6}"
      ],
      "outputs": [],
      "execution_count": null,
      "metadata": {
        "id": "gReblXBWHtU8"
      }
    },
    {
      "cell_type": "markdown",
      "source": [
        "**Key Points to Remember:**\n",
        "- Sets are unordered, so the order of elements is not guaranteed.\n",
        "- Sets cannot contain duplicate elements.\n",
        "- Sets are mutable, meaning you can add or remove elements.\n",
        "- Set operations are efficient for performing mathematical set operations.\n",
        "\n",
        "By understanding these concepts and practicing with set operations, you can effectively use sets to manage and manipulate unique collections of data in your Python programs."
      ],
      "metadata": {
        "id": "zY595xYMHtU8"
      }
    }
  ],
  "metadata": {
    "colab": {
      "provenance": []
    },
    "kernelspec": {
      "display_name": "Python 3",
      "name": "python3"
    }
  },
  "nbformat": 4,
  "nbformat_minor": 0
}