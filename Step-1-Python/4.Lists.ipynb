{
 "cells": [
  {
   "cell_type": "markdown",
   "source": [
    "**Python Lists: A Comprehensive Guide**\n",
    "\n",
    "Python lists are versatile data structures that allow you to store and manipulate collections of items. They are ordered and mutable, meaning you can access elements by their index and modify them.\n",
    "\n",
    "**Key Concepts:**\n",
    "\n",
    "1. **Creating a List:**\n",
    "   - Use square brackets `[]` to enclose elements:"
   ],
   "metadata": {
    "id": "O7b5hJ77CfKI"
   }
  },
  {
   "cell_type": "code",
   "source": [
    "my_list = [1, 2, 3, \"apple\", \"banana\"]\n",
    "my_list"
   ],
   "metadata": {
    "colab": {
     "base_uri": "https://localhost:8080/"
    },
    "id": "NyqHJlqKCfKR",
    "outputId": "b492ccaf-70d5-4aff-9345-2860b1529301",
    "ExecuteTime": {
     "end_time": "2024-12-05T18:30:46.887454Z",
     "start_time": "2024-12-05T18:30:46.881246Z"
    }
   },
   "outputs": [
    {
     "data": {
      "text/plain": [
       "[1, 2, 3, 'apple', 'banana']"
      ]
     },
     "execution_count": 2,
     "metadata": {},
     "output_type": "execute_result"
    }
   ],
   "execution_count": 2
  },
  {
   "cell_type": "markdown",
   "source": [
    "2. **Accessing Elements:**\n",
    "   - Use indexing, starting from 0:"
   ],
   "metadata": {
    "id": "pwuIxmdCCfKT"
   }
  },
  {
   "cell_type": "code",
   "source": [
    "first_element = my_list[0]  # 1\n",
    "last_element = my_list[-1]  # \"banana\"\n",
    "print(first_element, last_element)"
   ],
   "outputs": [
    {
     "output_type": "stream",
     "name": "stdout",
     "text": [
      "1 banana\n"
     ]
    }
   ],
   "execution_count": 5,
   "metadata": {
    "colab": {
     "base_uri": "https://localhost:8080/"
    },
    "id": "yQb4Wwt9CfKT",
    "outputId": "da11cfbd-054e-44e6-c7c1-5469443375ef"
   }
  },
  {
   "cell_type": "markdown",
   "source": [
    "- Use slicing to extract a range of elements:"
   ],
   "metadata": {
    "id": "5U_UkmgPCfKT"
   }
  },
  {
   "cell_type": "code",
   "source": [
    "sublist = my_list[1:4]  # [2, 3, \"apple\"]\n",
    "sublist"
   ],
   "outputs": [
    {
     "output_type": "execute_result",
     "data": {
      "text/plain": [
       "[2, 3, 'apple']"
      ]
     },
     "metadata": {},
     "execution_count": 6
    }
   ],
   "execution_count": 6,
   "metadata": {
    "colab": {
     "base_uri": "https://localhost:8080/"
    },
    "id": "B3tvh6yTCfKU",
    "outputId": "77e6da6d-0721-4102-9199-e201c1576a68"
   }
  },
  {
   "cell_type": "markdown",
   "source": [
    "3. **Modifying Elements:**\n",
    "   - Assign new values to specific indices:"
   ],
   "metadata": {
    "id": "7RoVj36eCfKU"
   }
  },
  {
   "cell_type": "code",
   "source": [
    "my_list[2] = \"orange\"  # [1, 2, \"orange\", \"apple\", \"banana\"]\n",
    "my_list"
   ],
   "outputs": [
    {
     "output_type": "execute_result",
     "data": {
      "text/plain": [
       "[1, 2, 'orange', 'apple', 'banana']"
      ]
     },
     "metadata": {},
     "execution_count": 7
    }
   ],
   "execution_count": 7,
   "metadata": {
    "colab": {
     "base_uri": "https://localhost:8080/"
    },
    "id": "F6jBECa-CfKU",
    "outputId": "3b35504c-c635-4fd7-e7c8-373e77fbabc0"
   }
  },
  {
   "cell_type": "markdown",
   "source": [
    "4. **List Operations:**\n",
    "   - **Length:** `len(my_list)`\n",
    "   - **Concatenation:** `list1 + list2`\n",
    "   - **Repetition:** `list * n`\n",
    "   - **Membership Testing:** `item in my_list`\n",
    "   - **Iterating:**"
   ],
   "metadata": {
    "id": "b6JR8ijmCfKU"
   }
  },
  {
   "cell_type": "code",
   "source": [
    "print(len(my_list))"
   ],
   "metadata": {
    "colab": {
     "base_uri": "https://localhost:8080/"
    },
    "id": "UBsb3j0dDYx_",
    "outputId": "09973a1e-ca31-46f5-95fc-6394ae90a76d"
   },
   "execution_count": 9,
   "outputs": [
    {
     "output_type": "stream",
     "name": "stdout",
     "text": [
      "5\n"
     ]
    }
   ]
  },
  {
   "cell_type": "code",
   "source": [
    "list1 = [1,2,3]\n",
    "list2 = [4,5,6]\n",
    "print(list1 + list2)"
   ],
   "metadata": {
    "colab": {
     "base_uri": "https://localhost:8080/"
    },
    "id": "MplySfdZDcgB",
    "outputId": "740e56c9-c72d-43f5-8403-92d852ab1bea"
   },
   "execution_count": 10,
   "outputs": [
    {
     "output_type": "stream",
     "name": "stdout",
     "text": [
      "[1, 2, 3, 4, 5, 6]\n"
     ]
    }
   ]
  },
  {
   "cell_type": "code",
   "source": [
    "print(list1 * 2)"
   ],
   "metadata": {
    "colab": {
     "base_uri": "https://localhost:8080/"
    },
    "id": "DcmbYM8fDgPX",
    "outputId": "4c360b78-5d6f-48c6-d274-8ba66d35d26e"
   },
   "execution_count": 11,
   "outputs": [
    {
     "output_type": "stream",
     "name": "stdout",
     "text": [
      "[1, 2, 3, 1, 2, 3]\n"
     ]
    }
   ]
  },
  {
   "cell_type": "code",
   "source": [
    "print(10 in list1)"
   ],
   "metadata": {
    "colab": {
     "base_uri": "https://localhost:8080/"
    },
    "id": "0XrHuY4eDniP",
    "outputId": "b8beda75-1ae2-4b3b-fb5a-a79bce95e519"
   },
   "execution_count": 13,
   "outputs": [
    {
     "output_type": "stream",
     "name": "stdout",
     "text": [
      "False\n"
     ]
    }
   ]
  },
  {
   "cell_type": "code",
   "source": [
    "for item in my_list:\n",
    "         print(item)"
   ],
   "outputs": [
    {
     "output_type": "stream",
     "name": "stdout",
     "text": [
      "1\n",
      "2\n",
      "orange\n",
      "apple\n",
      "banana\n"
     ]
    }
   ],
   "execution_count": 8,
   "metadata": {
    "colab": {
     "base_uri": "https://localhost:8080/"
    },
    "id": "bkst_Cs4CfKU",
    "outputId": "f5d5cb75-eff9-4bc5-a3ae-4f7789272118"
   }
  },
  {
   "cell_type": "markdown",
   "source": [
    "5. **List Methods:**\n",
    "   - **`append()`:** Adds an element to the end.\n",
    "   - **`insert()`:** Inserts an element at a specific index.\n",
    "   - **`remove()`:** Removes the first occurrence of an element.\n",
    "   - **`pop()`:** Removes and returns the last element (or a specified index).\n",
    "   - **`clear()`:** Removes all elements.\n",
    "   - **`count()`:** Counts occurrences of an element.\n",
    "   - **`index()`:** Finds the index of the first occurrence of an element.\n",
    "   - **`sort()`:** Sorts the list in ascending order.\n",
    "   - **`reverse()`:** Reverses the order of elements.\n",
    "   - **`copy()`:** Creates a shallow copy of the list.\n",
    "\n",
    "**Example:**"
   ],
   "metadata": {
    "id": "nR9FdDdhCfKV"
   }
  },
  {
   "cell_type": "code",
   "source": [
    "list1 = [1,2,3]\n",
    "list1.append(4)\n",
    "print(list1)\n",
    "\n",
    "list1.insert(2,5)\n",
    "print(list1)\n",
    "\n",
    "list1.remove(2)\n",
    "print(list1)\n",
    "\n",
    "list1.pop()\n",
    "print(list1)\n",
    "\n",
    "list1.clear()\n",
    "print(list1)\n",
    "\n",
    "list1 = [1,2,3]\n",
    "print(list1.count(2))\n",
    "\n",
    "print(list1.index(3))\n",
    "\n",
    "list1.sort()\n",
    "print(list1)\n",
    "\n",
    "list1.reverse()\n",
    "print(list1)\n",
    "\n",
    "list2 = list1.copy()\n",
    "print(list2)"
   ],
   "metadata": {
    "colab": {
     "base_uri": "https://localhost:8080/"
    },
    "id": "pQq36JIqEkaV",
    "outputId": "ae2e5927-91cd-4ef1-f461-cd319c04e03c"
   },
   "execution_count": 18,
   "outputs": [
    {
     "output_type": "stream",
     "name": "stdout",
     "text": [
      "[1, 2, 3, 4]\n",
      "[1, 2, 5, 3, 4]\n",
      "[1, 5, 3, 4]\n",
      "[1, 5, 3]\n",
      "[]\n",
      "1\n",
      "2\n",
      "[1, 2, 3]\n",
      "[3, 2, 1]\n",
      "[3, 2, 1]\n"
     ]
    }
   ]
  },
  {
   "cell_type": "code",
   "source": [
    "numbers = [3, 1, 4, 1, 5, 9, 2, 6, 5, 3, 5]\n",
    "\n",
    "# Find the length\n",
    "print(len(numbers))\n",
    "\n",
    "# Sort the list\n",
    "numbers.sort()\n",
    "print(numbers)\n",
    "\n",
    "# Reverse the list\n",
    "numbers.reverse()\n",
    "print(numbers)\n",
    "\n",
    "# Count the number of 5s\n",
    "print(numbers.count(5))\n",
    "\n",
    "# Find the index of the first occurrence of 3\n",
    "print(numbers.index(3))\n",
    "\n",
    "# Remove the first occurrence of 5\n",
    "numbers.remove(5)\n",
    "print(numbers)"
   ],
   "outputs": [
    {
     "output_type": "stream",
     "name": "stdout",
     "text": [
      "11\n",
      "[1, 1, 2, 3, 3, 4, 5, 5, 5, 6, 9]\n",
      "[9, 6, 5, 5, 5, 4, 3, 3, 2, 1, 1]\n",
      "3\n",
      "6\n",
      "[9, 6, 5, 5, 4, 3, 3, 2, 1, 1]\n"
     ]
    }
   ],
   "execution_count": 19,
   "metadata": {
    "colab": {
     "base_uri": "https://localhost:8080/"
    },
    "id": "BRmBYp3qCfKV",
    "outputId": "86179fc9-a69a-492a-b2cf-d1254e35a1e4"
   }
  },
  {
   "cell_type": "markdown",
   "source": [
    "**Remember:**\n",
    "- Lists are mutable, so changes made to a list affect the original list.\n",
    "- Use `copy()` to create a separate copy if you want to modify a list without affecting the original.\n",
    "- Lists can store elements of different data types.\n",
    "\n",
    "By understanding these core concepts and practicing with list methods, you can effectively work with lists in your Python programs."
   ],
   "metadata": {
    "id": "41VyYGPiCfKV"
   }
  },
  {
   "metadata": {},
   "cell_type": "markdown",
   "source": "# List Comprehensions"
  },
  {
   "metadata": {
    "ExecuteTime": {
     "end_time": "2024-12-05T18:49:35.029795Z",
     "start_time": "2024-12-05T18:49:34.983233Z"
    }
   },
   "cell_type": "code",
   "source": [
    "# [expression for item in iterable]\n",
    "\n",
    "# Create a list of squares of numbers from 1 to 10\n",
    "squares = [x**2 for x in range(1, 11)]\n",
    "print(squares)  # Output: [1, 4, 9, 16, 25, 36, 49, 64, 81, 100]"
   ],
   "outputs": [
    {
     "name": "stdout",
     "output_type": "stream",
     "text": [
      "[1, 4, 9, 16, 25, 36, 49, 64, 81, 100]\n"
     ]
    }
   ],
   "execution_count": 3
  },
  {
   "metadata": {
    "ExecuteTime": {
     "end_time": "2024-12-05T18:50:05.049984Z",
     "start_time": "2024-12-05T18:50:05.041641Z"
    }
   },
   "cell_type": "code",
   "source": [
    "# Create a list of even numbers from 1 to 20\n",
    "even_numbers = [x for x in range(1, 21) if x % 2 == 0]\n",
    "print(even_numbers)  # Output: [2, 4, 6, 8, 10, 12, 14, 16, 18, 20]"
   ],
   "outputs": [
    {
     "name": "stdout",
     "output_type": "stream",
     "text": [
      "[2, 4, 6, 8, 10, 12, 14, 16, 18, 20]\n"
     ]
    }
   ],
   "execution_count": 5
  },
  {
   "metadata": {
    "ExecuteTime": {
     "end_time": "2024-12-05T18:51:51.859274Z",
     "start_time": "2024-12-05T18:51:51.854663Z"
    }
   },
   "cell_type": "code",
   "source": [
    "even_numbers = [x for x in range(1,21) if x + 2 == 6]\n",
    "print(even_numbers)"
   ],
   "outputs": [
    {
     "name": "stdout",
     "output_type": "stream",
     "text": [
      "[4]\n"
     ]
    }
   ],
   "execution_count": 10
  }
 ],
 "metadata": {
  "colab": {
   "provenance": []
  },
  "kernelspec": {
   "display_name": "Python 3 (ipykernel)",
   "name": "python3",
   "language": "python"
  }
 },
 "nbformat": 4,
 "nbformat_minor": 0
}
