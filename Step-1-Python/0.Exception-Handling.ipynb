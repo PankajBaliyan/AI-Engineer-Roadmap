{
 "cells": [
  {
   "cell_type": "markdown",
   "metadata": {},
   "source": [
    "Resources : https://www.w3schools.com/python/python_ref_exceptions.asp"
   ]
  },
  {
   "cell_type": "code",
   "execution_count": 2,
   "metadata": {},
   "outputs": [
    {
     "name": "stdout",
     "output_type": "stream",
     "text": [
      "You cannot divide by zero\n"
     ]
    }
   ],
   "source": [
    "# Exception Handling\n",
    "\n",
    "try:\n",
    "    x = int(input(\"Enter a number: \"))\n",
    "    y = 1 / x\n",
    "    print(y)\n",
    "except ZeroDivisionError:\n",
    "    print(\"You cannot divide by zero\")\n"
   ]
  },
  {
   "cell_type": "code",
   "execution_count": 4,
   "metadata": {},
   "outputs": [
    {
     "name": "stdout",
     "output_type": "stream",
     "text": [
      "You cannot divide by zero\n"
     ]
    }
   ],
   "source": [
    "# Multiple except blocks\n",
    "try:\n",
    "    x = int(input(\"Enter a number: \"))\n",
    "    y = int(input(\"Enter another number: \"))\n",
    "    z = x / y\n",
    "    print(z)\n",
    "except ZeroDivisionError:\n",
    "    print(\"You cannot divide by zero\")\n",
    "except ValueError:\n",
    "    print(\"You must enter an integer value\")\n",
    "except:\n",
    "    print(\"Something went wrong\")"
   ]
  },
  {
   "cell_type": "code",
   "execution_count": 8,
   "metadata": {},
   "outputs": [
    {
     "name": "stdout",
     "output_type": "stream",
     "text": [
      "This is a memory error\n"
     ]
    }
   ],
   "source": [
    "# Raise an exception\n",
    "try:\n",
    "    raise MemoryError(\"This is a memory error\")\n",
    "except MemoryError as e:\n",
    "    print(e)"
   ]
  },
  {
   "cell_type": "code",
   "execution_count": 9,
   "metadata": {},
   "outputs": [
    {
     "name": "stdout",
     "output_type": "stream",
     "text": [
      "User defined exception:  Accident cause by car\n"
     ]
    }
   ],
   "source": [
    "# User defined exceptions\n",
    "\n",
    "class Accident (Exception):\n",
    "    def __init__ (self, msg):\n",
    "        self.msg=msg\n",
    "    def print_exception (self):\n",
    "        print (\"User defined exception: \",self.msg)\n",
    "\n",
    "try:\n",
    "    raise Accident (\"Accident cause by car\")\n",
    "except Accident as e:\n",
    "    e.print_exception()"
   ]
  },
  {
   "cell_type": "code",
   "execution_count": 10,
   "metadata": {},
   "outputs": [
    {
     "name": "stdout",
     "output_type": "stream",
     "text": [
      "You cannot divide by zero\n",
      "There may or may not have been an exception\n"
     ]
    }
   ],
   "source": [
    "# Finally block\n",
    "\n",
    "try:\n",
    "    x = int(input(\"Enter a number: \"))\n",
    "    y = 1 / x\n",
    "except ZeroDivisionError:\n",
    "    print(\"You cannot divide by zero\")\n",
    "finally:\n",
    "    print(\"There may or may not have been an exception\")\n"
   ]
  }
 ],
 "metadata": {
  "kernelspec": {
   "display_name": "base",
   "language": "python",
   "name": "python3"
  },
  "language_info": {
   "codemirror_mode": {
    "name": "ipython",
    "version": 3
   },
   "file_extension": ".py",
   "mimetype": "text/x-python",
   "name": "python",
   "nbconvert_exporter": "python",
   "pygments_lexer": "ipython3",
   "version": "3.1.-1"
  }
 },
 "nbformat": 4,
 "nbformat_minor": 2
}
