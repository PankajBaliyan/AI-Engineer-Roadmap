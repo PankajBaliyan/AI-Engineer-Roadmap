{
 "cells": [
  {
   "cell_type": "code",
   "execution_count": 2,
   "metadata": {},
   "outputs": [
    {
     "name": "stdout",
     "output_type": "stream",
     "text": [
      "90\n",
      "85\n",
      "1000\n",
      "1500\n",
      "1300\n"
     ]
    }
   ],
   "source": [
    "# classes & objects\n",
    "\n",
    "class Student:\n",
    "    def __init__(self, name, age, grade):\n",
    "        self.name = name\n",
    "        self.age = age\n",
    "        self.grade = grade\n",
    "\n",
    "    def get_grade(self):\n",
    "        return self.grade\n",
    "\n",
    "student1 = Student(\"John\", 16, 90)\n",
    "print(student1.get_grade())\n",
    "\n",
    "student2 = Student(\"Jane\", 15, 85)\n",
    "print(student2.get_grade())\n",
    "\n",
    "# another example\n",
    "\n",
    "class Bank:\n",
    "    def __init__(self, name, balance):\n",
    "        self.name = name\n",
    "        self.balance = balance\n",
    "\n",
    "    def deposit(self, amount):\n",
    "        self.balance += amount\n",
    "\n",
    "    def withdraw(self, amount):\n",
    "        if self.balance >= amount:\n",
    "            self.balance -= amount\n",
    "        else:\n",
    "            print(\"Insufficient funds\")\n",
    "\n",
    "    def get_balance(self):\n",
    "        return self.balance\n",
    "\n",
    "account1 = Bank(\"John\", 1000)\n",
    "print(account1.get_balance())\n",
    "account1.deposit(500)\n",
    "print(account1.get_balance())\n",
    "account1.withdraw(200)\n",
    "print(account1.get_balance())\n",
    "\n"
   ]
  },
  {
   "cell_type": "code",
   "execution_count": 1,
   "metadata": {},
   "outputs": [
    {
     "name": "stdout",
     "output_type": "stream",
     "text": [
      "canine\n",
      "canine\n"
     ]
    }
   ],
   "source": [
    "# static variables vs instance variables\n",
    "# static variables are shared among all instances of a class\n",
    "# instance variables are unique to each instance of a class\n",
    "\n",
    "class Dog:\n",
    "    kind = \"canine\" # static variable\n",
    "\n",
    "    def __init__(self, name):\n",
    "        self.name = name # instance variable\n",
    "\n",
    "    def bark(self):\n",
    "        print(f\"{self.name} says: Woof!\")\n",
    "\n",
    "dog1 = Dog(\"Buddy\")\n",
    "dog2 = Dog(\"Whiskers\")\n",
    "print(dog1.kind) # canine\n",
    "print(dog2.kind) # canine"
   ]
  }
 ],
 "metadata": {
  "kernelspec": {
   "display_name": "base",
   "language": "python",
   "name": "python3"
  },
  "language_info": {
   "codemirror_mode": {
    "name": "ipython",
    "version": 3
   },
   "file_extension": ".py",
   "mimetype": "text/x-python",
   "name": "python",
   "nbconvert_exporter": "python",
   "pygments_lexer": "ipython3",
   "version": "3.9.6"
  }
 },
 "nbformat": 4,
 "nbformat_minor": 2
}
