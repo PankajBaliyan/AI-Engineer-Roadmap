{
 "cells": [
  {
   "cell_type": "code",
   "execution_count": 11,
   "metadata": {},
   "outputs": [
    {
     "name": "stdout",
     "output_type": "stream",
     "text": [
      "Starting task 1...\n",
      "Task 1 completed.\n",
      "Starting task 2...\n",
      "Task 2 completed.\n",
      "Starting task 3...\n",
      "Task 3 completed.\n",
      "Total time taken: 9.011866092681885 seconds\n",
      "Total time taken: 9.01 seconds\n",
      "Starting task 1...\n",
      "Starting task 2...\n",
      "Starting task 3...\n",
      "Task 3 completed.Task 1 completed.\n",
      "Task 2 completed.\n",
      "\n",
      "Total time taken: 3.01 seconds\n"
     ]
    }
   ],
   "source": [
    "# Multi - Threading\n",
    "# Def : Running multiple threads (tasks) simultaneously\n",
    "# Advantages : Better use of multi-core processors\n",
    "\n",
    "# Before multi-threading\n",
    "\n",
    "import time\n",
    "\n",
    "def task1():\n",
    "    print(\"Starting task 1...\")\n",
    "    time.sleep(3)  # Simulating a time-consuming task\n",
    "    print(\"Task 1 completed.\")\n",
    "\n",
    "def task2():\n",
    "    print(\"Starting task 2...\")\n",
    "    time.sleep(3)  # Simulating a time-consuming task\n",
    "    print(\"Task 2 completed.\")\n",
    "\n",
    "def task3():\n",
    "    print(\"Starting task 3...\")\n",
    "    time.sleep(3)  # Simulating a time-consuming task\n",
    "    print(\"Task 3 completed.\")\n",
    "\n",
    "start_time = time.time()\n",
    "\n",
    "task1()\n",
    "task2()\n",
    "task3()\n",
    "\n",
    "end_time = time.time()\n",
    "\n",
    "# print(f\"Total time taken: {end_time - start_time} seconds\")\n",
    "# round of 2 decimal places\n",
    "print(f\"Total time taken: {end_time - start_time:.2f} seconds\")\n",
    "\n",
    "\n",
    "# After multi-threading\n",
    "\n",
    "import time\n",
    "import threading\n",
    "\n",
    "def task4():\n",
    "    print(\"Starting task 1...\")\n",
    "    time.sleep(3)  # Simulating a time-consuming task\n",
    "    print(\"Task 1 completed.\")\n",
    "\n",
    "def task5():\n",
    "    print(\"Starting task 2...\")\n",
    "    time.sleep(3)  # Simulating a time-consuming task\n",
    "    print(\"Task 2 completed.\")\n",
    "\n",
    "def task6():\n",
    "    print(\"Starting task 3...\")\n",
    "    time.sleep(3)  # Simulating a time-consuming task\n",
    "    print(\"Task 3 completed.\")\n",
    "\n",
    "start_time = time.time()\n",
    "\n",
    "# Create threads\n",
    "thread1 = threading.Thread(target=task4)\n",
    "thread2 = threading.Thread(target=task5)\n",
    "thread3 = threading.Thread(target=task6)\n",
    "\n",
    "# Start threads\n",
    "thread1.start()\n",
    "thread2.start()\n",
    "thread3.start()\n",
    "\n",
    "# Wait for all threads to complete\n",
    "thread1.join()\n",
    "thread2.join()\n",
    "thread3.join()\n",
    "\n",
    "end_time = time.time()\n",
    "\n",
    "# print(f\"Total time taken: {end_time - start_time} seconds\")\n",
    "result = end_time - start_time\n",
    "# round of 2 decimal places\n",
    "print(f\"Total time taken: {result:.2f} seconds\")"
   ]
  },
  {
   "cell_type": "code",
   "execution_count": 7,
   "metadata": {},
   "outputs": [
    {
     "name": "stdout",
     "output_type": "stream",
     "text": [
      "Total time taken: 3.01 seconds\n"
     ]
    }
   ],
   "source": [
    "value = 3.0064220428466797\n",
    "print(f\"Total time taken: {value:.2f} seconds\")"
   ]
  }
 ],
 "metadata": {
  "kernelspec": {
   "display_name": "base",
   "language": "python",
   "name": "python3"
  },
  "language_info": {
   "codemirror_mode": {
    "name": "ipython",
    "version": 3
   },
   "file_extension": ".py",
   "mimetype": "text/x-python",
   "name": "python",
   "nbconvert_exporter": "python",
   "pygments_lexer": "ipython3",
   "version": "3.11.7"
  }
 },
 "nbformat": 4,
 "nbformat_minor": 2
}
