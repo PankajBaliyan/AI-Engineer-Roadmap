{
 "cells": [
  {
   "cell_type": "markdown",
   "metadata": {},
   "source": [
    "Resources to learn or taking help from these...\n",
    "1. w3school : https://www.w3schools.com/python/python_arrays.asp"
   ]
  },
  {
   "cell_type": "code",
   "execution_count": 2,
   "metadata": {},
   "outputs": [
    {
     "name": "stdout",
     "output_type": "stream",
     "text": [
      "[1 2 3 4 5]\n"
     ]
    }
   ],
   "source": [
    "# import numeric python library, that is used for working with arrays & matrices\n",
    "import numpy as np # type: ignore\n",
    "\n",
    "# create array from list\n",
    "my_array = np.array([1, 2, 3, 4, 5])\n",
    "\n",
    "# print array\n",
    "print(my_array)"
   ]
  },
  {
   "cell_type": "code",
   "execution_count": 11,
   "metadata": {},
   "outputs": [
    {
     "name": "stdout",
     "output_type": "stream",
     "text": [
      "[1, 2, 3, 4, 5]\n"
     ]
    }
   ],
   "source": [
    "# taking array input from user\n",
    "arr = input().strip().split(' ')\n",
    "\n",
    "# input() is used to take input from user, it will take input as string\n",
    "# strip() is used to remove leading and trailing whitespaces\n",
    "# split() is used to split the string into list of strings\n",
    "\n",
    "# convert list of strings to list of integers\n",
    "arr = list(map(int, arr))\n",
    "\n",
    "# map() is used to apply a function to each element of the list\n",
    "# list is used to convert map object to list\n",
    "\n",
    "print(arr)"
   ]
  },
  {
   "cell_type": "code",
   "execution_count": 3,
   "metadata": {},
   "outputs": [
    {
     "name": "stdout",
     "output_type": "stream",
     "text": [
      "[5 4 3 2 1]\n",
      "[5 4 3 2 1]\n"
     ]
    }
   ],
   "source": [
    "# Reverse a array\n",
    "\n",
    "# First method using splice operator\n",
    "print(my_array[::-1])\n",
    "\n",
    "# Second method using swapping\n",
    "def reverse_array(arr):\n",
    "    for i in range(len(arr)//2):\n",
    "        arr[i], arr[-i-1] = arr[-i-1], arr[i]\n",
    "    return arr\n",
    "\n",
    "data = reverse_array(my_array)\n",
    "print(data)"
   ]
  },
  {
   "cell_type": "code",
   "execution_count": 6,
   "metadata": {},
   "outputs": [
    {
     "name": "stdout",
     "output_type": "stream",
     "text": [
      "15\n"
     ]
    }
   ],
   "source": [
    "# Sum of array elements\n",
    "def sumOfArray(arr):\n",
    "    return sum(arr)\n",
    "\n",
    "print(sumOfArray(my_array))"
   ]
  },
  {
   "cell_type": "code",
   "execution_count": 8,
   "metadata": {},
   "outputs": [
    {
     "name": "stdout",
     "output_type": "stream",
     "text": [
      "5\n"
     ]
    }
   ],
   "source": [
    "# Finding Maximum Element\n",
    "def maxEle(arr):\n",
    "    return max(arr)\n",
    "\n",
    "print(maxEle(my_array))"
   ]
  },
  {
   "cell_type": "code",
   "execution_count": 11,
   "metadata": {},
   "outputs": [
    {
     "name": "stdout",
     "output_type": "stream",
     "text": [
      "[1, 2, 3, 4, 5]\n"
     ]
    }
   ],
   "source": [
    "# Removing Duplicates\n",
    "def removeDuplicates(arr):\n",
    "    return list(set(arr))\n",
    "\n",
    "# set() is used to remove duplicates from list\n",
    "# list() is used to convert object to list/Array\n",
    "\n",
    "print(removeDuplicates([1, 2, 3, 4, 5, 1, 2, 3, 4, 5]))"
   ]
  },
  {
   "cell_type": "code",
   "execution_count": 12,
   "metadata": {},
   "outputs": [
    {
     "name": "stdout",
     "output_type": "stream",
     "text": [
      "3.0\n"
     ]
    }
   ],
   "source": [
    "#Finding Average\n",
    "def average(arr):\n",
    "    return sum(arr) / len(arr)\n",
    "\n",
    "print(average(my_array))"
   ]
  },
  {
   "cell_type": "code",
   "execution_count": 15,
   "metadata": {},
   "outputs": [
    {
     "name": "stdout",
     "output_type": "stream",
     "text": [
      "[1, 2, 3, 4, 5, 6, 7, 8]\n",
      "[8, 7, 6, 5, 4, 3, 2, 1]\n"
     ]
    }
   ],
   "source": [
    "# Sorting Array in Ascending Order\n",
    "def sortArray(arr):\n",
    "    return sorted(arr)\n",
    "\n",
    "# sorted() is used to sort the array in ascending order\n",
    "\n",
    "print(sortArray([8, 5, 2, 7, 3, 1, 6, 4]))\n",
    "\n",
    "# Sorting Array in Descending Order\n",
    "def sortArrayDesc(arr):\n",
    "    return sorted(arr, reverse=True)\n",
    "\n",
    "print(sortArrayDesc([8, 5, 2, 7, 3, 1, 6, 4]))\n",
    "\n",
    "# sorted() function returns a sorted list of the specified iterable object.\n",
    "# Syntax: sorted(iterable, key, reverse)\n",
    "# iterable: Required. The sequence to sort, list, dictionary, tuple etc.\n",
    "# key: Optional. A Function to execute to decide the order. Default is None\n",
    "# reverse: Optional. A Boolean. False will sort ascending, True will sort descending. Default is False"
   ]
  },
  {
   "cell_type": "code",
   "execution_count": 18,
   "metadata": {},
   "outputs": [
    {
     "name": "stdout",
     "output_type": "stream",
     "text": [
      "True\n",
      "False\n"
     ]
    }
   ],
   "source": [
    "# Checking if Array is Palindrome\n",
    "def isPalindrome(arr):\n",
    "    for i in range(len(arr)):\n",
    "        if arr[i] != arr[len(arr) - 1 - i]:\n",
    "            return False\n",
    "    return True\n",
    "\n",
    "print(isPalindrome([1, 2, 3, 2, 1]))\n",
    "print(isPalindrome([1, 1, 3, 2, 1]))"
   ]
  },
  {
   "cell_type": "code",
   "execution_count": 4,
   "metadata": {},
   "outputs": [
    {
     "name": "stdout",
     "output_type": "stream",
     "text": [
      "[5. 3. 2. 1.]\n"
     ]
    }
   ],
   "source": [
    "def arrays(arr):\n",
    "    # Convert the input list to a NumPy array of type float and reverse it\n",
    "    return np.array(arr, float)[::-1]\n",
    "\n",
    "# Read the space-separated numbers as input and split them directly by whitespace\n",
    "arr = input().strip().split(' ')\n",
    "result = arrays(arr)\n",
    "print(result)\n"
   ]
  },
  {
   "cell_type": "code",
   "execution_count": 3,
   "metadata": {},
   "outputs": [
    {
     "name": "stdout",
     "output_type": "stream",
     "text": [
      "[1 2 3 3 4 5]\n"
     ]
    }
   ],
   "source": [
    "first_array = np.array([1,2,3])\n",
    "second_array = np.array([3,4,5])\n",
    "\n",
    "def concatenate(first_array, second_array):\n",
    "    return np.concatenate((first_array, second_array))\n",
    "\n",
    "print(concatenate(first_array, second_array))"
   ]
  },
  {
   "cell_type": "code",
   "execution_count": 12,
   "metadata": {},
   "outputs": [
    {
     "name": "stdout",
     "output_type": "stream",
     "text": [
      "1 2 3 4 5 \n",
      "5 4 3 2 1 "
     ]
    }
   ],
   "source": [
    "# Traversal of array\n",
    "def traversal(arr):\n",
    "    for i in arr:\n",
    "        print(i, end=\" \")\n",
    "\n",
    "traversal([1, 2, 3, 4, 5])\n",
    "\n",
    "# newline\n",
    "print()\n",
    "\n",
    "def reversedTraversal(arr):\n",
    "    for i in arr[::-1]:\n",
    "        print(i, end=\" \")\n",
    "\n",
    "reversedTraversal([1, 2, 3, 4, 5])"
   ]
  },
  {
   "cell_type": "code",
   "execution_count": 15,
   "metadata": {},
   "outputs": [
    {
     "name": "stdout",
     "output_type": "stream",
     "text": [
      "2\n",
      "-1\n"
     ]
    }
   ],
   "source": [
    "# Search in array\n",
    "def search(arr, x):\n",
    "    for i in range(len(arr)):\n",
    "        if(arr[i] == x):\n",
    "            return i\n",
    "    return -1\n",
    "\n",
    "print(search([1, 2, 3, 4, 5], 3))\n",
    "print(search([1, 2, 3, 4, 5], 30))"
   ]
  },
  {
   "cell_type": "code",
   "execution_count": 29,
   "metadata": {},
   "outputs": [
    {
     "name": "stdout",
     "output_type": "stream",
     "text": [
      "1 3\n",
      "1 3\n",
      "1 3 4 5\n"
     ]
    }
   ],
   "source": [
    "# Delete element in array using index\n",
    "def deleteElement(arr, index):\n",
    "    del arr[index]\n",
    "    return arr\n",
    "\n",
    "arr = [1, 2, 3]\n",
    "index = 1\n",
    "result = deleteElement(arr, index)\n",
    "print(*result)\n",
    "\n",
    "# del, removes the element at the specified index\n",
    "\n",
    "# The * symbol is used to unpack the elements of a list (or any iterable) when passed as arguments to a function or during printing.\n",
    "# In the context of printing a list, using * allows you to print the elements of the list separated by spaces, without printing the list brackets [ ].\n",
    "# With *, 1 2 3\n",
    "# Without *, [1, 2, 3]\n",
    "\n",
    "\n",
    "# Delete element in array using value\n",
    "def deleteElementValue(arr, value):\n",
    "    arr.remove(value)\n",
    "    return arr\n",
    "\n",
    "arr = [1, 2, 3]\n",
    "value = 2\n",
    "result = deleteElementValue(arr, value)\n",
    "print(*result)\n",
    "\n",
    "# remove() removes the first occurrence of the specified value\n",
    "\n",
    "# Remove all occurrences of element in array\n",
    "def removeAllOccurrences(arr, value):\n",
    "    return list(filter(lambda x: x != value, arr))\n",
    "\n",
    "arr = [1, 2, 3, 2, 4, 2, 5]\n",
    "value = 2\n",
    "result = removeAllOccurrences(arr, value)\n",
    "print(*result)"
   ]
  },
  {
   "cell_type": "code",
   "execution_count": 30,
   "metadata": {},
   "outputs": [
    {
     "name": "stdout",
     "output_type": "stream",
     "text": [
      "1 5 3\n"
     ]
    }
   ],
   "source": [
    "# Update element in array\n",
    "def updateElement(arr, index, value):\n",
    "    arr[index] = value\n",
    "    return arr\n",
    "\n",
    "arr = [1, 2, 3]\n",
    "index = 1\n",
    "value = 5\n",
    "result = updateElement(arr, index, value)\n",
    "print(*result)"
   ]
  },
  {
   "cell_type": "markdown",
   "metadata": {},
   "source": [
    "Searching Techniques Algorithms"
   ]
  },
  {
   "cell_type": "code",
   "execution_count": 34,
   "metadata": {},
   "outputs": [
    {
     "name": "stdout",
     "output_type": "stream",
     "text": [
      "2\n",
      "2\n",
      "2\n",
      "2\n"
     ]
    }
   ],
   "source": [
    "# Searching Algorithm\n",
    "\n",
    "# Linear Search\n",
    "# Definition: Linear search is a searching algorithm that finds the position of a target value within a list.\n",
    "# It sequentially checks each element of the list for the target value until a match is found or until all the elements have been searched.\n",
    "def linearSearch(arr, x):\n",
    "    for i in range(len(arr)):\n",
    "        if arr[i] == x:\n",
    "            return i\n",
    "    return -1\n",
    "\n",
    "arr = [1, 2, 3, 4, 5]\n",
    "x = 3\n",
    "result = linearSearch(arr, x)\n",
    "print(result)\n",
    "\n",
    "\n",
    "# Binary Search (iterative)\n",
    "# Definition: Binary search is a searching algorithm that finds the position of a target value within a sorted array.\n",
    "# It compares the target value to the middle element of the array and eliminates half of the remaining elements based on the comparison.\n",
    "def binarySearch(arr, x):\n",
    "    low = 0\n",
    "    high = len(arr) - 1\n",
    "    while low <= high:\n",
    "        mid = (low + high) // 2\n",
    "        if arr[mid] < x:\n",
    "            low = mid + 1\n",
    "        elif arr[mid] > x:\n",
    "            high = mid - 1\n",
    "        else:\n",
    "            return mid\n",
    "    return -1\n",
    "\n",
    "arr = [1, 2, 3, 4, 5]\n",
    "x = 3\n",
    "result = binarySearch(arr, x)\n",
    "print(result)\n",
    "\n",
    "# // is used for floor division, which means it rounds down to the nearest whole number\n",
    "# result = 10 // 3\n",
    "# print(result)  # Output: 3\n",
    "# result = 11 // 3\n",
    "# print(result)  # Output: 3\n",
    "\n",
    "\n",
    "# Binary Search (recursive)\n",
    "def binarySearchRecursive(arr, x, low, high):\n",
    "    if low <= high:\n",
    "        mid = (low + high) // 2\n",
    "        if arr[mid] < x:\n",
    "            return binarySearchRecursive(arr, x, mid + 1, high)\n",
    "        elif arr[mid] > x:\n",
    "            return binarySearchRecursive(arr, x, low, mid - 1)\n",
    "        else:\n",
    "            return mid\n",
    "    return -1\n",
    "\n",
    "arr = [1, 2, 3, 4, 5]\n",
    "x = 3\n",
    "result = binarySearchRecursive(arr, x, 0, len(arr) - 1)\n",
    "print(result)\n",
    "\n",
    "# Hashing sorting Algorithm\n",
    "def hashSearch(arr, x):\n",
    "    hashTable = {}\n",
    "    for i in range(len(arr)):\n",
    "        if arr[i] not in hashTable:\n",
    "            hashTable[arr[i]] = i\n",
    "    if x in hashTable:\n",
    "        return hashTable[x]\n",
    "    return -1\n",
    "\n",
    "arr = [1, 2, 3, 4, 5]\n",
    "x = 3\n",
    "result = hashSearch(arr, x)\n",
    "print(result)"
   ]
  },
  {
   "cell_type": "markdown",
   "metadata": {},
   "source": [
    "Sorting Techniques Algorithms"
   ]
  },
  {
   "cell_type": "code",
   "execution_count": 1,
   "metadata": {},
   "outputs": [
    {
     "name": "stdout",
     "output_type": "stream",
     "text": [
      "Test Case 1:\n",
      "Input: [2, 5, 1, 6, 3]\n",
      "Sorted: [1, 2, 3, 5, 6]\n",
      "\n",
      "Test Case 2:\n",
      "Input: [10, 7, 8, 3, 2, 1, 5, 6, 4, 9]\n",
      "Sorted: [1, 2, 3, 4, 5, 6, 7, 8, 9, 10]\n",
      "\n",
      "Test Case 3:\n",
      "Input: [1, 2, 3, 4, 5]\n",
      "Sorted: [1, 2, 3, 4, 5]\n",
      "\n",
      "Test Case 4:\n",
      "Input: [5, 4, 3, 2, 1]\n",
      "Sorted: [1, 2, 3, 4, 5]\n",
      "\n",
      "Test Case 5:\n",
      "Input: [1]\n",
      "Sorted: [1]\n",
      "\n",
      "Test Case 6:\n",
      "Input: []\n",
      "Sorted: []\n",
      "\n"
     ]
    }
   ],
   "source": [
    "# Sorting Techniques\n",
    "\n",
    "# Bubble Sort\n",
    "# Definition: Bubble sort is a simple sorting algorithm that repeatedly steps through the list, compares adjacent elements, and swaps them if they are in the wrong order.\n",
    "# Time Complexity: O(n^2) in the worst case and O(n) in the best case\n",
    "\n",
    "# Worst case\n",
    "def bubbleSort(nums):\n",
    "    for i in range(len(nums)-1, 0, -1):\n",
    "        for j in range(i):\n",
    "            if(nums[j] > nums[j+1]):\n",
    "                temp = nums[j]\n",
    "                nums[j] = nums[j+1]\n",
    "                nums[j+1] = temp\n",
    "    return nums\n",
    "\n",
    "# Best case\n",
    "def bubbleSort(nums):\n",
    "    n = len(nums)\n",
    "    for i in range(n-1):\n",
    "        swapped = False  # Flag to track if any swap occurred\n",
    "        for j in range(n-1-i):\n",
    "            if nums[j] > nums[j+1]:  # Change here: Compare adjacent elements\n",
    "                nums[j], nums[j+1] = nums[j+1], nums[j]  # Swap elements\n",
    "                swapped = True  # Set flag to True if a swap occurred\n",
    "        if not swapped:\n",
    "            break  # If no swaps occurred, the array is already sorted\n",
    "    return nums\n",
    "\n",
    "\n",
    "# Test cases\n",
    "test_cases = [\n",
    "    [2, 5, 1, 6, 3],\n",
    "    [10, 7, 8, 3, 2, 1, 5, 6, 4, 9],\n",
    "    [1, 2, 3, 4, 5],\n",
    "    [5, 4, 3, 2, 1],\n",
    "    [1],\n",
    "    [],\n",
    "]\n",
    "\n",
    "# Iterate over each test case\n",
    "for i, nums in enumerate(test_cases):\n",
    "    print(f\"Test Case {i+1}:\")\n",
    "    print(\"Input:\", nums)\n",
    "    result = bubbleSort(nums.copy())  # Create a copy to avoid modifying the original list\n",
    "    print(\"Sorted:\", result)\n",
    "    print()  # Empty line for better readability\n"
   ]
  },
  {
   "cell_type": "code",
   "execution_count": 2,
   "metadata": {},
   "outputs": [
    {
     "name": "stdout",
     "output_type": "stream",
     "text": [
      "Input: [5, 2, 4, 6, 1, 3]\n",
      "Output: [1, 2, 3, 4, 5, 6]\n",
      "Output: [1, 2, 3, 4, 5, 6]\n",
      "Output: [1, 2, 3, 4, 5, 6]\n"
     ]
    }
   ],
   "source": [
    "# Quick Sort\n",
    "# Definition: Quick sort is a sorting algorithm that uses a divide-and-conquer approach to sort an array.\n",
    "# The idea is to pick an element as a pivot and partition the array around it.\n",
    "# Time Complexity: O(n log n) average, O(n^2) worst case\n",
    "\n",
    "# Worst case\n",
    "def quickSortWorstCase(nums):\n",
    "    if len(nums) <= 1:\n",
    "        return nums\n",
    "    pivot = nums[len(nums) // 2]\n",
    "    left = [x for x in nums if x < pivot]\n",
    "    middle = [x for x in nums if x == pivot]\n",
    "    right = [x for x in nums if x > pivot]\n",
    "    return quickSortWorstCase(left) + middle + quickSortWorstCase(right)\n",
    "\n",
    "# Best case\n",
    "def quickSortBestCase(nums):\n",
    "    if len(nums) <= 1:\n",
    "        return nums\n",
    "    pivot = nums[len(nums) // 2]\n",
    "    left, middle, right = [], [], []\n",
    "    for x in nums:\n",
    "        if x < pivot:\n",
    "            left.append(x)\n",
    "        elif x == pivot:\n",
    "            middle.append(x)\n",
    "        else:\n",
    "            right.append(x)\n",
    "    return quickSortBestCase(left) + middle + quickSortBestCase(right)\n",
    "\n",
    "# Average case\n",
    "def quickSortAverageCase(nums):\n",
    "    if len(nums) <= 1:\n",
    "        return nums\n",
    "    pivot = nums[len(nums) // 2]\n",
    "    left, middle, right = [], [], []\n",
    "    for x in nums:\n",
    "        if x < pivot:\n",
    "            left.append(x)\n",
    "        elif x == pivot:\n",
    "            middle.append(x)\n",
    "        else:\n",
    "            right.append(x)\n",
    "    return quickSortAverageCase(left) + middle + quickSortAverageCase(right)\n",
    "\n",
    "# Test cases\n",
    "nums = [5, 2, 4, 6, 1, 3]\n",
    "print(\"Input:\", nums)\n",
    "print(\"Output:\", quickSortWorstCase(nums))\n",
    "print(\"Output:\", quickSortBestCase(nums))\n",
    "print(\"Output:\", quickSortAverageCase(nums))"
   ]
  }
 ],
 "metadata": {
  "kernelspec": {
   "display_name": "base",
   "language": "python",
   "name": "python3"
  },
  "language_info": {
   "codemirror_mode": {
    "name": "ipython",
    "version": 3
   },
   "file_extension": ".py",
   "mimetype": "text/x-python",
   "name": "python",
   "nbconvert_exporter": "python",
   "pygments_lexer": "ipython3",
   "version": "3.11.7"
  }
 },
 "nbformat": 4,
 "nbformat_minor": 2
}
