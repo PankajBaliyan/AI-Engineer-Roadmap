{
 "cells": [
  {
   "cell_type": "code",
   "execution_count": 5,
   "metadata": {},
   "outputs": [
    {
     "name": "stdout",
     "output_type": "stream",
     "text": [
      "[1 2 3 4 5]\n"
     ]
    }
   ],
   "source": [
    "# import numeric python library, that is used for working with arrays & matrices\n",
    "import numpy as np # type: ignore\n",
    "\n",
    "# create array from list\n",
    "my_array = np.array([1, 2, 3, 4, 5])\n",
    "\n",
    "# print array\n",
    "print(my_array)"
   ]
  },
  {
   "cell_type": "code",
   "execution_count": 11,
   "metadata": {},
   "outputs": [
    {
     "name": "stdout",
     "output_type": "stream",
     "text": [
      "[1, 2, 3, 4, 5]\n"
     ]
    }
   ],
   "source": [
    "# taking array input from user\n",
    "arr = input().strip().split(' ')\n",
    "\n",
    "# input() is used to take input from user, it will take input as string\n",
    "# strip() is used to remove leading and trailing whitespaces\n",
    "# split() is used to split the string into list of strings\n",
    "\n",
    "# convert list of strings to list of integers\n",
    "arr = list(map(int, arr))\n",
    "\n",
    "# map() is used to apply a function to each element of the list\n",
    "# list is used to convert map object to list\n",
    "\n",
    "print(arr)"
   ]
  },
  {
   "cell_type": "code",
   "execution_count": 12,
   "metadata": {},
   "outputs": [
    {
     "name": "stdout",
     "output_type": "stream",
     "text": [
      "[5 4 3 2 1]\n"
     ]
    }
   ],
   "source": [
    "# Reverse a array\n",
    "def reverse_array(arr):\n",
    "    for i in range(len(arr)//2):\n",
    "        arr[i], arr[-i-1] = arr[-i-1], arr[i]\n",
    "    return arr\n",
    "\n",
    "data = reverse_array(my_array)\n",
    "print(data)"
   ]
  }
 ],
 "metadata": {
  "kernelspec": {
   "display_name": "base",
   "language": "python",
   "name": "python3"
  },
  "language_info": {
   "codemirror_mode": {
    "name": "ipython",
    "version": 3
   },
   "file_extension": ".py",
   "mimetype": "text/x-python",
   "name": "python",
   "nbconvert_exporter": "python",
   "pygments_lexer": "ipython3",
   "version": "3.11.7"
  }
 },
 "nbformat": 4,
 "nbformat_minor": 2
}
