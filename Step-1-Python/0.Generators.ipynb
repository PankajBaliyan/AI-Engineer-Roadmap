{
 "cells": [
  {
   "cell_type": "code",
   "execution_count": 4,
   "metadata": {},
   "outputs": [
    {
     "name": "stdout",
     "output_type": "stream",
     "text": [
      "This is printed first\n",
      "1\n",
      "This is printed second\n",
      "2\n",
      "This is printed last\n",
      "3\n"
     ]
    }
   ],
   "source": [
    "# Generators\n",
    "\n",
    "# Generators are iterators, but you can only iterate over them once.\n",
    "# Generators are great for creating iterators that can be used in a for loop.\n",
    "# Generators are a type of iterable, like lists.\n",
    "# Generators are created using the yield statement.\n",
    "# The yield statement is only used in a generator.\n",
    "# The yield statement returns a value and suspends the function.\n",
    "# The function is resumed from the point where it was left off.\n",
    "\n",
    "# Create a simple generator function\n",
    "def my_gen():\n",
    "    n = 1\n",
    "    print('This is printed first')\n",
    "    # Generator function contains yield statements\n",
    "    yield n\n",
    "\n",
    "    n += 1\n",
    "    print('This is printed second')\n",
    "    yield n\n",
    "\n",
    "    n += 1\n",
    "    print('This is printed last')\n",
    "    yield n\n",
    "\n",
    "# Create an object of the generator\n",
    "a = my_gen()\n",
    "\n",
    "# Call the generator\n",
    "print(next(a))\n",
    "print(next(a))\n",
    "print(next(a))\n",
    "# print(next(a)) # This will give error as generator can be iterated only once"
   ]
  },
  {
   "cell_type": "code",
   "execution_count": 5,
   "metadata": {},
   "outputs": [
    {
     "ename": "NameError",
     "evalue": "name 'console' is not defined",
     "output_type": "error",
     "traceback": [
      "\u001b[0;31m---------------------------------------------------------------------------\u001b[0m",
      "\u001b[0;31mNameError\u001b[0m                                 Traceback (most recent call last)",
      "Cell \u001b[0;32mIn[5], line 19\u001b[0m\n\u001b[1;32m     16\u001b[0m myTuple \u001b[38;5;241m=\u001b[39m (\u001b[38;5;124m\"\u001b[39m\u001b[38;5;124mapple\u001b[39m\u001b[38;5;124m\"\u001b[39m, \u001b[38;5;124m\"\u001b[39m\u001b[38;5;124mbanana\u001b[39m\u001b[38;5;124m\"\u001b[39m, \u001b[38;5;124m\"\u001b[39m\u001b[38;5;124mcherry\u001b[39m\u001b[38;5;124m\"\u001b[39m)\n\u001b[1;32m     17\u001b[0m myIterator \u001b[38;5;241m=\u001b[39m \u001b[38;5;28miter\u001b[39m(myTuple)\n\u001b[0;32m---> 19\u001b[0m \u001b[43mconsole\u001b[49m\u001b[38;5;241m.\u001b[39mlog(\u001b[38;5;28mnext\u001b[39m(myIterator))\n\u001b[1;32m     21\u001b[0m \u001b[38;5;28mprint\u001b[39m(\u001b[38;5;28mnext\u001b[39m(myIterator))\n\u001b[1;32m     22\u001b[0m \u001b[38;5;28mprint\u001b[39m(\u001b[38;5;28mnext\u001b[39m(myIterator))\n",
      "\u001b[0;31mNameError\u001b[0m: name 'console' is not defined"
     ]
    }
   ],
   "source": [
    "# Iterators\n",
    "\n",
    "# An iterator is an object that contains a countable number of values.\n",
    "# An iterator is an object that can be iterated upon, meaning that you can traverse through all the values.\n",
    "# Technically, in Python, an iterator is an object which implements the iterator protocol, which consists of the methods __iter__() and __next__().\n",
    "\n",
    "# The for loop actually creates an iterator object and executes the next() method for each loop iteration.\n",
    "# This is an implicit iterator created by XXX for loop.\n",
    "# The next() method returns the next value from the iterator. When there are no more values, it raises a StopIteration exception.\n",
    "\n",
    "# The iter() function creates an iterator object from an iterable object.\n",
    "# An iterable is an object that can return an iterator.\n",
    "# The iterator object has a next() method that returns the next value from the iterable.\n",
    "\n",
    "# Example\n",
    "myTuple = (\"apple\", \"banana\", \"cherry\")\n",
    "myIterator = iter(myTuple)\n",
    "\n",
    "print(next(myIterator))\n",
    "print(next(myIterator))"
   ]
  }
 ],
 "metadata": {
  "kernelspec": {
   "display_name": "base",
   "language": "python",
   "name": "python3"
  },
  "language_info": {
   "codemirror_mode": {
    "name": "ipython",
    "version": 3
   },
   "file_extension": ".py",
   "mimetype": "text/x-python",
   "name": "python",
   "nbconvert_exporter": "python",
   "pygments_lexer": "ipython3",
   "version": "3.9.6"
  }
 },
 "nbformat": 4,
 "nbformat_minor": 2
}
