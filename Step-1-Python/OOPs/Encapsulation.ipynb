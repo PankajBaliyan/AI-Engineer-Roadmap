{
 "cells": [
  {
   "cell_type": "code",
   "execution_count": 6,
   "metadata": {},
   "outputs": [
    {
     "name": "stdout",
     "output_type": "stream",
     "text": [
      "updating software\n",
      "driving\n",
      "updating software\n"
     ]
    }
   ],
   "source": [
    "# Encapsulation\n",
    "# Def : Encapsulation is the process of restricting access to methods and variables in a class in order to prevent direct access to them from outside the class.\n",
    "# In simple words, Encapsulation is the technique of making the fields in a class private and providing access to the fields via public methods.\n",
    "\n",
    "class Car:\n",
    "    def __init__(self):\n",
    "        self.__updateSoftware()\n",
    "\n",
    "    def drive(self):\n",
    "        print('driving')\n",
    "\n",
    "    def __updateSoftware(self):\n",
    "        print('updating software')\n",
    "\n",
    "redCar = Car()\n",
    "redCar.drive()\n",
    "# redCar.__updateSoftware() # This will result in error\n",
    "\n",
    "# Access private method\n",
    "redCar._Car__updateSoftware()\n",
    "\n",
    "# In the above example, we tried to access the method __updateSoftware() outside the class, and it resulted in an error.\n",
    "# Python performs name mangling of private variables. Every member with a double underscore will be changed to _object._class__variable. So, it can still be accessed from outside the class, but the practice should be refrained.\n",
    "\n",
    "# Private variables that cannot be accessed are created by using double underscore __ in front of the variable name.\n",
    "# Private methods that cannot be accessed are created by using double underscore __ in front of the method name.\n",
    "# Python protects those members by internally changing the name to include the class name. You can access such members as object._class__variable.\n",
    "\n",
    "# Encapsulation prevents from accessing accidentally, but not intentionally. Encapsulation also helps in reducing the coupling of the code."
   ]
  }
 ],
 "metadata": {
  "kernelspec": {
   "display_name": "base",
   "language": "python",
   "name": "python3"
  },
  "language_info": {
   "codemirror_mode": {
    "name": "ipython",
    "version": 3
   },
   "file_extension": ".py",
   "mimetype": "text/x-python",
   "name": "python",
   "nbconvert_exporter": "python",
   "pygments_lexer": "ipython3",
   "version": "3.9.6"
  }
 },
 "nbformat": 4,
 "nbformat_minor": 2
}
