{
 "cells": [
  {
   "cell_type": "code",
   "execution_count": 1,
   "metadata": {},
   "outputs": [
    {
     "name": "stdout",
     "output_type": "stream",
     "text": [
      "Name: John, Age: 30, Salary: 50000\n",
      "Name: Jane, Age: 25, Salary: 60000\n"
     ]
    }
   ],
   "source": [
    "# Object Oriented Programming (OOP) in Python\n",
    "\n",
    "class Employee:\n",
    "    def __init__(self, name, age, salary):\n",
    "        self.name = name\n",
    "        self.age = age\n",
    "        self.salary = salary\n",
    "\n",
    "    def work(self):\n",
    "        print(f\"{self.name} is working.\")\n",
    "\n",
    "    def get_salary(self):\n",
    "        return self.salary\n",
    "\n",
    "    def __str__(self):\n",
    "        return f\"Name: {self.name}, Age: {self.age}, Salary: {self.salary}\"\n",
    "\n",
    "    def __repr__(self):\n",
    "        return f\"Employee('{self.name}', {self.age}, {self.salary})\"\n",
    "\n",
    "emp1 = Employee(\"John\", 30, 50000)\n",
    "emp2 = Employee(\"Jane\", 25, 60000)\n",
    "\n",
    "print(emp1)  # Output: Name: John, Age: 30, Salary: 50000\n",
    "print(emp2)  # Output: Name: Jane, Age: 25, Salary: 60000\n",
    "\n",
    "# Concepts of object oriented programming\n",
    "# 1. Inheritance\n",
    "# 2. Encapsulation\n",
    "# 3. Polymorphism\n",
    "# 4. Abstraction\n"
   ]
  },
  {
   "metadata": {
    "ExecuteTime": {
     "end_time": "2024-12-05T19:07:56.437641Z",
     "start_time": "2024-12-05T19:07:56.432608Z"
    }
   },
   "cell_type": "code",
   "source": [
    "class AIModel:\n",
    "    def __init__(self, name, version):\n",
    "        self.name = name\n",
    "        self.version = version\n",
    "\n",
    "    def train(self):\n",
    "        print(f\"Training {self.name} v{self.version}...\")\n",
    "\n",
    "model = AIModel(\"NeuralNet\", \"1.0\")\n",
    "model.train()\n"
   ],
   "outputs": [
    {
     "name": "stdout",
     "output_type": "stream",
     "text": [
      "Training NeuralNet v1.0...\n"
     ]
    }
   ],
   "execution_count": 1
  }
 ],
 "metadata": {
  "kernelspec": {
   "display_name": "base",
   "language": "python",
   "name": "python3"
  },
  "language_info": {
   "codemirror_mode": {
    "name": "ipython",
    "version": 3
   },
   "file_extension": ".py",
   "mimetype": "text/x-python",
   "name": "python",
   "nbconvert_exporter": "python",
   "pygments_lexer": "ipython3",
   "version": "3.11.7"
  }
 },
 "nbformat": 4,
 "nbformat_minor": 2
}
