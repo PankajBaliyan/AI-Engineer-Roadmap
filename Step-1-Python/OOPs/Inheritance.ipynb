{
 "cells": [
  {
   "cell_type": "code",
   "execution_count": 2,
   "metadata": {},
   "outputs": [
    {
     "name": "stdout",
     "output_type": "stream",
     "text": [
      "Name: Bob, Age: 40, Salary: 80000, Department: Sales\n",
      "Bob is managing the Sales department.\n"
     ]
    }
   ],
   "source": [
    "# Inheritance\n",
    "\n",
    "# Base class\n",
    "class Employee:\n",
    "    def __init__(self, name, age, salary):\n",
    "        self.name = name\n",
    "        self.age = age\n",
    "        self.salary = salary\n",
    "\n",
    "    def work(self):\n",
    "        print(f\"{self.name} is working.\")\n",
    "\n",
    "    def __str__(self):\n",
    "        return f\"Name: {self.name}, Age: {self.age}, Salary: {self.salary}\"\n",
    "\n",
    "# Derived class\n",
    "class Manager(Employee):\n",
    "    def __init__(self, name, age, salary, department):\n",
    "        super().__init__(name, age, salary)\n",
    "        self.department = department\n",
    "\n",
    "    def manage(self):\n",
    "        print(f\"{self.name} is managing the {self.department} department.\")\n",
    "\n",
    "    def __str__(self):\n",
    "        return f\"Name: {self.name}, Age: {self.age}, Salary: {self.salary}, Department: {self.department}\"\n",
    "\n",
    "# Example usage\n",
    "manager1 = Manager(\"Bob\", 40, 80000, \"Sales\")\n",
    "print(manager1)  # Output: Name: Bob, Age: 40, Salary: 80000, Department: Sales\n",
    "manager1.manage()  # Output: Bob is managing the Sales department.\n",
    "\n",
    "\n",
    "# super() function : The super() function is used to call the constructor of the base class (superclass in other languages).\n",
    "# The super() function returns a temporary object of the superclass that allows you to call the superclass's methods.\n",
    "\n",
    "# self : The self parameter is a reference to the current instance of the class, and is used to access variables that belong to the class.\n",
    "\n",
    "# __str__() method : The __str__() method is called when you use the print() function on an object. It must return a string.\n",
    "# __init__() method : The __init__() method is a special method that is called when an object is created. It is used to initialize the object's state."
   ]
  }
 ],
 "metadata": {
  "kernelspec": {
   "display_name": "base",
   "language": "python",
   "name": "python3"
  },
  "language_info": {
   "codemirror_mode": {
    "name": "ipython",
    "version": 3
   },
   "file_extension": ".py",
   "mimetype": "text/x-python",
   "name": "python",
   "nbconvert_exporter": "python",
   "pygments_lexer": "ipython3",
   "version": "3.11.7"
  }
 },
 "nbformat": 4,
 "nbformat_minor": 2
}
