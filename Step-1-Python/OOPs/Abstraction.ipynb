{
 "cells": [
  {
   "cell_type": "code",
   "execution_count": 1,
   "metadata": {},
   "outputs": [
    {
     "name": "stdout",
     "output_type": "stream",
     "text": [
      "Dog: Bark and Run\n",
      "Bird: Chirp and Fly\n"
     ]
    }
   ],
   "source": [
    "# Abstraction\n",
    "# Definition: Abstraction is the concept of object-oriented programming that \"shows\" only essential attributes and \"hides\" unnecessary information.\n",
    "# Abstraction can be achieved by using abstract classes and interfaces in Python.\n",
    "\n",
    "# Example: Abstraction in Python using abstract classes and interfaces\n",
    "\n",
    "from abc import ABC, abstractmethod\n",
    "\n",
    "# Abstract base class\n",
    "class Animal(ABC):\n",
    "    @abstractmethod\n",
    "    def make_sound(self):\n",
    "        pass\n",
    "\n",
    "    @abstractmethod\n",
    "    def move(self):\n",
    "        pass\n",
    "\n",
    "# Concrete class\n",
    "class Dog(Animal):\n",
    "    def make_sound(self):\n",
    "        return \"Bark\"\n",
    "\n",
    "    def move(self):\n",
    "        return \"Run\"\n",
    "\n",
    "# Concrete class\n",
    "class Bird(Animal):\n",
    "    def make_sound(self):\n",
    "        return \"Chirp\"\n",
    "\n",
    "    def move(self):\n",
    "        return \"Fly\"\n",
    "\n",
    "# Example usage\n",
    "dog = Dog()\n",
    "bird = Bird()\n",
    "\n",
    "print(f\"Dog: {dog.make_sound()} and {dog.move()}\")\n",
    "print(f\"Bird: {bird.make_sound()} and {bird.move()}\")"
   ]
  }
 ],
 "metadata": {
  "kernelspec": {
   "display_name": "base",
   "language": "python",
   "name": "python3"
  },
  "language_info": {
   "codemirror_mode": {
    "name": "ipython",
    "version": 3
   },
   "file_extension": ".py",
   "mimetype": "text/x-python",
   "name": "python",
   "nbconvert_exporter": "python",
   "pygments_lexer": "ipython3",
   "version": "3.11.7"
  }
 },
 "nbformat": 4,
 "nbformat_minor": 2
}
