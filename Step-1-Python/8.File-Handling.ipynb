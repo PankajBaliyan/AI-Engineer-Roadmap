{
 "cells": [
  {
   "metadata": {},
   "cell_type": "markdown",
   "source": "# File Handling",
   "id": "ec9f2a14a237a1b3"
  },
  {
   "cell_type": "code",
   "id": "initial_id",
   "metadata": {
    "collapsed": true,
    "ExecuteTime": {
     "end_time": "2024-12-05T19:02:56.715096Z",
     "start_time": "2024-12-05T19:02:56.709768Z"
    }
   },
   "source": [
    "# Opening a File:\n",
    "\n",
    "# Use the open() function to open a file:\n",
    "# The mode argument specifies how the file will be opened:\n",
    "# \"r\": Read mode (default)\n",
    "# \"w\": Write mode (creates a new file or overwrites an existing one)\n",
    "# \"a\": Append mode (adds to the end of an existing file)\n",
    "# \"x\": Create mode (raises an error if the file already exists)\n",
    "\n",
    "file = open(\"filename.txt\", \"w\")"
   ],
   "outputs": [],
   "execution_count": 26
  },
  {
   "metadata": {
    "ExecuteTime": {
     "end_time": "2024-12-05T19:02:08.037432Z",
     "start_time": "2024-12-05T19:02:08.033854Z"
    }
   },
   "cell_type": "code",
   "source": [
    "# Reading from a File:\n",
    "\n",
    "# Use the read() method to read the entire contents of the file:\n",
    "content = file.read()\n",
    "print(content)"
   ],
   "id": "60f654419f7dd2b6",
   "outputs": [
    {
     "name": "stdout",
     "output_type": "stream",
     "text": [
      "My name is pankaj\n",
      "hello world\n"
     ]
    }
   ],
   "execution_count": 21
  },
  {
   "metadata": {
    "ExecuteTime": {
     "end_time": "2024-12-05T19:02:15.922264Z",
     "start_time": "2024-12-05T19:02:15.915330Z"
    }
   },
   "cell_type": "code",
   "source": [
    "# Use the readline() method to read one line at a time:\n",
    "line = file.readline()\n",
    "print(line)"
   ],
   "id": "83c93159f1f38495",
   "outputs": [
    {
     "name": "stdout",
     "output_type": "stream",
     "text": [
      "\n"
     ]
    }
   ],
   "execution_count": 23
  },
  {
   "metadata": {
    "ExecuteTime": {
     "end_time": "2024-12-05T19:02:21.912595Z",
     "start_time": "2024-12-05T19:02:21.909241Z"
    }
   },
   "cell_type": "code",
   "source": [
    "# Use a for loop to read lines iteratively:\n",
    "for line in file:\n",
    "    print(line)"
   ],
   "id": "beb578f76301662e",
   "outputs": [],
   "execution_count": 24
  },
  {
   "metadata": {
    "ExecuteTime": {
     "end_time": "2024-12-05T19:03:01.711920Z",
     "start_time": "2024-12-05T19:03:01.705774Z"
    }
   },
   "cell_type": "code",
   "source": [
    "# Writing to a File:\n",
    "file.write(\"Hello, world!\")"
   ],
   "id": "457cbc4c45dfb288",
   "outputs": [
    {
     "data": {
      "text/plain": [
       "13"
      ]
     },
     "execution_count": 27,
     "metadata": {},
     "output_type": "execute_result"
    }
   ],
   "execution_count": 27
  },
  {
   "metadata": {
    "ExecuteTime": {
     "end_time": "2024-12-05T19:03:56.830793Z",
     "start_time": "2024-12-05T19:03:56.821250Z"
    }
   },
   "cell_type": "code",
   "source": [
    "# Closing a File:\n",
    "\n",
    "# Use the close() method to close the file:\n",
    "\n",
    "file.close()"
   ],
   "id": "8658ac4f7312ff0b",
   "outputs": [],
   "execution_count": 28
  },
  {
   "metadata": {
    "ExecuteTime": {
     "end_time": "2024-12-05T19:04:00.324130Z",
     "start_time": "2024-12-05T19:04:00.315232Z"
    }
   },
   "cell_type": "code",
   "source": [
    "# Create a file and write to it\n",
    "file = open(\"my_file.txt\", \"w\")\n",
    "file.write(\"This is the first line.\\n\")\n",
    "file.write(\"This is the second line.\")\n",
    "file.close()\n",
    "\n",
    "# Read the file\n",
    "file = open(\"my_file.txt\", \"r\")\n",
    "content = file.read()\n",
    "print(content)\n",
    "file.close()"
   ],
   "id": "fc63bb3a691c7bd",
   "outputs": [
    {
     "name": "stdout",
     "output_type": "stream",
     "text": [
      "This is the first line.\n",
      "This is the second line.\n"
     ]
    }
   ],
   "execution_count": 29
  },
  {
   "metadata": {
    "ExecuteTime": {
     "end_time": "2024-12-05T19:05:43.343465Z",
     "start_time": "2024-12-05T19:05:43.329193Z"
    }
   },
   "cell_type": "code",
   "source": [
    "# A more convenient way to work with files is using the with statement:\n",
    "# The with statement automatically closes the file when the block ends, ensuring proper resource management.\n",
    "\n",
    "with open(\"my_file.txt\", \"r\") as file:\n",
    "    content = file.read()\n",
    "    print(content)"
   ],
   "id": "65a5f38f79447f43",
   "outputs": [
    {
     "name": "stdout",
     "output_type": "stream",
     "text": [
      "This is the first line.\n",
      "This is the second line.\n"
     ]
    }
   ],
   "execution_count": 30
  }
 ],
 "metadata": {
  "kernelspec": {
   "display_name": "Python 3",
   "language": "python",
   "name": "python3"
  },
  "language_info": {
   "codemirror_mode": {
    "name": "ipython",
    "version": 2
   },
   "file_extension": ".py",
   "mimetype": "text/x-python",
   "name": "python",
   "nbconvert_exporter": "python",
   "pygments_lexer": "ipython2",
   "version": "2.7.6"
  }
 },
 "nbformat": 4,
 "nbformat_minor": 5
}
