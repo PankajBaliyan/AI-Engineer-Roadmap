{
  "cells": [
    {
      "cell_type": "markdown",
      "source": [
        "**Python Tuples: Immutable Sequences**\n",
        "\n",
        "Python tuples are ordered, immutable sequences of elements. They are similar to lists, but they are enclosed in parentheses `()` instead of square brackets `[]`. Once a tuple is created, its elements cannot be changed.\n",
        "\n",
        "**Key Concepts:**\n",
        "\n",
        "1. **Creating a Tuple:**\n",
        "   - Use parentheses `()` to enclose elements:"
      ],
      "metadata": {
        "id": "X3L0bSp_If9X"
      }
    },
    {
      "cell_type": "code",
      "source": [
        "my_tuple = (1, 2, 3, \"apple\", \"banana\")"
      ],
      "outputs": [],
      "execution_count": null,
      "metadata": {
        "id": "9Sj7_K2fIf9f"
      }
    },
    {
      "cell_type": "markdown",
      "source": [
        "- Without parentheses, Python automatically creates a tuple:"
      ],
      "metadata": {
        "id": "VqeDqmeBIf9g"
      }
    },
    {
      "cell_type": "code",
      "source": [
        "my_tuple = 1, 2, 3  # Tuple of (1, 2, 3)"
      ],
      "outputs": [],
      "execution_count": null,
      "metadata": {
        "id": "gtz-L5OoIf9g"
      }
    },
    {
      "cell_type": "markdown",
      "source": [
        "2. **Accessing Elements:**\n",
        "   - Use indexing, similar to lists:"
      ],
      "metadata": {
        "id": "0dXPmZGlIf9g"
      }
    },
    {
      "cell_type": "code",
      "source": [
        "first_element = my_tuple[0]  # 1\n",
        "     last_element = my_tuple[-1]  # \"banana\""
      ],
      "outputs": [],
      "execution_count": null,
      "metadata": {
        "id": "WyHkl-TBIf9g"
      }
    },
    {
      "cell_type": "markdown",
      "source": [
        "3. **Tuple Immutability:**\n",
        "   - You cannot modify elements of a tuple:"
      ],
      "metadata": {
        "id": "0YxLG5qRIf9h"
      }
    },
    {
      "cell_type": "code",
      "source": [
        "my_tuple[1] = 4  # This will raise a TypeError"
      ],
      "outputs": [],
      "execution_count": null,
      "metadata": {
        "id": "rNux_y50If9h"
      }
    },
    {
      "cell_type": "markdown",
      "source": [
        "4. **Tuple Operations:**\n",
        "   - **Length:** `len(my_tuple)`\n",
        "   - **Concatenation:** `tuple1 + tuple2`\n",
        "   - **Repetition:** `tuple * n`\n",
        "   - **Membership Testing:** `item in my_tuple`\n",
        "   - **Iterating:**"
      ],
      "metadata": {
        "id": "baQbozDiIf9h"
      }
    },
    {
      "cell_type": "code",
      "source": [
        "for item in my_tuple:\n",
        "         print(item)"
      ],
      "outputs": [],
      "execution_count": null,
      "metadata": {
        "id": "FNddQwR3If9h"
      }
    },
    {
      "cell_type": "markdown",
      "source": [
        "**Example:**"
      ],
      "metadata": {
        "id": "l-CbVMxYIf9h"
      }
    },
    {
      "cell_type": "code",
      "source": [
        "my_tuple = (10, 20, 30, 40, 50)\n",
        "\n",
        "# Accessing elements\n",
        "print(my_tuple[2])  # Output: 30\n",
        "\n",
        "# Iterating over elements\n",
        "for item in my_tuple:\n",
        "    print(item)\n",
        "\n",
        "# Concatenating tuples\n",
        "tuple1 = (1, 2, 3)\n",
        "tuple2 = (4, 5, 6)\n",
        "print(tuple1 + tuple2)  # Output: (1, 2, 3, 4, 5, 6)\n",
        "\n",
        "# Checking membership\n",
        "print(30 in my_tuple)  # Output: True"
      ],
      "outputs": [],
      "execution_count": null,
      "metadata": {
        "id": "aBT-SpcsIf9h"
      }
    },
    {
      "cell_type": "markdown",
      "source": [
        "**Key Points to Remember:**\n",
        "\n",
        "- Tuples are immutable, making them suitable for representing fixed data structures.\n",
        "- Tuples can be used as keys in dictionaries due to their immutability.\n",
        "- Tuples are often used to return multiple values from a function.\n",
        "- While tuples are immutable, you can create new tuples by combining or slicing existing ones.\n",
        "\n",
        "By understanding these concepts and practicing with tuple operations, you can effectively use tuples to store and manipulate data in your Python programs."
      ],
      "metadata": {
        "id": "c-eowLNsIf9h"
      }
    }
  ],
  "metadata": {
    "colab": {
      "provenance": []
    },
    "kernelspec": {
      "display_name": "Python 3",
      "name": "python3"
    }
  },
  "nbformat": 4,
  "nbformat_minor": 0
}