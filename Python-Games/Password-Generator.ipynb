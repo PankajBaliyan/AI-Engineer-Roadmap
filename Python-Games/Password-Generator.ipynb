{
 "cells": [
  {
   "cell_type": "code",
   "execution_count": 5,
   "metadata": {},
   "outputs": [
    {
     "name": "stdout",
     "output_type": "stream",
     "text": [
      "Welcome to the Password Generator!\n",
      "Password without shuffle : Q3!\n",
      "Your password is: Q!3\n"
     ]
    }
   ],
   "source": [
    "# Password Generator\n",
    "import random\n",
    "\n",
    "letters = 'abcdefghijklmnopqrstuvwxyzABCDEFGHIJKLMNOPQRSTUVWXYZ'\n",
    "numbers = '0123456789'\n",
    "symbols = '!@#$%^&*()_+'\n",
    "password = ''\n",
    "\n",
    "print('Welcome to the Password Generator!')\n",
    "total_letters = int(input('How many letters would you like in your password?\\n'))\n",
    "total_numbers = int(input('How many numbers would you like in your password?\\n'))\n",
    "total_symbols = int(input('How many symbols would you like in your password?\\n'))\n",
    "\n",
    "for i in range(total_letters):\n",
    "    password += random.choice(letters)\n",
    "    # random.choice = choose a random element from the non-empty sequence\n",
    "    i += 1\n",
    "    if i == total_letters:\n",
    "        break\n",
    "    else:\n",
    "        continue\n",
    "\n",
    "for i in range(total_numbers):\n",
    "    password += random.choice(numbers)\n",
    "    i += 1\n",
    "    if i == total_numbers:\n",
    "        break\n",
    "    else:\n",
    "        continue\n",
    "\n",
    "for i in range(total_symbols):\n",
    "    password += random.choice(symbols)\n",
    "    i += 1\n",
    "    if i == total_symbols:\n",
    "        break\n",
    "    else:\n",
    "        continue\n",
    "\n",
    "print(f'Password without shuffle : {password}')\n",
    "password = ''.join(random.sample(password, len(password)))\n",
    "# random.sample = return a new list containing elements from the population while leaving the original population unchanged\n",
    "print(f'Your password is: {password}')"
   ]
  }
 ],
 "metadata": {
  "kernelspec": {
   "display_name": "base",
   "language": "python",
   "name": "python3"
  },
  "language_info": {
   "codemirror_mode": {
    "name": "ipython",
    "version": 3
   },
   "file_extension": ".py",
   "mimetype": "text/x-python",
   "name": "python",
   "nbconvert_exporter": "python",
   "pygments_lexer": "ipython3",
   "version": "3.11.7"
  }
 },
 "nbformat": 4,
 "nbformat_minor": 2
}
