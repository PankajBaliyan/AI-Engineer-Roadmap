{
 "cells": [
  {
   "cell_type": "code",
   "execution_count": 33,
   "metadata": {},
   "outputs": [
    {
     "name": "stdout",
     "output_type": "stream",
     "text": [
      "Chosen word: noah wright\n",
      "Correct letters: ['_', '_', '_', '_', '_', '_', '_', '_', '_', '_', '_']\n",
      "Correct letters: ['_', '_', '_', '_', '_', '_', 'r', '_', '_', '_', '_']\n",
      "Correct letters: ['_', '_', '_', '_', '_', '_', 'r', 'i', '_', '_', '_']\n",
      "Correct letters: ['_', '_', '_', '_', '_', '_', 'r', 'i', 'g', '_', '_']\n",
      "Correct letters: ['_', '_', '_', 'h', '_', '_', 'r', 'i', 'g', 'h', '_']\n",
      "Correct letters: ['_', '_', '_', 'h', '_', '_', 'r', 'i', 'g', 'h', 't']\n",
      "Correct letters: ['n', '_', '_', 'h', '_', '_', 'r', 'i', 'g', 'h', 't']\n",
      "Correct letters: ['n', '_', '_', 'h', '_', '_', 'r', 'i', 'g', 'h', 't']\n",
      "Incorrect letter.\n",
      "Correct letters: ['n', 'o', '_', 'h', '_', '_', 'r', 'i', 'g', 'h', 't']\n",
      "Correct letters: ['n', 'o', 'a', 'h', '_', '_', 'r', 'i', 'g', 'h', 't']\n",
      "Correct letters: ['n', 'o', 'a', 'h', ' ', '_', 'r', 'i', 'g', 'h', 't']\n",
      "Correct letters: ['n', 'o', 'a', 'h', ' ', 'w', 'r', 'i', 'g', 'h', 't']\n"
     ]
    }
   ],
   "source": [
    "# word guessing\n",
    "\n",
    "import random\n",
    "\n",
    "# Word dictionary\n",
    "stored_words = [\"Amelia Rose\", \"Kai Parker\", \"Elena Rivera\", \"Liam Davies\", \"Zahra Khan\", \"Ethan Mitchell\", \"Maya Patel\", \"Noah Jones\", \"Sophia Garcia\", \"Benjamin Miller\", \"Evelyn Taylor\", \"Lucas Hernandez\", \"Chloe Lee\", \"Logan Johnson\", \"Olivia Williams\", \"Alexander Brown\", \"Ava Thompson\", \"William Evans\", \"Isabella Wilson\", \"Matthew Moore\", \"Riley Clark\", \"Luna Hernandez\", \"Elijah Walker\", \"Scarlett Lewis\", \"Michael Robinson\", \"Harper Martin\", \"Aiden Young\", \"Charlotte Jones\", \"Daniel Garcia\", \"Mia Garcia\", \"Caleb Wright\", \"Evelyn Hall\", \"Christopher Allen\", \"Amelia Ramirez\", \"Jack Hernandez\", \"Evelyn King\", \"David Moore\", \"Aurora Gonzalez\", \"James Miller\", \"Penelope Lopez\", \"Andrew Lewis\", \"Riley Thomas\", \"Noah Young\", \"Luna Wilson\", \"Ethan Garcia\", \"Evelyn Moore\", \"Benjamin Robinson\", \"Aurora Brown\", \"Lucas Walker\", \"Penelope Ramirez\", \"Alexander Thompson\", \"Evelyn Hernandez\", \"Luna Lopez\", \"Ethan King\", \"Evelyn Robinson\", \"William Moore\", \"Aurora Young\", \"Matthew Hernandez\", \"Penelope Garcia\", \"Aiden Miller\", \"Luna Lewis\", \"Elijah Robinson\", \"Scarlett Wright\", \"Michael Young\", \"Harper Allen\", \"Caleb Walker\", \"Evelyn Jones\", \"Christopher Thompson\", \"Luna Moore\", \"William Robinson\", \"Aurora King\", \"Matthew Lewis\", \"Penelope Brown\", \"Riley Wilson\", \"Noah Wright\", \"Ethan Moore\", \"Evelyn Allen\", \"Aurora Hernandez\", \"Lucas King\", \"Alexander Walker\", \"Evelyn Thompson\", \"Christopher Lewis\", \"Luna Brown\", \"Ethan Young\", \"Aurora Miller\", \"Scarlett Hernandez\", \"Michael Allen\", \"Harper Wright\", \"Caleb King\", \"Evelyn Lopez\"]\n",
    "\n",
    "# Choose random word from dictionary\n",
    "word = random.choice(stored_words)\n",
    "word = word.lower()\n",
    "\n",
    "print(f\"Chosen word: {word}\")\n",
    "\n",
    "# Create a list to store the correct letters and fill it with underscores\n",
    "correct_letters = []\n",
    "\n",
    "for letter in word:\n",
    "    correct_letters.append('_')\n",
    "\n",
    "print(f\"Correct letters: {correct_letters}\")\n",
    "\n",
    "# Takes user input and checks if it's a correct letter\n",
    "def check_letter():\n",
    "    letter = input(\"Enter a letter: \").lower()\n",
    "    if letter in word:\n",
    "        for i in range(len(word)):\n",
    "            if word[i] == letter:\n",
    "                correct_letters[i] = letter\n",
    "        print(f\"Correct letters: {correct_letters}\")\n",
    "    else:\n",
    "        print(\"Incorrect letter.\")\n",
    "\n",
    "# Main loop\n",
    "while '_' in correct_letters:\n",
    "    check_letter()\n"
   ]
  }
 ],
 "metadata": {
  "kernelspec": {
   "display_name": "base",
   "language": "python",
   "name": "python3"
  },
  "language_info": {
   "codemirror_mode": {
    "name": "ipython",
    "version": 3
   },
   "file_extension": ".py",
   "mimetype": "text/x-python",
   "name": "python",
   "nbconvert_exporter": "python",
   "pygments_lexer": "ipython3",
   "version": "3.11.7"
  }
 },
 "nbformat": 4,
 "nbformat_minor": 2
}
